{
 "cells": [
  {
   "cell_type": "code",
   "execution_count": 5,
   "id": "603f4cd5",
   "metadata": {},
   "outputs": [],
   "source": [
    "import numpy as np\n",
    "my_array = np.array([1,2,3,4,5,6,7,8,9,10])\n",
    "print(my_array)"
   ]
  },
  {
   "cell_type": "code",
   "execution_count": 7,
   "id": "758f3795",
   "metadata": {},
   "outputs": [
    {
     "data": {
      "text/plain": [
       "numpy.ndarray"
      ]
     },
     "execution_count": 7,
     "metadata": {},
     "output_type": "execute_result"
    }
   ],
   "source": [
    "type(np.arange(10))\n"
   ]
  },
  {
   "cell_type": "code",
   "execution_count": 9,
   "id": "a2fce1c0",
   "metadata": {},
   "outputs": [
    {
     "data": {
      "text/plain": [
       "array([1, 2, 3])"
      ]
     },
     "execution_count": 9,
     "metadata": {},
     "output_type": "execute_result"
    }
   ],
   "source": [
    "array_1d = np.array([1,2,3])\n",
    "array_1d"
   ]
  },
  {
   "cell_type": "code",
   "execution_count": 12,
   "id": "f75624ca",
   "metadata": {},
   "outputs": [
    {
     "data": {
      "text/plain": [
       "array([[1, 2, 3],\n",
       "       [4, 5, 6]])"
      ]
     },
     "execution_count": 12,
     "metadata": {},
     "output_type": "execute_result"
    }
   ],
   "source": [
    "array_2d = np.array([[1,2,3], [4,5,6]])\n",
    "array_2d"
   ]
  },
  {
   "cell_type": "code",
   "execution_count": 14,
   "id": "3da7fc0a",
   "metadata": {},
   "outputs": [
    {
     "data": {
      "text/plain": [
       "array([1., 1., 1., 1., 1., 1., 1., 1., 1., 1.])"
      ]
     },
     "execution_count": 14,
     "metadata": {},
     "output_type": "execute_result"
    }
   ],
   "source": [
    "array_1d_uns = np.ones(10)\n",
    "array_1d_uns"
   ]
  },
  {
   "cell_type": "code",
   "execution_count": 21,
   "id": "214598c9",
   "metadata": {},
   "outputs": [
    {
     "data": {
      "text/plain": [
       "array([[[1., 1., 1.],\n",
       "        [1., 1., 1.]],\n",
       "\n",
       "       [[1., 1., 1.],\n",
       "        [1., 1., 1.]]])"
      ]
     },
     "execution_count": 21,
     "metadata": {},
     "output_type": "execute_result"
    }
   ],
   "source": [
    "array_2d_uns = np.ones([2,2,3])\n",
    "array_2d_uns "
   ]
  },
  {
   "cell_type": "markdown",
   "id": "f22745f2",
   "metadata": {},
   "source": [
    "# Exercícios de NUMPY\n",
    "## 1. Abra o Jupyter lab\n",
    "2. Crie um array data com a seguinte lista: [1,2,3,4,5,6,7,8,9,10,11,1\n",
    "2,13,14,15,16]\n"
   ]
  },
  {
   "cell_type": "code",
   "execution_count": 22,
   "id": "c933abd4",
   "metadata": {},
   "outputs": [],
   "source": [
    "array_1 = np.array([1,2,3,4,5,6,7,8,9,10,11,12,13,14,15])\n",
    "array_1 "
   ]
  },
  {
   "cell_type": "code",
   "execution_count": 23,
   "id": "edbb41dd",
   "metadata": {},
   "outputs": [],
   "source": [
    "#ou"
   ]
  },
  {
   "cell_type": "code",
   "execution_count": 24,
   "id": "74dcb86c",
   "metadata": {},
   "outputs": [
    {
     "data": {
      "text/plain": [
       "array([ 0,  1,  2,  3,  4,  5,  6,  7,  8,  9, 10, 11, 12, 13, 14, 15])"
      ]
     },
     "execution_count": 24,
     "metadata": {},
     "output_type": "execute_result"
    }
   ],
   "source": [
    "array_1 = np.arange(16)\n",
    "array_1 "
   ]
  },
  {
   "cell_type": "markdown",
   "id": "9b21068d",
   "metadata": {},
   "source": [
    "3. Selecione apenas os dados diferentes de 4,6,8,10. Aloque em um \n",
    "array chamado data_2."
   ]
  },
  {
   "cell_type": "code",
   "execution_count": 1,
   "id": "9fb18dfe",
   "metadata": {
    "scrolled": true
   },
   "outputs": [
    {
     "ename": "NameError",
     "evalue": "name 'np' is not defined",
     "output_type": "error",
     "traceback": [
      "\u001b[1;31m---------------------------------------------------------------------------\u001b[0m",
      "\u001b[1;31mNameError\u001b[0m                                 Traceback (most recent call last)",
      "\u001b[1;32m~\\AppData\\Local\\Temp\\ipykernel_4668\\2144838107.py\u001b[0m in \u001b[0;36m<module>\u001b[1;34m\u001b[0m\n\u001b[1;32m----> 1\u001b[1;33m \u001b[0mexcluidos\u001b[0m \u001b[1;33m=\u001b[0m \u001b[0mnp\u001b[0m\u001b[1;33m.\u001b[0m\u001b[0marange\u001b[0m\u001b[1;33m(\u001b[0m\u001b[1;36m4\u001b[0m\u001b[1;33m,\u001b[0m\u001b[1;36m11\u001b[0m\u001b[1;33m,\u001b[0m\u001b[1;36m2\u001b[0m\u001b[1;33m)\u001b[0m\u001b[1;33m\u001b[0m\u001b[1;33m\u001b[0m\u001b[0m\n\u001b[0m\u001b[0;32m      2\u001b[0m \u001b[0mexcluidos\u001b[0m\u001b[1;33m\u001b[0m\u001b[1;33m\u001b[0m\u001b[0m\n",
      "\u001b[1;31mNameError\u001b[0m: name 'np' is not defined"
     ]
    }
   ],
   "source": [
    "excluidos = np.arange(4,11,2)\n",
    "excluidos"
   ]
  },
  {
   "cell_type": "code",
   "execution_count": 33,
   "id": "7801033c",
   "metadata": {},
   "outputs": [
    {
     "data": {
      "text/plain": [
       "array([ 0,  1,  2,  3,  5,  7,  9, 11, 12, 13, 14, 15])"
      ]
     },
     "execution_count": 33,
     "metadata": {},
     "output_type": "execute_result"
    }
   ],
   "source": [
    "data_2 = array_1[[elemento not in excluidos for elemento in array_1]] \n",
    "data_2"
   ]
  },
  {
   "cell_type": "markdown",
   "id": "d1967a7d",
   "metadata": {},
   "source": [
    "4. Crie um array dim2 que tenha 2 dimensões e a lista [1,2,3,4,5] na \n",
    "primeira linha e a lista [6,7,8,9,10] na 2a linha.\n"
   ]
  },
  {
   "cell_type": "code",
   "execution_count": 7,
   "id": "8586545f",
   "metadata": {},
   "outputs": [
    {
     "data": {
      "text/plain": [
       "array([[ 1,  2,  3,  4,  5],\n",
       "       [ 6,  7,  8,  9, 10]])"
      ]
     },
     "execution_count": 7,
     "metadata": {},
     "output_type": "execute_result"
    }
   ],
   "source": [
    "dim_2 = np.array([[1,2,3,4,5],[6,7,8,9,10]])\n",
    "dim_2"
   ]
  },
  {
   "cell_type": "markdown",
   "id": "08aff5c3",
   "metadata": {},
   "source": [
    "5. Crie um array chamado dim2_2 que seja uma fatia de dim2 e que \n",
    "contenha apenas os valores 3,4,8,9."
   ]
  },
  {
   "cell_type": "code",
   "execution_count": 8,
   "id": "61913c31",
   "metadata": {},
   "outputs": [
    {
     "data": {
      "text/plain": [
       "array([3, 4, 8, 9])"
      ]
     },
     "execution_count": 8,
     "metadata": {},
     "output_type": "execute_result"
    }
   ],
   "source": [
    "dim2_2 = dim_2 [[0,0,1,1],[2,3,2,3]]\n",
    "dim2_2 "
   ]
  },
  {
   "cell_type": "code",
   "execution_count": 37,
   "id": "4194146d",
   "metadata": {},
   "outputs": [
    {
     "data": {
      "text/plain": [
       "(2, 5)"
      ]
     },
     "execution_count": 37,
     "metadata": {},
     "output_type": "execute_result"
    }
   ],
   "source": [
    "dim_2.shape"
   ]
  },
  {
   "cell_type": "code",
   "execution_count": 39,
   "id": "3d63212a",
   "metadata": {},
   "outputs": [
    {
     "data": {
      "text/plain": [
       "2"
      ]
     },
     "execution_count": 39,
     "metadata": {},
     "output_type": "execute_result"
    }
   ],
   "source": [
    "len(dim_2)"
   ]
  },
  {
   "cell_type": "code",
   "execution_count": 40,
   "id": "d9ce6694",
   "metadata": {},
   "outputs": [
    {
     "data": {
      "text/plain": [
       "2"
      ]
     },
     "execution_count": 40,
     "metadata": {},
     "output_type": "execute_result"
    }
   ],
   "source": [
    "dim_2.ndim"
   ]
  },
  {
   "cell_type": "code",
   "execution_count": 41,
   "id": "a5bd9b74",
   "metadata": {},
   "outputs": [
    {
     "data": {
      "text/plain": [
       "10"
      ]
     },
     "execution_count": 41,
     "metadata": {},
     "output_type": "execute_result"
    }
   ],
   "source": [
    "dim_2.size"
   ]
  },
  {
   "cell_type": "markdown",
   "id": "5be96da4",
   "metadata": {},
   "source": [
    "# Numpy - Funções úteis"
   ]
  },
  {
   "cell_type": "markdown",
   "id": "2f935a5f",
   "metadata": {},
   "source": [
    "1. Abra o Jupyter lab\n",
    "2. Crie um array data com a seguinte lista: [1,2,3,4,5,6,7,8,9,10,11,12,13,14,15,16]\n",
    "3. Verifique a dimensão, a quantidade de elementos e a forma desse array."
   ]
  },
  {
   "cell_type": "code",
   "execution_count": 51,
   "id": "b0a902d4",
   "metadata": {},
   "outputs": [
    {
     "data": {
      "text/plain": [
       "array([ 1,  2,  3,  4,  5,  6,  7,  8,  9, 10, 11, 12, 13, 14, 15, 16])"
      ]
     },
     "execution_count": 51,
     "metadata": {},
     "output_type": "execute_result"
    }
   ],
   "source": [
    "my_array = np.array([1,2,3,4,5,6,7,8,9,10,11,12,13,14,15,16])\n",
    "my_array"
   ]
  },
  {
   "cell_type": "code",
   "execution_count": 52,
   "id": "a6ee682a",
   "metadata": {},
   "outputs": [
    {
     "data": {
      "text/plain": [
       "16"
      ]
     },
     "execution_count": 52,
     "metadata": {},
     "output_type": "execute_result"
    }
   ],
   "source": [
    "my_array.size"
   ]
  },
  {
   "cell_type": "code",
   "execution_count": 53,
   "id": "550bbe6a",
   "metadata": {},
   "outputs": [
    {
     "data": {
      "text/plain": [
       "1"
      ]
     },
     "execution_count": 53,
     "metadata": {},
     "output_type": "execute_result"
    }
   ],
   "source": [
    "my_array.ndim"
   ]
  },
  {
   "cell_type": "code",
   "execution_count": 54,
   "id": "9078a257",
   "metadata": {},
   "outputs": [
    {
     "data": {
      "text/plain": [
       "(16,)"
      ]
     },
     "execution_count": 54,
     "metadata": {},
     "output_type": "execute_result"
    }
   ],
   "source": [
    "my_array.shape"
   ]
  },
  {
   "cell_type": "markdown",
   "id": "018020a2",
   "metadata": {},
   "source": [
    "4. Crie um novo array chamado data2, com 4x4 elementos, aplicando a função reshape no array data.\n",
    "5. Verifique a dimensão, a quantidade de elementos e a forma desse array."
   ]
  },
  {
   "cell_type": "code",
   "execution_count": 56,
   "id": "58c9e3f8",
   "metadata": {},
   "outputs": [
    {
     "data": {
      "text/plain": [
       "array([[ 1,  2,  3,  4],\n",
       "       [ 5,  6,  7,  8],\n",
       "       [ 9, 10, 11, 12],\n",
       "       [13, 14, 15, 16]])"
      ]
     },
     "execution_count": 56,
     "metadata": {},
     "output_type": "execute_result"
    }
   ],
   "source": [
    "data2 = my_array.reshape((4,4))\n",
    "data2"
   ]
  },
  {
   "cell_type": "code",
   "execution_count": 57,
   "id": "ca362fc1",
   "metadata": {},
   "outputs": [
    {
     "name": "stdout",
     "output_type": "stream",
     "text": [
      "\n",
      "Dimensões:2\n",
      "Quantidade de elementos:16\n",
      "Formato do Array: (4, 4)\n",
      "\n"
     ]
    }
   ],
   "source": [
    "apelido = data2\n",
    "\n",
    "print(\n",
    "'''\n",
    "Dimensões:{}\n",
    "Quantidade de elementos:{}\n",
    "Formato do Array: {}\n",
    "'''.format(data2.ndim,data2.size,data2.shape)\n",
    "\n",
    ")"
   ]
  },
  {
   "cell_type": "markdown",
   "id": "52ff3be8",
   "metadata": {},
   "source": [
    "6. Crie um novo array chamado data_t, que seja a transposição do array data2."
   ]
  },
  {
   "cell_type": "code",
   "execution_count": 61,
   "id": "ddfa9045",
   "metadata": {},
   "outputs": [
    {
     "data": {
      "text/plain": [
       "array([[ 1,  5,  9, 13],\n",
       "       [ 2,  6, 10, 14],\n",
       "       [ 3,  7, 11, 15],\n",
       "       [ 4,  8, 12, 16]])"
      ]
     },
     "execution_count": 61,
     "metadata": {},
     "output_type": "execute_result"
    }
   ],
   "source": [
    "data_t = data2.transpose()\n",
    "data_t"
   ]
  },
  {
   "cell_type": "markdown",
   "id": "3ebcfdbc",
   "metadata": {},
   "source": [
    "7. Use a função np.flatten() e crie o array data_flat."
   ]
  },
  {
   "cell_type": "code",
   "execution_count": 64,
   "id": "a1f48be1",
   "metadata": {},
   "outputs": [
    {
     "data": {
      "text/plain": [
       "array([ 1,  2,  3,  4,  5,  6,  7,  8,  9, 10, 11, 12, 13, 14, 15, 16])"
      ]
     },
     "execution_count": 64,
     "metadata": {},
     "output_type": "execute_result"
    }
   ],
   "source": [
    "data_flat = data2.flatten()\n",
    "data_flat"
   ]
  },
  {
   "cell_type": "markdown",
   "id": "d327e586",
   "metadata": {},
   "source": [
    "8. Compare o array data com o array data_flat"
   ]
  },
  {
   "cell_type": "markdown",
   "id": "6f0d82f7",
   "metadata": {},
   "source": [
    "# Numpy - Operações com arrays\n",
    "##1. Abra o Jupyter lab\n",
    "2. Crie 5 arrays a, b, c, d e e com as seguintes listas:\n",
    "a. [7]\n",
    "b. [[4,6,8],[3,5,7]]\n",
    "c. [3,3,3]\n",
    "d. [[3,2,1],[1,2,3]]\n",
    "e. [5,10]\n",
    "\n",
    "4. O que aconteceu no item d) do último exercício? Explique."
   ]
  },
  {
   "cell_type": "code",
   "execution_count": 75,
   "id": "50f40210",
   "metadata": {},
   "outputs": [],
   "source": [
    "a = np.array([7])\n",
    "b = np.array([[4,6,8],[3,5,7]])\n",
    "c= np.array([3,3,3])\n",
    "d = np.array([[3,2,1],[1,2,3]])\n",
    "e = np.array([5,10])\n"
   ]
  },
  {
   "cell_type": "markdown",
   "id": "98ae0f2c",
   "metadata": {},
   "source": [
    "3. Faça as seguintes operações:\n",
    "a. a * b\n",
    "b. d - b\n",
    "c. c + b\n",
    "d. c + e"
   ]
  },
  {
   "cell_type": "code",
   "execution_count": 71,
   "id": "892337ee",
   "metadata": {},
   "outputs": [
    {
     "data": {
      "text/plain": [
       "array([[28, 42, 56],\n",
       "       [21, 35, 49]])"
      ]
     },
     "execution_count": 71,
     "metadata": {},
     "output_type": "execute_result"
    }
   ],
   "source": [
    "a * b"
   ]
  },
  {
   "cell_type": "code",
   "execution_count": 72,
   "id": "1bdb697d",
   "metadata": {},
   "outputs": [
    {
     "data": {
      "text/plain": [
       "array([[-1, -4, -7],\n",
       "       [-2, -3, -4]])"
      ]
     },
     "execution_count": 72,
     "metadata": {},
     "output_type": "execute_result"
    }
   ],
   "source": [
    "d-b"
   ]
  },
  {
   "cell_type": "code",
   "execution_count": 73,
   "id": "9150a2f6",
   "metadata": {},
   "outputs": [
    {
     "data": {
      "text/plain": [
       "array([[ 7,  9, 11],\n",
       "       [ 6,  8, 10]])"
      ]
     },
     "execution_count": 73,
     "metadata": {},
     "output_type": "execute_result"
    }
   ],
   "source": [
    "c+b"
   ]
  },
  {
   "cell_type": "code",
   "execution_count": 76,
   "id": "9ad7f67e",
   "metadata": {},
   "outputs": [
    {
     "ename": "ValueError",
     "evalue": "operands could not be broadcast together with shapes (3,) (2,) ",
     "output_type": "error",
     "traceback": [
      "\u001b[1;31m---------------------------------------------------------------------------\u001b[0m",
      "\u001b[1;31mValueError\u001b[0m                                Traceback (most recent call last)",
      "\u001b[1;32m~\\AppData\\Local\\Temp\\ipykernel_15700\\3298276228.py\u001b[0m in \u001b[0;36m<module>\u001b[1;34m\u001b[0m\n\u001b[1;32m----> 1\u001b[1;33m \u001b[0mc\u001b[0m\u001b[1;33m+\u001b[0m\u001b[0me\u001b[0m\u001b[1;33m\u001b[0m\u001b[1;33m\u001b[0m\u001b[0m\n\u001b[0m",
      "\u001b[1;31mValueError\u001b[0m: operands could not be broadcast together with shapes (3,) (2,) "
     ]
    }
   ],
   "source": [
    "c+e"
   ]
  },
  {
   "cell_type": "markdown",
   "id": "54285fbb",
   "metadata": {},
   "source": [
    "# Numpy - Funções e métodos matemáticos\n",
    "1. Abra o Jupyter lab\n",
    "2. Crie 2 arrays a e b com as seguintes listas:\n",
    "a. [[4,6,8],[3,5,7]]\n",
    "b. [[11,13,17],[23,29,31]]\n",
    "3. Use a função cbrt() e calcule a raiz cúbica dos arrays a e b.\n",
    "4. Calcule a soma cumulativa de a.\n",
    "5. Calcule a média de a e b.\n",
    "6. Aplique a função np.negative() no array b e soma com b. O que \n",
    "aconteceu?"
   ]
  },
  {
   "cell_type": "code",
   "execution_count": 77,
   "id": "68d49584",
   "metadata": {},
   "outputs": [],
   "source": [
    "a = np.array([[4,6,8],[3,5,7]])\n",
    "b = np.array([[11,13,17],[23,29,31]])"
   ]
  },
  {
   "cell_type": "code",
   "execution_count": 84,
   "id": "ac484573",
   "metadata": {},
   "outputs": [
    {
     "ename": "AttributeError",
     "evalue": "module 'numpy' has no attribute 'cbr'",
     "output_type": "error",
     "traceback": [
      "\u001b[1;31m---------------------------------------------------------------------------\u001b[0m",
      "\u001b[1;31mAttributeError\u001b[0m                            Traceback (most recent call last)",
      "\u001b[1;32m~\\AppData\\Local\\Temp\\ipykernel_15700\\225317943.py\u001b[0m in \u001b[0;36m<module>\u001b[1;34m\u001b[0m\n\u001b[1;32m----> 1\u001b[1;33m \u001b[0mc\u001b[0m \u001b[1;33m=\u001b[0m \u001b[0mnp\u001b[0m\u001b[1;33m.\u001b[0m\u001b[0mcbr\u001b[0m\u001b[1;33m(\u001b[0m\u001b[0ma\u001b[0m\u001b[1;33m)\u001b[0m\u001b[1;33m\u001b[0m\u001b[1;33m\u001b[0m\u001b[0m\n\u001b[0m\u001b[0;32m      2\u001b[0m \u001b[0mc\u001b[0m\u001b[1;33m\u001b[0m\u001b[1;33m\u001b[0m\u001b[0m\n",
      "\u001b[1;32m~\\anaconda3\\lib\\site-packages\\numpy\\__init__.py\u001b[0m in \u001b[0;36m__getattr__\u001b[1;34m(attr)\u001b[0m\n\u001b[0;32m    311\u001b[0m                 \u001b[1;32mreturn\u001b[0m \u001b[0mTester\u001b[0m\u001b[1;33m\u001b[0m\u001b[1;33m\u001b[0m\u001b[0m\n\u001b[0;32m    312\u001b[0m \u001b[1;33m\u001b[0m\u001b[0m\n\u001b[1;32m--> 313\u001b[1;33m             raise AttributeError(\"module {!r} has no attribute \"\n\u001b[0m\u001b[0;32m    314\u001b[0m                                  \"{!r}\".format(__name__, attr))\n\u001b[0;32m    315\u001b[0m \u001b[1;33m\u001b[0m\u001b[0m\n",
      "\u001b[1;31mAttributeError\u001b[0m: module 'numpy' has no attribute 'cbr'"
     ]
    }
   ],
   "source": [
    "c = np.cbr(a)\n",
    "c\n"
   ]
  },
  {
   "cell_type": "markdown",
   "id": "3cc3da5f",
   "metadata": {},
   "source": [
    "4. Calcule a soma cumulativa de a"
   ]
  },
  {
   "cell_type": "code",
   "execution_count": 86,
   "id": "4d8142fa",
   "metadata": {},
   "outputs": [
    {
     "data": {
      "text/plain": [
       "array([ 4, 10, 18, 21, 26, 33], dtype=int32)"
      ]
     },
     "execution_count": 86,
     "metadata": {},
     "output_type": "execute_result"
    }
   ],
   "source": [
    "np.cumsum(a)"
   ]
  },
  {
   "cell_type": "code",
   "execution_count": 88,
   "id": "206be268",
   "metadata": {},
   "outputs": [
    {
     "data": {
      "text/plain": [
       "20.666666666666668"
      ]
     },
     "execution_count": 88,
     "metadata": {},
     "output_type": "execute_result"
    }
   ],
   "source": [
    "np.average(b)"
   ]
  },
  {
   "cell_type": "code",
   "execution_count": 89,
   "id": "0ffa2e9b",
   "metadata": {},
   "outputs": [
    {
     "data": {
      "text/plain": [
       "5.5"
      ]
     },
     "execution_count": 89,
     "metadata": {},
     "output_type": "execute_result"
    }
   ],
   "source": [
    "np.average(a)"
   ]
  },
  {
   "cell_type": "code",
   "execution_count": 97,
   "id": "cf7cb4d1",
   "metadata": {},
   "outputs": [
    {
     "data": {
      "text/plain": [
       "5.5"
      ]
     },
     "execution_count": 97,
     "metadata": {},
     "output_type": "execute_result"
    }
   ],
   "source": [
    "d = np.mean(a)\n",
    "e = np.mean(b)\n",
    "f = (d+e)/2\n",
    "d"
   ]
  },
  {
   "cell_type": "code",
   "execution_count": 103,
   "id": "0a4da167",
   "metadata": {},
   "outputs": [
    {
     "name": "stdout",
     "output_type": "stream",
     "text": [
      "[4 6 8 3 5 7]\n",
      "[11 13 17 23 29 31]\n",
      "[11 13 17 23 29 31]\n"
     ]
    }
   ],
   "source": [
    "a = a.flatten()\n",
    "b = b.flatten()\n",
    "c = b.copy()\n",
    "\n",
    "print(a,b,c, sep=\"\\n\")"
   ]
  },
  {
   "cell_type": "code",
   "execution_count": 101,
   "id": "1967372f",
   "metadata": {},
   "outputs": [
    {
     "data": {
      "text/plain": [
       "array([ 4,  6,  8,  3,  5,  7, 11, 13, 17, 23, 29, 31, 11, 13, 17, 23, 29,\n",
       "       31])"
      ]
     },
     "execution_count": 101,
     "metadata": {},
     "output_type": "execute_result"
    }
   ],
   "source": [
    "np.concatenate((a,b,c))"
   ]
  },
  {
   "cell_type": "code",
   "execution_count": null,
   "id": "5fd702a0",
   "metadata": {},
   "outputs": [],
   "source": []
  }
 ],
 "metadata": {
  "kernelspec": {
   "display_name": "Python 3 (ipykernel)",
   "language": "python",
   "name": "python3"
  },
  "language_info": {
   "codemirror_mode": {
    "name": "ipython",
    "version": 3
   },
   "file_extension": ".py",
   "mimetype": "text/x-python",
   "name": "python",
   "nbconvert_exporter": "python",
   "pygments_lexer": "ipython3",
   "version": "3.9.13"
  }
 },
 "nbformat": 4,
 "nbformat_minor": 5
}
