{
 "cells": [
  {
   "cell_type": "markdown",
   "id": "063c7b42",
   "metadata": {},
   "source": [
    "# Aula 1: Introdução ao Python\n",
    "\n",
    "Para nossas aulas vamos utilizar o [Jupyter Notebook](https://pt.wikipedia.org/wiki/Projeto_Jupyter).\n",
    "\n",
    "Ele permite misturar blocos de código e texto, sendo ideal para redigir suas notas de aula. Além disso ele também permite executar pequenos blocos de código separadamente e verificar seu resultado na mesma hora.\n",
    "\n",
    "* [Clique aqui para saber mais do Jupyter Notebook](https://pt.wikipedia.org/wiki/Projeto_Jupyter)\n",
    "\n",
    "Nesta primeira aula o objetivo é ter o primeiro contato com a linguagem e entender o básico do que chamamos de sintaxe da linguagem. Entender como a linguagem funciona vai nos permitir criar análises cada vez mais complexas. Esse é o primeiro passo em direção à analises complexas. \n",
    "\n",
    "## Primeiros passos\n",
    "\n",
    "Dados são armazenados na forma de variáveis. Para declarar uma variável basta escrever o nome da variável e colocar um símbolo de igual `=` antes do valor. É melhor dar nomes autoexplicativos que se relacionam a variável armazenada."
   ]
  },
  {
   "cell_type": "code",
   "execution_count": 1,
   "id": "8e23fdfb",
   "metadata": {},
   "outputs": [],
   "source": [
    "cargo = \"analista_de_dados\""
   ]
  },
  {
   "cell_type": "markdown",
   "id": "53a006dc",
   "metadata": {},
   "source": [
    "Ao selecionar um bloco com o mouse, aperte `Shift + Enter` ou `Ctrl + Enter` para rodar o código.\n",
    "\n",
    "Variáveis de texto (_string_) devem ser declaradas utilizando aspas simples `' '` ou duplas `\" \"`. Se você digitar `analista_de_dados` apenas, sem as aspas, o Python vai procurar na mémoria por uma variável chamada analista_de_dados, se você digitar `\"cargo\"` ela retorna um texto escrito \"analista_de_dados\".\n",
    "\n",
    "\n",
    "```\n",
    "Se tentar declarar algo como <cargo = analista_de_dados> um erro ocorrerá. Isso acontece pois omitimos as aspas, e ao invés de ler analista_de_dados como um texto (string), o Python busca por uma variável cujo nome é analista_de_dados.\n",
    "```\n",
    "\n",
    "Para acessar o valor guardado basta chamar novamente a variável."
   ]
  },
  {
   "cell_type": "code",
   "execution_count": 2,
   "id": "ef9ee100",
   "metadata": {},
   "outputs": [
    {
     "data": {
      "text/plain": [
       "'analista_de_dados'"
      ]
     },
     "execution_count": 2,
     "metadata": {},
     "output_type": "execute_result"
    }
   ],
   "source": [
    "cargo"
   ]
  },
  {
   "cell_type": "markdown",
   "id": "24b0c12f",
   "metadata": {},
   "source": [
    "```\n",
    "Tente dar nomes autoexplicativos para suas variáveis. Fazer isso de forma consistente deixa seu código mais intuitivo.\n",
    "```\n",
    "\n",
    "Você também pode usar underline (`_`) para o nome das suas variáveis."
   ]
  },
  {
   "cell_type": "code",
   "execution_count": 3,
   "id": "19214786",
   "metadata": {},
   "outputs": [
    {
     "data": {
      "text/plain": [
       "'gerente'"
      ]
     },
     "execution_count": 3,
     "metadata": {},
     "output_type": "execute_result"
    }
   ],
   "source": [
    "cargo_executivo = 'gerente'\n",
    "cargo_executivo"
   ]
  },
  {
   "cell_type": "markdown",
   "id": "1cb765b2",
   "metadata": {},
   "source": [
    "Existem palavras que chamamos de reservadas, elas tem funções especiais e não é possível atribuir valores a elas. Para conhecer essas palavras entre com o seguinte código:"
   ]
  },
  {
   "cell_type": "code",
   "execution_count": 4,
   "id": "1a24959f",
   "metadata": {},
   "outputs": [
    {
     "name": "stdout",
     "output_type": "stream",
     "text": [
      "['False', 'None', 'True', 'and', 'as', 'assert', 'async', 'await', 'break', 'class', 'continue', 'def', 'del', 'elif', 'else', 'except', 'finally', 'for', 'from', 'global', 'if', 'import', 'in', 'is', 'lambda', 'nonlocal', 'not', 'or', 'pass', 'raise', 'return', 'try', 'while', 'with', 'yield']\n"
     ]
    }
   ],
   "source": [
    "import keyword\n",
    "print(keyword.kwlist)"
   ]
  },
  {
   "cell_type": "markdown",
   "id": "4507d188",
   "metadata": {},
   "source": [
    "`False` (assim como `True`) fazem referência a um **valor lógico**, então não é possível atribuir (guardar) valores à palavras reservadas."
   ]
  },
  {
   "cell_type": "code",
   "execution_count": 5,
   "id": "fd98a7c2",
   "metadata": {},
   "outputs": [
    {
     "ename": "SyntaxError",
     "evalue": "cannot assign to False (<ipython-input-5-892860a61661>, line 1)",
     "output_type": "error",
     "traceback": [
      "\u001b[1;36m  File \u001b[1;32m\"<ipython-input-5-892860a61661>\"\u001b[1;36m, line \u001b[1;32m1\u001b[0m\n\u001b[1;33m    False = 10\u001b[0m\n\u001b[1;37m    ^\u001b[0m\n\u001b[1;31mSyntaxError\u001b[0m\u001b[1;31m:\u001b[0m cannot assign to False\n"
     ]
    }
   ],
   "source": [
    "False = 10"
   ]
  },
  {
   "cell_type": "markdown",
   "id": "3b5fdd55",
   "metadata": {},
   "source": [
    "Perceba que ao tentar atribuir valor a `False` obtemos um `SyntaxError` (erro de sintaxe). O mesmo aconteceria com qualquer outra palavra reservada, como `import` por exemplo.\n",
    "\n",
    "Você também **não pode começar o nome da sua variável com número...**"
   ]
  },
  {
   "cell_type": "code",
   "execution_count": 6,
   "id": "07f61fef",
   "metadata": {},
   "outputs": [
    {
     "ename": "SyntaxError",
     "evalue": "invalid syntax (<ipython-input-6-dd83d45c8ebc>, line 1)",
     "output_type": "error",
     "traceback": [
      "\u001b[1;36m  File \u001b[1;32m\"<ipython-input-6-dd83d45c8ebc>\"\u001b[1;36m, line \u001b[1;32m1\u001b[0m\n\u001b[1;33m    1nome_invalido = 0\u001b[0m\n\u001b[1;37m     ^\u001b[0m\n\u001b[1;31mSyntaxError\u001b[0m\u001b[1;31m:\u001b[0m invalid syntax\n"
     ]
    }
   ],
   "source": [
    "1nome_invalido = 0\n",
    "1nome_invalido"
   ]
  },
  {
   "cell_type": "markdown",
   "id": "10f1b787",
   "metadata": {},
   "source": [
    "... mas **pode usar números do segundo carácter em diante:**"
   ]
  },
  {
   "cell_type": "code",
   "execution_count": 7,
   "id": "859545c5",
   "metadata": {},
   "outputs": [
    {
     "data": {
      "text/plain": [
       "'coordenador'"
      ]
     },
     "execution_count": 7,
     "metadata": {},
     "output_type": "execute_result"
    }
   ],
   "source": [
    "cargo_02 = \"coordenador\"\n",
    "cargo_02"
   ]
  },
  {
   "cell_type": "markdown",
   "id": "835927d2",
   "metadata": {},
   "source": [
    "Python é case sensitive então `Cargo` e `cargo` são variáveis diferentes:"
   ]
  },
  {
   "cell_type": "code",
   "execution_count": 8,
   "id": "37de7916",
   "metadata": {},
   "outputs": [
    {
     "data": {
      "text/plain": [
       "'especialista em TI'"
      ]
     },
     "execution_count": 8,
     "metadata": {},
     "output_type": "execute_result"
    }
   ],
   "source": [
    "Cargo = \"especialista em TI\"\n",
    "Cargo"
   ]
  },
  {
   "cell_type": "code",
   "execution_count": 9,
   "id": "5578c718",
   "metadata": {},
   "outputs": [
    {
     "data": {
      "text/plain": [
       "'analista_de_dados'"
      ]
     },
     "execution_count": 9,
     "metadata": {},
     "output_type": "execute_result"
    }
   ],
   "source": [
    "cargo"
   ]
  },
  {
   "cell_type": "markdown",
   "id": "c6f66888",
   "metadata": {},
   "source": [
    "É possível atribuir um novo valor a uma variável existente:"
   ]
  },
  {
   "cell_type": "code",
   "execution_count": 10,
   "id": "1aae4695",
   "metadata": {},
   "outputs": [
    {
     "data": {
      "text/plain": [
       "'Analista de Dados Sênior'"
      ]
     },
     "execution_count": 10,
     "metadata": {},
     "output_type": "execute_result"
    }
   ],
   "source": [
    "cargo = \"Analista de Dados Sênior\"\n",
    "cargo"
   ]
  },
  {
   "cell_type": "markdown",
   "id": "83e0b3ae",
   "metadata": {},
   "source": [
    "Não é possível chamar variáveis que ainda não foram declaradas:"
   ]
  },
  {
   "cell_type": "code",
   "execution_count": 11,
   "id": "dd5fb646",
   "metadata": {},
   "outputs": [
    {
     "ename": "NameError",
     "evalue": "name 'chefe' is not defined",
     "output_type": "error",
     "traceback": [
      "\u001b[1;31m---------------------------------------------------------------------------\u001b[0m",
      "\u001b[1;31mNameError\u001b[0m                                 Traceback (most recent call last)",
      "\u001b[1;32m<ipython-input-11-e5546aa70b47>\u001b[0m in \u001b[0;36m<module>\u001b[1;34m\u001b[0m\n\u001b[1;32m----> 1\u001b[1;33m \u001b[0mchefe\u001b[0m\u001b[1;33m\u001b[0m\u001b[1;33m\u001b[0m\u001b[0m\n\u001b[0m",
      "\u001b[1;31mNameError\u001b[0m: name 'chefe' is not defined"
     ]
    }
   ],
   "source": [
    "chefe"
   ]
  },
  {
   "cell_type": "markdown",
   "id": "d4aabd04",
   "metadata": {},
   "source": [
    "## Tipos de variáveis\n",
    "\n",
    "Falar de tipos de variáveis é o mesmo que falar de **tipos de dados**. Elas são importantes pois cada tipo tem comportamentos diferentes, além de ocupar espaços diferentes na memória. Conhecendo os tipos de dados sabemos quais operações estão disponíveis além de permitir otimizar a alocação de memória.\n",
    "\n",
    "Tecnicamente falando, Python é uma linguagem dinamicamente e fortemente tipada. O que significa dizer que toda variável tem um tipo. Quase que sempre o Python adivinha qual o tipo pelo valor atribuído, mas sempre existe um tipo.\n",
    "\n",
    "Os tipos mais comumns são:\n",
    "\n",
    "* inteiro -- 1, 2, 10, -20 (int);\n",
    "* ponto flutuante -- 2.4, 3.14, 9000.01 (float);\n",
    "* string -- \"cafe\", \"friends\", \"anime\" (str);\n",
    "* números complexos -- 3 - 5j, -9 + 2.3j, 23.98 + 29.9j (complex);\n",
    "* booleanos -- False, True (bool);"
   ]
  },
  {
   "cell_type": "code",
   "execution_count": 12,
   "id": "fa22d895",
   "metadata": {},
   "outputs": [
    {
     "data": {
      "text/plain": [
       "4000"
      ]
     },
     "execution_count": 12,
     "metadata": {},
     "output_type": "execute_result"
    }
   ],
   "source": [
    "receitas = 4000\n",
    "receitas"
   ]
  },
  {
   "cell_type": "markdown",
   "id": "dd3f7198",
   "metadata": {},
   "source": [
    "Por exemplo, se eu atribuir `receitas = 4000`, o interpretador vai armazenar como inteiro.\n",
    "\n",
    "```\n",
    "Digite type(<variavel ou nome da variavel>) para descobrir o tipo da variável.\n",
    "```"
   ]
  },
  {
   "cell_type": "code",
   "execution_count": 13,
   "id": "c8349b49",
   "metadata": {},
   "outputs": [
    {
     "data": {
      "text/plain": [
       "int"
      ]
     },
     "execution_count": 13,
     "metadata": {},
     "output_type": "execute_result"
    }
   ],
   "source": [
    "type(receitas)"
   ]
  },
  {
   "cell_type": "markdown",
   "id": "67996f7a",
   "metadata": {},
   "source": [
    "Se eu incluir um ponto no final do número, ele entende que se trata de uma variável do tipo ponto flutante (número com casas decimais)."
   ]
  },
  {
   "cell_type": "code",
   "execution_count": 14,
   "id": "6d8bc8dc",
   "metadata": {},
   "outputs": [
    {
     "data": {
      "text/plain": [
       "2000.0"
      ]
     },
     "execution_count": 14,
     "metadata": {},
     "output_type": "execute_result"
    }
   ],
   "source": [
    "despesas = 2000.\n",
    "despesas"
   ]
  },
  {
   "cell_type": "code",
   "execution_count": 15,
   "id": "4ba9231c",
   "metadata": {},
   "outputs": [
    {
     "data": {
      "text/plain": [
       "float"
      ]
     },
     "execution_count": 15,
     "metadata": {},
     "output_type": "execute_result"
    }
   ],
   "source": [
    "type(despesas)"
   ]
  },
  {
   "cell_type": "markdown",
   "id": "cc3c0fdf",
   "metadata": {},
   "source": [
    "Ao realizar operações entre variáveis, o tipo resultado pode ser diferente dos tipos originais. É o que acontece por exemplo quando se divide um inteiro por outro número (inteiro ou ponto flutuante)"
   ]
  },
  {
   "cell_type": "code",
   "execution_count": 16,
   "id": "7375d19c",
   "metadata": {},
   "outputs": [
    {
     "data": {
      "text/plain": [
       "2.0"
      ]
     },
     "execution_count": 16,
     "metadata": {},
     "output_type": "execute_result"
    }
   ],
   "source": [
    "receitas / despesas"
   ]
  },
  {
   "cell_type": "markdown",
   "id": "58f1f26a",
   "metadata": {},
   "source": [
    "```\n",
    "Note que podemos usar a função type() sem sequer atribuir valor a uma variável.\n",
    "```"
   ]
  },
  {
   "cell_type": "code",
   "execution_count": 17,
   "id": "36490f2d",
   "metadata": {},
   "outputs": [
    {
     "data": {
      "text/plain": [
       "float"
      ]
     },
     "execution_count": 17,
     "metadata": {},
     "output_type": "execute_result"
    }
   ],
   "source": [
    "type(receitas / despesas)"
   ]
  },
  {
   "cell_type": "markdown",
   "id": "ce7b9341",
   "metadata": {},
   "source": [
    "Note que `receitas` é um inteiro e ao divirmos por `despesas` (_float_) resulta em um _float_."
   ]
  },
  {
   "cell_type": "code",
   "execution_count": 18,
   "id": "8f0481a2",
   "metadata": {},
   "outputs": [
    {
     "data": {
      "text/plain": [
       "int"
      ]
     },
     "execution_count": 18,
     "metadata": {},
     "output_type": "execute_result"
    }
   ],
   "source": [
    "type(receitas)"
   ]
  },
  {
   "cell_type": "markdown",
   "id": "dd0b580a",
   "metadata": {},
   "source": [
    "Ao dividir um inteiro por outro (como 2) o mesmo comportamento é observado."
   ]
  },
  {
   "cell_type": "code",
   "execution_count": 19,
   "id": "6d9c23dc",
   "metadata": {},
   "outputs": [
    {
     "data": {
      "text/plain": [
       "2000.0"
      ]
     },
     "execution_count": 19,
     "metadata": {},
     "output_type": "execute_result"
    }
   ],
   "source": [
    "receitas = receitas / 2\n",
    "receitas"
   ]
  },
  {
   "cell_type": "markdown",
   "id": "0fbfc632",
   "metadata": {},
   "source": [
    "Ao reatribuir `receitas`, ele se torna um fluatuante após a divisão."
   ]
  },
  {
   "cell_type": "code",
   "execution_count": 20,
   "id": "09372824",
   "metadata": {},
   "outputs": [
    {
     "data": {
      "text/plain": [
       "float"
      ]
     },
     "execution_count": 20,
     "metadata": {},
     "output_type": "execute_result"
    }
   ],
   "source": [
    "type(receitas)"
   ]
  },
  {
   "cell_type": "markdown",
   "id": "27de1eeb",
   "metadata": {},
   "source": [
    "Também é possível atribuir multiplas variáveis ao mesmo tempo. Isso as vezes prejudica a legibilidade do código, então use com cuidado."
   ]
  },
  {
   "cell_type": "code",
   "execution_count": 21,
   "id": "5d6a351b",
   "metadata": {},
   "outputs": [],
   "source": [
    "cargo_03, salario_03, bonus_03 = \"advogado junior\", 4724.30, 1"
   ]
  },
  {
   "cell_type": "markdown",
   "id": "e2e0b0c7",
   "metadata": {},
   "source": [
    "Verifique que todas variáveis foram atribuídas corretamente:"
   ]
  },
  {
   "cell_type": "code",
   "execution_count": 22,
   "id": "595c9def",
   "metadata": {},
   "outputs": [
    {
     "data": {
      "text/plain": [
       "'advogado junior'"
      ]
     },
     "execution_count": 22,
     "metadata": {},
     "output_type": "execute_result"
    }
   ],
   "source": [
    "cargo_03"
   ]
  },
  {
   "cell_type": "code",
   "execution_count": 23,
   "id": "a39aab15",
   "metadata": {},
   "outputs": [
    {
     "data": {
      "text/plain": [
       "4724.3"
      ]
     },
     "execution_count": 23,
     "metadata": {},
     "output_type": "execute_result"
    }
   ],
   "source": [
    "salario_03"
   ]
  },
  {
   "cell_type": "code",
   "execution_count": 24,
   "id": "5106d1f1",
   "metadata": {},
   "outputs": [
    {
     "data": {
      "text/plain": [
       "1"
      ]
     },
     "execution_count": 24,
     "metadata": {},
     "output_type": "execute_result"
    }
   ],
   "source": [
    "bonus_03"
   ]
  },
  {
   "cell_type": "markdown",
   "id": "07ebfbc7",
   "metadata": {},
   "source": [
    "Algumas funções permitem trocar o tipo de uma variável (quando possível). As principais são:\n",
    "\n",
    "* int()\n",
    "* float()\n",
    "* str()\n",
    "* complex()\n",
    "* bool()\n",
    "\n",
    "Cada célula de código imprime apenas o valor da última variável chamada, com pequenas excessões, como valores que estão dentro do `print()`. \n",
    "\n",
    "```\n",
    "Use print(<valor/função>) para imprimir valores distantes do fim do bloco.\n",
    "```"
   ]
  },
  {
   "cell_type": "code",
   "execution_count": 25,
   "id": "a53882a2",
   "metadata": {},
   "outputs": [
    {
     "name": "stdout",
     "output_type": "stream",
     "text": [
      "<class 'int'>\n",
      "<class 'float'>\n"
     ]
    }
   ],
   "source": [
    "print(type(bonus_03)) # bonus_03 é originalmente um inteiro\n",
    "\n",
    "bonus_03 = float(bonus_03) # convertendo bonus_03 para float\n",
    "\n",
    "print(type(bonus_03)) # verificando que é bonus_03 agora é fluantante"
   ]
  },
  {
   "cell_type": "markdown",
   "id": "8a078ac6",
   "metadata": {},
   "source": [
    "```\n",
    "O jogo da velha (#) é utilizado para comentar o código.\n",
    "Tudo que esta na mesma linha e vem depois de # é ignorado\n",
    "```\n",
    "\n",
    "É possível converter um texto para outro formato se ele obedecer a estrutura do tipo:"
   ]
  },
  {
   "cell_type": "code",
   "execution_count": 26,
   "id": "7baa66f6",
   "metadata": {},
   "outputs": [
    {
     "data": {
      "text/plain": [
       "0.5"
      ]
     },
     "execution_count": 26,
     "metadata": {},
     "output_type": "execute_result"
    }
   ],
   "source": [
    "float(\"0.5\")"
   ]
  },
  {
   "cell_type": "markdown",
   "id": "baac9a40",
   "metadata": {},
   "source": [
    "A variável `cargo_03` guarda o texto `\"advogado junior\"`. Perceba que ao tentar converter para flutuante gera um erro."
   ]
  },
  {
   "cell_type": "code",
   "execution_count": 27,
   "id": "d93e4754",
   "metadata": {},
   "outputs": [
    {
     "name": "stdout",
     "output_type": "stream",
     "text": [
      "advogado junior\n"
     ]
    },
    {
     "ename": "ValueError",
     "evalue": "could not convert string to float: 'advogado junior'",
     "output_type": "error",
     "traceback": [
      "\u001b[1;31m---------------------------------------------------------------------------\u001b[0m",
      "\u001b[1;31mValueError\u001b[0m                                Traceback (most recent call last)",
      "\u001b[1;32m<ipython-input-27-a3b17ca5afeb>\u001b[0m in \u001b[0;36m<module>\u001b[1;34m\u001b[0m\n\u001b[0;32m      1\u001b[0m \u001b[0mprint\u001b[0m\u001b[1;33m(\u001b[0m\u001b[0mcargo_03\u001b[0m\u001b[1;33m)\u001b[0m\u001b[1;33m\u001b[0m\u001b[1;33m\u001b[0m\u001b[0m\n\u001b[0;32m      2\u001b[0m \u001b[1;33m\u001b[0m\u001b[0m\n\u001b[1;32m----> 3\u001b[1;33m \u001b[0mfloat\u001b[0m\u001b[1;33m(\u001b[0m\u001b[0mcargo_03\u001b[0m\u001b[1;33m)\u001b[0m\u001b[1;33m\u001b[0m\u001b[1;33m\u001b[0m\u001b[0m\n\u001b[0m",
      "\u001b[1;31mValueError\u001b[0m: could not convert string to float: 'advogado junior'"
     ]
    }
   ],
   "source": [
    "print(cargo_03)\n",
    "\n",
    "float(cargo_03)"
   ]
  },
  {
   "cell_type": "markdown",
   "id": "6154e71d",
   "metadata": {},
   "source": [
    "Não foi possível converter \"advogado junior\" para ponto flutuante. Agora vamos falar dos operadores.\n",
    "\n",
    "## Operadores\n",
    "\n",
    "Python puro disponibiliza uma série de operações. Elas são em sua maioria bastante intuitiva. Até aqui já fizemos somas e divisões. Vamos conhecer mais alguns operadores.\n",
    "\n",
    "Essas operações geram novas variáveis que podem ser do mesmo tipo ou do tipo diferente daquelas envolvidas. Os principais grupos de operadores são: \n",
    "\n",
    "### Aritméticos\n",
    "\n",
    "* \\+ adição\n",
    "* \\- subtração\n",
    "* \\* multiplicação\n",
    "* \\\\ divisão\n",
    "* \\*\\* exponenciação\n",
    "* % resto da divisão\n",
    "\n",
    "Quando se tratam de operações entre números, os resultados são bastante intuitivos:"
   ]
  },
  {
   "cell_type": "code",
   "execution_count": 28,
   "id": "a295a612",
   "metadata": {},
   "outputs": [
    {
     "name": "stdout",
     "output_type": "stream",
     "text": [
      "receitas_t1 * trimestres_no_ano = 16400\n",
      "receitas_t1 / numero_de_meses = 1366.6666666666667\n",
      "receitas_t1 + receitas_t2 = 9300\n",
      "receitas_t1 - receitas_t2 = -1100\n"
     ]
    }
   ],
   "source": [
    "receitas_t1 = 4100\n",
    "receitas_t2 = 5200\n",
    "numero_de_meses = 3\n",
    "trimestres_no_ano = 4\n",
    "\n",
    "# Usando print() para mostrar os resultados\n",
    "print(\"receitas_t1 * trimestres_no_ano =\", receitas_t1 * trimestres_no_ano)\n",
    "print(\"receitas_t1 / numero_de_meses =\", receitas_t1 / numero_de_meses)\n",
    "print(\"receitas_t1 + receitas_t2 =\", receitas_t1 + receitas_t2)\n",
    "print(\"receitas_t1 - receitas_t2 =\", receitas_t1 - receitas_t2)"
   ]
  },
  {
   "cell_type": "markdown",
   "id": "de106a19",
   "metadata": {},
   "source": [
    "Lembra-se da aula de matemática onde algumas operações (como multiplicação) acontecem antes de outras (como a soma) e tudo que esta entre parentêses acontece antes de mais nada? No Python também é assim! Na dúvida sempre use parênteses para separar a ordem das operações.\n",
    "<br>\n",
    "```\n",
    "() > ** > * > / > + / -\n",
    "```"
   ]
  },
  {
   "cell_type": "code",
   "execution_count": 29,
   "id": "4e28a548",
   "metadata": {},
   "outputs": [
    {
     "name": "stdout",
     "output_type": "stream",
     "text": [
      "A taxa de crescimento foi de: 0.2682926829268293\n"
     ]
    }
   ],
   "source": [
    "taxa_de_crescimento = (receitas_t2 - receitas_t1) / receitas_t1\n",
    "print('A taxa de crescimento foi de:', taxa_de_crescimento)"
   ]
  },
  {
   "cell_type": "markdown",
   "id": "c79dd63c",
   "metadata": {},
   "source": [
    "O comportamento do operador pode funcionar de formas diferentes para tipos diferentes de variável. Por exemplo, para texto o sinal de mais (`+`) concatena os textos:"
   ]
  },
  {
   "cell_type": "code",
   "execution_count": 30,
   "id": "929cac61",
   "metadata": {},
   "outputs": [
    {
     "data": {
      "text/plain": [
       "'Analista Pleno'"
      ]
     },
     "execution_count": 30,
     "metadata": {},
     "output_type": "execute_result"
    }
   ],
   "source": [
    "\"Analista\" + \" \" + \"Pleno\""
   ]
  },
  {
   "cell_type": "markdown",
   "id": "5c671aee",
   "metadata": {},
   "source": [
    "Ao multiplicar um texto por um número inteiro ele se repete diversas vezes:"
   ]
  },
  {
   "cell_type": "code",
   "execution_count": 31,
   "id": "04290bea",
   "metadata": {},
   "outputs": [
    {
     "data": {
      "text/plain": [
       "'Python Python Python Python '"
      ]
     },
     "execution_count": 31,
     "metadata": {},
     "output_type": "execute_result"
    }
   ],
   "source": [
    "\"Python \" * 4"
   ]
  },
  {
   "cell_type": "markdown",
   "id": "35089f91",
   "metadata": {},
   "source": [
    "Aqui repetimos \"Python \" 4 vezes.\n",
    "\n",
    "### Lógicos (ou booleanos)\n",
    "\n",
    "Existem operadores lógicos, também chamados de booleanos.\n",
    "\n",
    "* \\< menor que\n",
    "* \\> maior que\n",
    "* \\>= maior igual que\n",
    "* \\<= menor igual que\n",
    "* == igual\n",
    "* != diferente\n",
    "* not não\n",
    "* and e\n",
    "* or ou\n",
    "\n",
    "Tome por exemplos os seguintes operações."
   ]
  },
  {
   "cell_type": "code",
   "execution_count": 32,
   "id": "46417193",
   "metadata": {},
   "outputs": [
    {
     "data": {
      "text/plain": [
       "False"
      ]
     },
     "execution_count": 32,
     "metadata": {},
     "output_type": "execute_result"
    }
   ],
   "source": [
    "funcionarios_2021 = 40\n",
    "funcionarios_2022 = 42\n",
    "\n",
    "funcionarios_2021 > funcionarios_2022"
   ]
  },
  {
   "cell_type": "markdown",
   "id": "5ccdc5d2",
   "metadata": {},
   "source": [
    "Lê-se \"funcionarios_2021 maior do que funcionarios_22 ?\". A resposta para essa asserção é falsa. `False` e `True` são dados lógicos (ou booleanos, podem ser lidos como 0 ou 1) e podem ser atribuídos."
   ]
  },
  {
   "cell_type": "code",
   "execution_count": 33,
   "id": "1aa9a336",
   "metadata": {},
   "outputs": [
    {
     "data": {
      "text/plain": [
       "True"
      ]
     },
     "execution_count": 33,
     "metadata": {},
     "output_type": "execute_result"
    }
   ],
   "source": [
    "crescimento_2022 = funcionarios_2022 > funcionarios_2021\n",
    "crescimento_2022"
   ]
  },
  {
   "cell_type": "markdown",
   "id": "14d406ae",
   "metadata": {},
   "source": [
    "Alternativamente poderiamos ter entrado com `crescimento_2022 = True`.\n",
    "\n",
    "`not` (não) inverte a asserção lógica:"
   ]
  },
  {
   "cell_type": "code",
   "execution_count": 34,
   "id": "b0bf5582",
   "metadata": {},
   "outputs": [
    {
     "data": {
      "text/plain": [
       "False"
      ]
     },
     "execution_count": 34,
     "metadata": {},
     "output_type": "execute_result"
    }
   ],
   "source": [
    "not( funcionarios_2022 > funcionarios_2021 )"
   ]
  },
  {
   "cell_type": "markdown",
   "id": "532c5af0",
   "metadata": {},
   "source": [
    "Quando você usa a palavra `and` (e), as duas lógicas tem de ser verdadeiras:"
   ]
  },
  {
   "cell_type": "code",
   "execution_count": 35,
   "id": "cfaa7d3e",
   "metadata": {},
   "outputs": [
    {
     "name": "stdout",
     "output_type": "stream",
     "text": [
      "funcionarios_2021 > 39? True\n",
      "funcionarios_2022 < 40? False\n",
      "funcionarios_2021 > 2 e funcionarios_2022 < -10?\n"
     ]
    },
    {
     "data": {
      "text/plain": [
       "False"
      ]
     },
     "execution_count": 35,
     "metadata": {},
     "output_type": "execute_result"
    }
   ],
   "source": [
    "print('funcionarios_2021 > 39?', funcionarios_2021 > 39)\n",
    "print('funcionarios_2022 < 40?', funcionarios_2022 < 40)\n",
    "\n",
    "print('funcionarios_2021 > 2 e funcionarios_2022 < -10?')\n",
    "funcionarios_2021 > 39 and funcionarios_2022 < 40"
   ]
  },
  {
   "cell_type": "markdown",
   "id": "7bcb52c0",
   "metadata": {},
   "source": [
    "Imediatamente acima vemos o seguinte:\n",
    "* `funcionarios_2021` maior do que 39? Sim, 40 é maior do que 39;\n",
    "* `funcionarios_2022` menor do que 40? Não, 42 é maior do que 40;\n",
    "* 39 é maior do que 40 e 42 é menor do que 40? Essa última resposta é não, `False`.\n",
    "\n",
    "Porém, se tentarmos:"
   ]
  },
  {
   "cell_type": "code",
   "execution_count": 36,
   "id": "89cd81b6",
   "metadata": {},
   "outputs": [
    {
     "name": "stdout",
     "output_type": "stream",
     "text": [
      "funcionarios_2021 >= 40? True\n",
      "funcionarios_2022 < 50? True\n",
      "funcionarios_2021 >= 40 e funcionarios_2022 < 50?\n"
     ]
    },
    {
     "data": {
      "text/plain": [
       "True"
      ]
     },
     "execution_count": 36,
     "metadata": {},
     "output_type": "execute_result"
    }
   ],
   "source": [
    "print('funcionarios_2021 >= 40?', funcionarios_2021 >= 40)\n",
    "print('funcionarios_2022 < 50?', funcionarios_2022 < 50)\n",
    "\n",
    "print('funcionarios_2021 >= 40 e funcionarios_2022 < 50?')\n",
    "funcionarios_2021 >= 40 and funcionarios_2022 < 50"
   ]
  },
  {
   "cell_type": "markdown",
   "id": "acef2202",
   "metadata": {},
   "source": [
    "* `funcionarios_2021` maior ou igual a 40? Sim, 40 é igual a 40;\n",
    "* `funcionarios_2022` menor do que 50? Sim, 42 é menor do que 50;\n",
    "* 40 é menor ou igual a 40 e 42 é menor do que 50? Agora a resposta é sim, `True`.\n",
    "\n",
    "Também é possível comparar textos (strings):"
   ]
  },
  {
   "cell_type": "code",
   "execution_count": 37,
   "id": "fbe067dc",
   "metadata": {},
   "outputs": [
    {
     "data": {
      "text/plain": [
       "True"
      ]
     },
     "execution_count": 37,
     "metadata": {},
     "output_type": "execute_result"
    }
   ],
   "source": [
    "\"How I Met Your Mother\" > \"F.R.I.E.N.D.S.\" "
   ]
  },
  {
   "cell_type": "markdown",
   "id": "fe58949b",
   "metadata": {},
   "source": [
    "Lê-se \"How I Met Your Mother é maior do que F.R.I.E.N.D.S. é verdadeiro (_True_)\". Brincadeiras à parte, interpretador está apenas comparando a posição da primeira letra de cada _string_ (texto), o que equivale perguntar \"H vem depois de F?\"."
   ]
  },
  {
   "cell_type": "code",
   "execution_count": 38,
   "id": "2df42f7f",
   "metadata": {},
   "outputs": [
    {
     "data": {
      "text/plain": [
       "True"
      ]
     },
     "execution_count": 38,
     "metadata": {},
     "output_type": "execute_result"
    }
   ],
   "source": [
    "\"H\" > \"F\""
   ]
  },
  {
   "cell_type": "markdown",
   "id": "50053b90",
   "metadata": {},
   "source": [
    "Essas comparações lógicas são muito comuns no dia a dia de um analista quando se trata de filtrar os dados ou de construir novas variáveis. Embora a simbologia mude ligeiramente (não se preocupe com isso agora, trataremos adiante), a lógica por traz permanece a mesma. É importante saber que o resultado é sempre verdadeiro ou falso e conhecer os tipos de comparações que estão disponíveis.\n",
    "\n",
    "Agora vamos cuidar de um tema muito importante, o que chamamos de manipulação de strings (leia string como sendo texto).\n",
    "\n",
    "## Manipulação de textos\n",
    "\n",
    "Strings são tipos muito comuns de dados (variáveis). Nomes, documentos, e-mails, categorias não numéricas, endereços. A lista é enorme. É indispensável saber manipular esses dados.\n",
    "\n",
    "Nessa manipulação estão inclusos transformações e comparações que são exclusivos dos dados do tipo `string` (ou `str`). Muito frequentemente iremos nos deparar com o que chamamos de limpeza (ou normalização) de texto. As operações que iremos aprender aqui, muito embora simplificadas, vão abrir um leque de possibilidades na hora de analisar dados do tipo texto.\n",
    "\n",
    "```\n",
    "Fique sempre atento para não ferir a Lei Geral de Proteção de Dados Pessoais. Frequentemente anomizar dados pessoais requer alguma manipulação de texto.\n",
    "```\n",
    "\n",
    "Vamos começar pela método `upper()`. Um método de classe pode ser chamado chamando `<nome do objeto>.<nome do método>()`. Além dos métodos de um objeto (em Python toda variável é um objeto), também existem os atributos que guardam valores próprios dele. Diferente dos métodos, atributos não são chamados com parentesis no final (`<nome do objeto>.<nome do atributo>`).\n",
    "\n",
    "_Strings_ são objetos do tipo string e seus métodos desempenham papel fundamental na manipulação dos mesmos. Aqui estão uma dos principais métodos de string e suas alterações:\n",
    "\n",
    "* .upper() = letras maísculas;\n",
    "* .lower() = letras minúsculas;\n",
    "* .capitalize() = primeira letra maiúscula;\n",
    "* .title() = primeira letra de cada palavra maísculas;\n",
    "* .strip() = remove espaços em branco no começo e final;\n",
    "* .rstrip() = remove espaços em branco no final;\n",
    "* .lstrip() = remove espaços em branco no começo.\n",
    "\n",
    "Perceba que nenhum desses métodos realiza modificações _in-place_, ou seja, eles retornam valores novos mas não modificam as variáveis originais."
   ]
  },
  {
   "cell_type": "code",
   "execution_count": 53,
   "id": "5018fcd6",
   "metadata": {},
   "outputs": [
    {
     "name": "stdout",
     "output_type": "stream",
     "text": [
      "cargo_03: \"  aDvoGADO jUNIOR  \"\n",
      "cargo_03.upper(): \"  ADVOGADO JUNIOR  \"\n",
      "cargo_03.lower(): \"  advogado junior  \"\n",
      "cargo_03.capitalize(): \"  advogado junior  \"\n",
      "cargo_03.capitalize(): \"  Advogado Junior  \"\n",
      "cargo_03.strip(): \"aDvoGADO jUNIOR\"\n",
      "cargo_03.rstrip(): \"  aDvoGADO jUNIOR\"\n",
      "cargo_03.lstrip(): \"aDvoGADO jUNIOR  \"\n"
     ]
    }
   ],
   "source": [
    "cargo_03 = '  aDvoGADO jUNIOR  '\n",
    "\n",
    "print('cargo_03:', '\"' + cargo_03 + '\"')\n",
    "print('cargo_03.upper():', '\"' + cargo_03.upper() + '\"')\n",
    "print('cargo_03.lower():', '\"' + cargo_03.lower() + '\"')\n",
    "print('cargo_03.capitalize():', '\"' + cargo_03.capitalize() + '\"')\n",
    "print('cargo_03.capitalize():', '\"' + cargo_03.title() + '\"')\n",
    "print('cargo_03.strip():', '\"' + cargo_03.strip() + '\"')\n",
    "print('cargo_03.rstrip():', '\"' + cargo_03.rstrip() + '\"')\n",
    "print('cargo_03.lstrip():', '\"' + cargo_03.lstrip() + '\"')"
   ]
  },
  {
   "cell_type": "markdown",
   "id": "81a18851",
   "metadata": {},
   "source": [
    "Quando queremos que modificações desse tipo afetem a variável original é preciso re-atribuir o valor da seguinte forma:"
   ]
  },
  {
   "cell_type": "code",
   "execution_count": 56,
   "id": "89cf3af8",
   "metadata": {},
   "outputs": [
    {
     "name": "stdout",
     "output_type": "stream",
     "text": [
      "cargo_03 antes: \"Advogado Junior\"\n",
      "cargo_03 depois: \"Advogado Junior\"\n"
     ]
    }
   ],
   "source": [
    "print('cargo_03 antes:', '\"' + cargo_03 + '\"')\n",
    "\n",
    "cargo_03 = cargo_03.strip().title()\n",
    "\n",
    "print('cargo_03 depois:', '\"' + cargo_03 + '\"')"
   ]
  },
  {
   "cell_type": "markdown",
   "id": "bb2126c9",
   "metadata": {},
   "source": [
    "É bastante comum na rotina do analista ter que tratar erros em variáveis do tipo texto, como erros de digitação. Existem ainda métodos como `.startswith()` (começa com) e `.endswith()` (termina com) que retornam verdadeiro ou falso."
   ]
  },
  {
   "cell_type": "code",
   "execution_count": 57,
   "id": "f12e29f7",
   "metadata": {},
   "outputs": [
    {
     "data": {
      "text/plain": [
       "False"
      ]
     },
     "execution_count": 57,
     "metadata": {},
     "output_type": "execute_result"
    }
   ],
   "source": [
    "cargo_03.startswith(\"a\") # começa com \"a\" minúsculo ?"
   ]
  },
  {
   "cell_type": "code",
   "execution_count": 58,
   "id": "082fc704",
   "metadata": {},
   "outputs": [
    {
     "data": {
      "text/plain": [
       "True"
      ]
     },
     "execution_count": 58,
     "metadata": {},
     "output_type": "execute_result"
    }
   ],
   "source": [
    "cargo_03.startswith(\"A\") # começa com \"A\" maisúculo ?"
   ]
  },
  {
   "cell_type": "markdown",
   "id": "a199626b",
   "metadata": {},
   "source": [
    "Essas funções são _case sensitive_ e é possível encadear funções antes dela para facilitar o processo. Lembre-se que ela pode pode conter palavras e símbolos inteiros ao invés de só letras como no exemplo acima. Considere fazer o seguinte:"
   ]
  },
  {
   "cell_type": "code",
   "execution_count": 59,
   "id": "b27d969e",
   "metadata": {},
   "outputs": [
    {
     "data": {
      "text/plain": [
       "True"
      ]
     },
     "execution_count": 59,
     "metadata": {},
     "output_type": "execute_result"
    }
   ],
   "source": [
    "cargo_03.rstrip().lower().endswith(\"junior\")"
   ]
  },
  {
   "cell_type": "markdown",
   "id": "90f947d9",
   "metadata": {},
   "source": [
    "Outro processo muito comum é trocar letras, simbolos ou até mesmo palavras inteiras. O método utilizado então é o `.replace(<padrão a ser substituido>, <novo padrão>)`. Considere a seguinte `string`:"
   ]
  },
  {
   "cell_type": "code",
   "execution_count": 61,
   "id": "fbd40baa",
   "metadata": {},
   "outputs": [
    {
     "data": {
      "text/plain": [
       "'Adv,Júnior'"
      ]
     },
     "execution_count": 61,
     "metadata": {},
     "output_type": "execute_result"
    }
   ],
   "source": [
    "cargo_04 = \"Adv,Júnior\"\n",
    "cargo_04"
   ]
  },
  {
   "cell_type": "markdown",
   "id": "99196863",
   "metadata": {},
   "source": [
    "Ela pode estar fora do padrão e queremos ajustar. Gostariámos que fosse \"advogado junior\", com espaço em branco no lugar de vírgula, \"advogado(a)\" no lugar de \"Adv\" e que \"Júnior\" não tivesse acento. Poderiámos proceder da seguinte forma:\n",
    "\n",
    "```\n",
    "Vou usar jogo da velha (#) para comentar o código e mostrar o que está sendo feito em cada etapa. Tudo que vem depois de # é ignorado pelo python.\n",
    "```"
   ]
  },
  {
   "cell_type": "code",
   "execution_count": 62,
   "id": "f2da0572",
   "metadata": {},
   "outputs": [
    {
     "data": {
      "text/plain": [
       "'advogado(a) junior'"
      ]
     },
     "execution_count": 62,
     "metadata": {},
     "output_type": "execute_result"
    }
   ],
   "source": [
    "cargo_04 = (  # esse parentese permite quebrar o código em linhas\n",
    "    cargo_04. # chamamos a variável original\n",
    "    lower().  # convertemos para minúsculo\n",
    "    replace(\"adv\", \"advogado(a)\"). # adv vira advogado(a)\n",
    "    replace(\",\", \" \").# a vírgula vira um espaço em branco\n",
    "    replace(\"ú\", \"u\") # troca do ú pelo u\n",
    ")\n",
    "\n",
    "cargo_04"
   ]
  },
  {
   "cell_type": "markdown",
   "id": "0b8b2006",
   "metadata": {},
   "source": [
    "### Textos como listas\n",
    "\n",
    "Textos tem recursos muito parecidos como o de listas. Ele pode ser entendido como uma lista de caractéres afinal de contas. Veremos listas em maiores detalhes a seguir mas vou adiantar algumas manipulações que podemos realizar com _strings_. Podemos querer saber quantos caractéres têm (tamanho) e para isso usamos a função `len()`.\n",
    "\n",
    "```\n",
    "len() não é um método de strings, e sim uma função cujo comportamento (implementação) pode mudar de acordo com o tipo de objeto de que elea recebe. Se len() um método de strings sua chamada seria <string>.len() e não len(<string>). \n",
    "```"
   ]
  },
  {
   "cell_type": "code",
   "execution_count": 73,
   "id": "d5717094",
   "metadata": {},
   "outputs": [
    {
     "data": {
      "text/plain": [
       "18"
      ]
     },
     "execution_count": 73,
     "metadata": {},
     "output_type": "execute_result"
    }
   ],
   "source": [
    "len(cargo_04)"
   ]
  },
  {
   "cell_type": "markdown",
   "id": "e210a89f",
   "metadata": {},
   "source": [
    "Note que ela conta o número de caractéres (espaços em branco, pontos, vírgulas, sinais especiais) e não apenas de letras. _Python_ atribui a cada letra da _string_ um índice (posição) começando do zero e indo até $n - 1$, sendo $n$ seu tamanho. Dessa forma é possivel acessar letras ou pedaços de uma _string_. Para acessar caracteres individualmente usamos os colchetes. Números positivos dentro do colchetes indicam sua posição (partindo do zero) enquanto números negativos indicam sua posição de traz para frente:"
   ]
  },
  {
   "cell_type": "code",
   "execution_count": 65,
   "id": "aa3e07bb",
   "metadata": {},
   "outputs": [
    {
     "data": {
      "text/plain": [
       "'advogado(a) junior'"
      ]
     },
     "execution_count": 65,
     "metadata": {},
     "output_type": "execute_result"
    }
   ],
   "source": [
    "cargo_04"
   ]
  },
  {
   "cell_type": "code",
   "execution_count": 63,
   "id": "081127ea",
   "metadata": {},
   "outputs": [
    {
     "data": {
      "text/plain": [
       "'a'"
      ]
     },
     "execution_count": 63,
     "metadata": {},
     "output_type": "execute_result"
    }
   ],
   "source": [
    "cargo_04[0] # primeira letra"
   ]
  },
  {
   "cell_type": "code",
   "execution_count": 64,
   "id": "e8ec0d74",
   "metadata": {},
   "outputs": [
    {
     "data": {
      "text/plain": [
       "'o'"
      ]
     },
     "execution_count": 64,
     "metadata": {},
     "output_type": "execute_result"
    }
   ],
   "source": [
    "cargo_04[-2] # penúltima letra"
   ]
  },
  {
   "cell_type": "markdown",
   "id": "94524005",
   "metadata": {},
   "source": [
    "Ainda usando os colchetes podemos requisitar um pedaço (fatia ou _slice_) da _string_ passando a posição inicial seguidas de dois pontos e a posição final, sendo que a posição final não é incluída. E.g. `<string>[<posição incial>:<posição final>]`. Quais são as 8 primeiras letras de `cargo_04`?"
   ]
  },
  {
   "cell_type": "code",
   "execution_count": 69,
   "id": "0bb660ec",
   "metadata": {},
   "outputs": [
    {
     "data": {
      "text/plain": [
       "'advogado'"
      ]
     },
     "execution_count": 69,
     "metadata": {},
     "output_type": "execute_result"
    }
   ],
   "source": [
    "cargo_04[0:8]"
   ]
  },
  {
   "cell_type": "markdown",
   "id": "91a38610",
   "metadata": {},
   "source": [
    "```\n",
    "Perceba que o caractere na posição 8 não aparece. Como o índice começa em ZERO, o oitavo caracter é na verdade aquele no índice (posição) 7.\n",
    "```\n",
    "\n",
    "Omitindo o número antes dos dois pontos a fatia parte do início, omitindo o número depois dos dois pontos é o mesmo que indicar o final. Ainda é possível usar números negativos (posição em relação ao fim da _string_) e também indicar o passo. Para indicar o passo adicione outros dois pontos e informe um número. Omitir o passo é o mesmo que informar 1."
   ]
  },
  {
   "cell_type": "code",
   "execution_count": 85,
   "id": "209d4ece",
   "metadata": {},
   "outputs": [
    {
     "data": {
      "text/plain": [
       "'odagovda'"
      ]
     },
     "execution_count": 85,
     "metadata": {},
     "output_type": "execute_result"
    }
   ],
   "source": [
    "cargo_04[7::-1]"
   ]
  },
  {
   "cell_type": "markdown",
   "id": "d7c60464",
   "metadata": {},
   "source": [
    "No último exemplo o que os números dentro dos colchetes dizem é:\n",
    " * comece na posição 7;\n",
    " * vá até o final;\n",
    " * caminhando um passo para traz por vez (-1).\n",
    " \n",
    "Esse mesmo comportamento de fatias é que veremos em uma estrutura de dados chamada de lista. Mais detalhes sobre elas adiante. Por hora vou mostrar como transformar um texto em lista e vice-versa. Para transformar um texto em lista use `<string>.split(<caracter utilizado para separar o texto>)`. Por exemplo, podemos separar o texto de `cargo_04` pelos espaços em branco:"
   ]
  },
  {
   "cell_type": "code",
   "execution_count": 86,
   "id": "51a278be",
   "metadata": {},
   "outputs": [
    {
     "data": {
      "text/plain": [
       "['advogado(a)', 'junior']"
      ]
     },
     "execution_count": 86,
     "metadata": {},
     "output_type": "execute_result"
    }
   ],
   "source": [
    "lista_cargos = cargo_04.split(\" \")\n",
    "lista_cargos"
   ]
  },
  {
   "cell_type": "markdown",
   "id": "7b07e73a",
   "metadata": {},
   "source": [
    "Pronto. Agora temos `cargo_04` separados em uma lista. Podemos desfazer isso usando `join()`. A sintaxe passa a ser `<caracter de união>.join(<lista de strings para unir>)`. Essa função ira unir uma lista em uma nova _string_ usando um caracter informado."
   ]
  },
  {
   "cell_type": "code",
   "execution_count": 87,
   "id": "0efc7e79",
   "metadata": {},
   "outputs": [
    {
     "data": {
      "text/plain": [
       "'advogado(a)-junior'"
      ]
     },
     "execution_count": 87,
     "metadata": {},
     "output_type": "execute_result"
    }
   ],
   "source": [
    "nova_string = \"-\".join(lista_cargos)\n",
    "nova_string"
   ]
  },
  {
   "cell_type": "markdown",
   "id": "e08008f1",
   "metadata": {},
   "source": [
    "Recapitulando, _strings_ são dados bem comumns e aqui estão as principais operações que precisamos fazer no dia a dia:\n",
    "\n",
    "* limpar espaços em branco no começo e/ou no final com `.strip()`, `.rstrip()` (de _right strip_) e `.lstrip()` (_left strip_);\n",
    "* trocar letras maísculas e minúsculas com `.lower()`, `.upper()`, `capitalize()` e `.title()`;\n",
    "* trocar caracteres com `.replace()`;\n",
    "* fatiar a _string_ usando colchetes (`[]`);\n",
    "* quebrar usando `.split()` e juntar com `.join()`.\n",
    "\n",
    "Por hora examimos as variáveis básicas do _Python_. Podemos pensar nelas como unidades de dados. Por hora, com excessão do resultado trazido por `.split()`, armazenamos um dado por vez nos nossos objetos. Agora vamos conhecer as estruturas de dados que nos permitem armazenar mais de uma unidade de dado em um único objeto.\n",
    "\n",
    "## Estrutura de dados\n",
    "\n",
    "Estruturas de dados nos permitem armazenar diversas variáveis de diferentes tipos em um único objeto. Conhecer quais os tipos disponíveis e como cada uma delas funcionam, nos ajuda a interagir adequadamente com os diversos tipos de dados além de ampliar nossas possibilidades em relação ao que fazer.\n",
    "\n",
    "_Python_ puro tem três estruturas básicas muito utilizadas:\n",
    "\n",
    "* as listas;\n",
    "* os conjuntos;\n",
    "* as tuplas;\n",
    "* os dicionários.\n",
    "\n",
    "Vamos conhecer suas principais características, como criar e manipular cada uma delas.  \n",
    "\n",
    "### Listas\n",
    "\n",
    "Essas são estruturas que chamamos de mutáveis pois podem ser alteradas. Listas associam seus elementos com um índice inteiro indciando sua posição na lista, iniciando por zero. Para declarar uma lista basta usar colchetes como no exemplo abaixo:"
   ]
  },
  {
   "cell_type": "code",
   "execution_count": 90,
   "id": "f5790a01",
   "metadata": {},
   "outputs": [
    {
     "data": {
      "text/plain": [
       "[]"
      ]
     },
     "execution_count": 90,
     "metadata": {},
     "output_type": "execute_result"
    }
   ],
   "source": [
    "receitas_2020 = []\n",
    "receitas_2020"
   ]
  },
  {
   "cell_type": "markdown",
   "id": "1867def8",
   "metadata": {},
   "source": [
    "````\n",
    "Assim como tinhamos as funções float() ou str() para converter o tipo das variáveis, analogamente existe a função list() que é capaz de converter algumas estruturas em listas.\n",
    "````\n",
    "\n",
    "Podemos verificar que é uma lista usando `type()`:"
   ]
  },
  {
   "cell_type": "code",
   "execution_count": 91,
   "id": "ab7457f3",
   "metadata": {},
   "outputs": [
    {
     "data": {
      "text/plain": [
       "list"
      ]
     },
     "execution_count": 91,
     "metadata": {},
     "output_type": "execute_result"
    }
   ],
   "source": [
    "type(receitas_2020)"
   ]
  },
  {
   "cell_type": "markdown",
   "id": "55980177",
   "metadata": {},
   "source": [
    "`receitas_2020` é uma lista vazia. Podemos verificar isso usando a função `len()`:"
   ]
  },
  {
   "cell_type": "code",
   "execution_count": 92,
   "id": "3f507c17",
   "metadata": {},
   "outputs": [
    {
     "data": {
      "text/plain": [
       "0"
      ]
     },
     "execution_count": 92,
     "metadata": {},
     "output_type": "execute_result"
    }
   ],
   "source": [
    "len(receitas_2020)"
   ]
  },
  {
   "cell_type": "markdown",
   "id": "1a65ae7d",
   "metadata": {},
   "source": [
    "Para declarar uma lista com mais elementos, separe cada um deles usando uma vírgula dentro do colchetes."
   ]
  },
  {
   "cell_type": "code",
   "execution_count": 116,
   "id": "30ec2c7a",
   "metadata": {},
   "outputs": [
    {
     "data": {
      "text/plain": [
       "[100, 150, 'erro', 80]"
      ]
     },
     "execution_count": 116,
     "metadata": {},
     "output_type": "execute_result"
    }
   ],
   "source": [
    "receitas_2021 = [100, 150, \"erro\", 80]\n",
    "receitas_2021"
   ]
  },
  {
   "cell_type": "markdown",
   "id": "ea7f16f8",
   "metadata": {},
   "source": [
    "Feito, `receitas_2021` é um objeto com 4 elementos. Note que nem todos elementos são do mesmo tipo. Todos os elementos da lista estão associados a um índice que indicam sua posição na lista, partindo do zero (primeira posição é a zero). É possível acessar elementos da lista chamando seu índice dentro de colchetes."
   ]
  },
  {
   "cell_type": "code",
   "execution_count": 117,
   "id": "64bb4492",
   "metadata": {},
   "outputs": [
    {
     "data": {
      "text/plain": [
       "'erro'"
      ]
     },
     "execution_count": 117,
     "metadata": {},
     "output_type": "execute_result"
    }
   ],
   "source": [
    "receitas_2021[2]"
   ]
  },
  {
   "cell_type": "markdown",
   "id": "2f3fd749",
   "metadata": {},
   "source": [
    "Também é possível atribuir novos valores a elementos já existentes na lista."
   ]
  },
  {
   "cell_type": "code",
   "execution_count": 118,
   "id": "eeef8ada",
   "metadata": {},
   "outputs": [
    {
     "data": {
      "text/plain": [
       "78"
      ]
     },
     "execution_count": 118,
     "metadata": {},
     "output_type": "execute_result"
    }
   ],
   "source": [
    "receitas_2021[2] = 78\n",
    "receitas_2021[2]"
   ]
  },
  {
   "cell_type": "markdown",
   "id": "ddac7ecd",
   "metadata": {},
   "source": [
    "Para adicionar um elemento no fim da lista utilize o método `.append()`."
   ]
  },
  {
   "cell_type": "code",
   "execution_count": 119,
   "id": "379f5147",
   "metadata": {},
   "outputs": [
    {
     "data": {
      "text/plain": [
       "[100, 150, 78, 80, 30]"
      ]
     },
     "execution_count": 119,
     "metadata": {},
     "output_type": "execute_result"
    }
   ],
   "source": [
    "receitas_2021.append(30)\n",
    "receitas_2021"
   ]
  },
  {
   "cell_type": "markdown",
   "id": "c01983fa",
   "metadata": {},
   "source": [
    "Esse método promove uma modificação _in-place_. Também é possível concatenar uma lista à outra somando listas."
   ]
  },
  {
   "cell_type": "code",
   "execution_count": 120,
   "id": "fa67c285",
   "metadata": {},
   "outputs": [
    {
     "data": {
      "text/plain": [
       "[100, 150, 78, 80, 30, 90, 91]"
      ]
     },
     "execution_count": 120,
     "metadata": {},
     "output_type": "execute_result"
    }
   ],
   "source": [
    "receitas_2021 + [90, 91]"
   ]
  },
  {
   "cell_type": "markdown",
   "id": "42025017",
   "metadata": {},
   "source": [
    "Somas não são modificações _in-place_. Para esse mesmo fim, um método _in-place_ que é mais eficiente é o _.extend()_."
   ]
  },
  {
   "cell_type": "code",
   "execution_count": 121,
   "id": "42f9acf2",
   "metadata": {},
   "outputs": [
    {
     "data": {
      "text/plain": [
       "[100, 150, 78, 80, 30, 101, 102]"
      ]
     },
     "execution_count": 121,
     "metadata": {},
     "output_type": "execute_result"
    }
   ],
   "source": [
    "receitas_2021.extend([101, 102])\n",
    "receitas_2021"
   ]
  },
  {
   "cell_type": "markdown",
   "id": "aeee7595",
   "metadata": {},
   "source": [
    "Utileze `.pop()` para remover um elemento. Informe o índice do elemento para eliminar."
   ]
  },
  {
   "cell_type": "code",
   "execution_count": 122,
   "id": "228780a5",
   "metadata": {},
   "outputs": [
    {
     "data": {
      "text/plain": [
       "[100, 78, 80, 30, 101, 102]"
      ]
     },
     "execution_count": 122,
     "metadata": {},
     "output_type": "execute_result"
    }
   ],
   "source": [
    "receitas_2021.pop(1)\n",
    "receitas_2021"
   ]
  },
  {
   "cell_type": "markdown",
   "id": "b1e3bfb0",
   "metadata": {},
   "source": [
    "Fatias (ou _slices_) são formas de selecionar partes da lista. Assim como fizemos como _string_, abra colchetes e informe o índice do primeiro elemento a ser incluído, dois pontos (`:`) e o índice do elemento final sendo este elemento não incluído."
   ]
  },
  {
   "cell_type": "code",
   "execution_count": 123,
   "id": "4587da04",
   "metadata": {},
   "outputs": [
    {
     "data": {
      "text/plain": [
       "[78, 80, 30]"
      ]
     },
     "execution_count": 123,
     "metadata": {},
     "output_type": "execute_result"
    }
   ],
   "source": [
    "receitas_2021[1:4]"
   ]
  },
  {
   "cell_type": "markdown",
   "id": "70d937f5",
   "metadata": {},
   "source": [
    "No código acima estamos selecionando o segundo elemento da lista (índice 1) até o quarto elemento (índice 3). Lembre-se que o índice começa de zero e que o fim da fila é excluído da fatia. Também é possível usar números negativos. Negativos fazem referência ao índice de traz para frente (do fim ao início)."
   ]
  },
  {
   "cell_type": "code",
   "execution_count": 124,
   "id": "bade04ca",
   "metadata": {},
   "outputs": [
    {
     "data": {
      "text/plain": [
       "[80, 30, 101, 102]"
      ]
     },
     "execution_count": 124,
     "metadata": {},
     "output_type": "execute_result"
    }
   ],
   "source": [
    "receitas_2021[-4:]"
   ]
  },
  {
   "cell_type": "markdown",
   "id": "e94fba3b",
   "metadata": {},
   "source": [
    "Quando se omiti o ínicio da fatia é o mesmo que dizer \"do começo\" e quando se omiti o final é dizer \"até o final\". Também é possível incluir o passo da fatia incluindo mais dois pontos depois do fim da fila."
   ]
  },
  {
   "cell_type": "code",
   "execution_count": 125,
   "id": "e5c345bc",
   "metadata": {},
   "outputs": [
    {
     "data": {
      "text/plain": [
       "[100, 80, 101]"
      ]
     },
     "execution_count": 125,
     "metadata": {},
     "output_type": "execute_result"
    }
   ],
   "source": [
    "receitas_2021[::2]"
   ]
  },
  {
   "cell_type": "markdown",
   "id": "182dd33b",
   "metadata": {},
   "source": [
    "A fatia acima diz pega uma fatia que começa no início, acaba no final, a cada dois elementos. Ele busca o primeiro, depois o terceiro e em seguida o quinto. Fique atento ao guardar uma fatia em um objeto e depois tentar modificá-lo."
   ]
  },
  {
   "cell_type": "code",
   "execution_count": 126,
   "id": "45d96611",
   "metadata": {},
   "outputs": [
    {
     "data": {
      "text/plain": [
       "[100, 78, 80, 30, 101, 102]"
      ]
     },
     "execution_count": 126,
     "metadata": {},
     "output_type": "execute_result"
    }
   ],
   "source": [
    "ultimas_receitas = receitas_2021\n",
    "ultimas_receitas"
   ]
  },
  {
   "cell_type": "markdown",
   "id": "c49b2006",
   "metadata": {},
   "source": [
    "Na verdade, `ultimas_receitas` funciona como apelido para um pedaço de `receitas_2021`. Qualquer alteração em `ultimas_receitas` impacta em `receitas_2021`."
   ]
  },
  {
   "cell_type": "code",
   "execution_count": 127,
   "id": "046fc18e",
   "metadata": {},
   "outputs": [
    {
     "data": {
      "text/plain": [
       "[100, 78, 80, 30, 101, 'elemento alterado']"
      ]
     },
     "execution_count": 127,
     "metadata": {},
     "output_type": "execute_result"
    }
   ],
   "source": [
    "ultimas_receitas[-1] = \"elemento alterado\"\n",
    "receitas_2021"
   ]
  },
  {
   "cell_type": "markdown",
   "id": "8d1ab51f",
   "metadata": {},
   "source": [
    "Para evitar esse compartamento use `.copy()`."
   ]
  },
  {
   "cell_type": "code",
   "execution_count": 128,
   "id": "a8d1e3ca",
   "metadata": {},
   "outputs": [
    {
     "data": {
      "text/plain": [
       "[100, 78, 80, 30, 'não se altera', 'elemento alterado']"
      ]
     },
     "execution_count": 128,
     "metadata": {},
     "output_type": "execute_result"
    }
   ],
   "source": [
    "novas_receitas = receitas_2021.copy()\n",
    "novas_receitas[-2] = \"não se altera\"\n",
    "novas_receitas"
   ]
  },
  {
   "cell_type": "markdown",
   "id": "155fb269",
   "metadata": {},
   "source": [
    "Note como `receitas_2021` não se altera:"
   ]
  },
  {
   "cell_type": "code",
   "execution_count": 129,
   "id": "081b2a36",
   "metadata": {},
   "outputs": [
    {
     "data": {
      "text/plain": [
       "[100, 78, 80, 30, 101, 'elemento alterado']"
      ]
     },
     "execution_count": 129,
     "metadata": {},
     "output_type": "execute_result"
    }
   ],
   "source": [
    "receitas_2021"
   ]
  },
  {
   "cell_type": "markdown",
   "id": "281d7c57",
   "metadata": {},
   "source": [
    "Outro método importante é o `.sort()` que reordena os elemntos dentro de uma lista."
   ]
  },
  {
   "cell_type": "code",
   "execution_count": 133,
   "id": "c5824d93",
   "metadata": {},
   "outputs": [
    {
     "name": "stdout",
     "output_type": "stream",
     "text": [
      "receitas_2021 antes de reordenar: [100, 78, 80, 30, 101, 30]\n",
      "receitas_2021 depois de reordenar: [30, 30, 78, 80, 100, 101]\n"
     ]
    }
   ],
   "source": [
    "receitas_2021[-1] = 30\n",
    "print(\"receitas_2021 antes de reordenar:\", receitas_2021)\n",
    "\n",
    "receitas_2021.sort()\n",
    "print(\"receitas_2021 depois de reordenar:\", receitas_2021)"
   ]
  },
  {
   "cell_type": "markdown",
   "id": "599612f1",
   "metadata": {},
   "source": [
    "Por padrão `.sort()` reordena em ordem crescente, mas também é possível ordenar em ordem decrescente com `.sort(reverse=True)`."
   ]
  },
  {
   "cell_type": "code",
   "execution_count": 135,
   "id": "40b59d19",
   "metadata": {},
   "outputs": [
    {
     "data": {
      "text/plain": [
       "[101, 100, 80, 78, 30, 30]"
      ]
     },
     "execution_count": 135,
     "metadata": {},
     "output_type": "execute_result"
    }
   ],
   "source": [
    "receitas_2021.sort(reverse=True)\n",
    "receitas_2021"
   ]
  },
  {
   "cell_type": "markdown",
   "id": "69df8b4e",
   "metadata": {},
   "source": [
    "Até agora mostrei listas que no máximo misturam inteiros e flutuantes. Mas é possível ter qualquer tipo dentro de uma lista, inclusive outras listas. Pense em uma construção como:"
   ]
  },
  {
   "cell_type": "code",
   "execution_count": 130,
   "id": "619e8569",
   "metadata": {},
   "outputs": [
    {
     "data": {
      "text/plain": [
       "[['Nome', 'Função', 'Salário'],\n",
       " ['José', 'Analista', 5000],\n",
       " ['Maria', 'Coordenadora', 7000]]"
      ]
     },
     "execution_count": 130,
     "metadata": {},
     "output_type": "execute_result"
    }
   ],
   "source": [
    "cabecalho = [\"Nome\", \"Função\", \"Salário\"]\n",
    "funcionario_01 = [\"José\", \"Analista\", 5000]\n",
    "funcionario_02 = [\"Maria\", \"Coordenadora\", 7000]\n",
    "\n",
    "funcionarios = [cabecalho, funcionario_01, funcionario_02]\n",
    "funcionarios"
   ]
  },
  {
   "cell_type": "markdown",
   "id": "c5979ddd",
   "metadata": {},
   "source": [
    "Agora `funcionarios` lembra muito uma tabela ou matriz. Podemos obter a função do segundo funcionário pedindo pelo segundo elemento do terceiro elemento de `funcionarios`."
   ]
  },
  {
   "cell_type": "code",
   "execution_count": 131,
   "id": "dac8eadc",
   "metadata": {},
   "outputs": [
    {
     "data": {
      "text/plain": [
       "'Coordenadora'"
      ]
     },
     "execution_count": 131,
     "metadata": {},
     "output_type": "execute_result"
    }
   ],
   "source": [
    "funcionarios[2][1]"
   ]
  },
  {
   "cell_type": "markdown",
   "id": "30979504",
   "metadata": {},
   "source": [
    "Note que alterando `funcionario_02` não altera a lista dentro de `funcionarios`."
   ]
  },
  {
   "cell_type": "code",
   "execution_count": 132,
   "id": "d3def089",
   "metadata": {},
   "outputs": [
    {
     "data": {
      "text/plain": [
       "[['Nome', 'Função', 'Salário'],\n",
       " ['José', 'Analista', 5000],\n",
       " ['Maria', 'Coordenadora', 7000]]"
      ]
     },
     "execution_count": 132,
     "metadata": {},
     "output_type": "execute_result"
    }
   ],
   "source": [
    "funcionario_02 = [\"Sandra\", \"Advogada\", 6000]\n",
    "funcionarios"
   ]
  },
  {
   "cell_type": "markdown",
   "id": "1ce17236",
   "metadata": {},
   "source": [
    "Lembre-se de que listas são mutáveis e estão ligadas a um índice que começa em zero. Outra estrutura importante são as tuplas.\n",
    "\n",
    "### Tuplas\n",
    "\n",
    "Tuplas são tipos imutáveis. Para delcarar uma tupla use os parentesis."
   ]
  },
  {
   "cell_type": "code",
   "execution_count": 137,
   "id": "bb3daeb2",
   "metadata": {},
   "outputs": [
    {
     "data": {
      "text/plain": [
       "()"
      ]
     },
     "execution_count": 137,
     "metadata": {},
     "output_type": "execute_result"
    }
   ],
   "source": [
    "despesas_2019 = ()\n",
    "despesas_2019"
   ]
  },
  {
   "cell_type": "markdown",
   "id": "3ee64e8e",
   "metadata": {},
   "source": [
    "Chame `len(<tupla>)` para medir o tamanho da tupla."
   ]
  },
  {
   "cell_type": "code",
   "execution_count": 81,
   "id": "ae169dc7",
   "metadata": {},
   "outputs": [
    {
     "data": {
      "text/plain": [
       "0"
      ]
     },
     "execution_count": 81,
     "metadata": {},
     "output_type": "execute_result"
    }
   ],
   "source": [
    "len(despesas_2019)"
   ]
  },
  {
   "cell_type": "markdown",
   "id": "9e4d894c",
   "metadata": {},
   "source": [
    "De forma análoga, é possível incluir elementos em uma tupla separando-os por vírgula. Eles podem ter tipos variados."
   ]
  },
  {
   "cell_type": "code",
   "execution_count": 144,
   "id": "45b7a82c",
   "metadata": {},
   "outputs": [
    {
     "data": {
      "text/plain": [
       "(10, 12, 14, 20, 12.1, 'N/A')"
      ]
     },
     "execution_count": 144,
     "metadata": {},
     "output_type": "execute_result"
    }
   ],
   "source": [
    "despesas_2019 = (10, 12, 14, 20, 12.1, \"N/A\")\n",
    "despesas_2019"
   ]
  },
  {
   "cell_type": "markdown",
   "id": "ba39c9e2",
   "metadata": {},
   "source": [
    "Bem como nas listas, elementos das tuplas têm indíces que podem ser usados para retornar um elemento:"
   ]
  },
  {
   "cell_type": "code",
   "execution_count": 139,
   "id": "52d3d095",
   "metadata": {},
   "outputs": [
    {
     "data": {
      "text/plain": [
       "10"
      ]
     },
     "execution_count": 139,
     "metadata": {},
     "output_type": "execute_result"
    }
   ],
   "source": [
    "despesas_2019[0]"
   ]
  },
  {
   "cell_type": "markdown",
   "id": "7c1cf8d0",
   "metadata": {},
   "source": [
    "E seguem as mesmas regras das listas e _strings_ quando se trata de fatiar:"
   ]
  },
  {
   "cell_type": "code",
   "execution_count": 141,
   "id": "0f1d9508",
   "metadata": {},
   "outputs": [
    {
     "data": {
      "text/plain": [
       "(12, 14)"
      ]
     },
     "execution_count": 141,
     "metadata": {},
     "output_type": "execute_result"
    }
   ],
   "source": [
    "despesas_2019[1:3]"
   ]
  },
  {
   "cell_type": "markdown",
   "id": "86c001b8",
   "metadata": {},
   "source": [
    "Tentar alterar um elemnto da tupla gera um erro:"
   ]
  },
  {
   "cell_type": "code",
   "execution_count": 143,
   "id": "5c5bb29a",
   "metadata": {},
   "outputs": [
    {
     "ename": "TypeError",
     "evalue": "'tuple' object does not support item assignment",
     "output_type": "error",
     "traceback": [
      "\u001b[1;31m---------------------------------------------------------------------------\u001b[0m",
      "\u001b[1;31mTypeError\u001b[0m                                 Traceback (most recent call last)",
      "\u001b[1;32m<ipython-input-143-e84d842eb9ef>\u001b[0m in \u001b[0;36m<module>\u001b[1;34m\u001b[0m\n\u001b[1;32m----> 1\u001b[1;33m \u001b[0mdespesas_2019\u001b[0m\u001b[1;33m[\u001b[0m\u001b[1;36m0\u001b[0m\u001b[1;33m]\u001b[0m \u001b[1;33m=\u001b[0m \u001b[1;36m12\u001b[0m\u001b[1;33m\u001b[0m\u001b[1;33m\u001b[0m\u001b[0m\n\u001b[0m",
      "\u001b[1;31mTypeError\u001b[0m: 'tuple' object does not support item assignment"
     ]
    }
   ],
   "source": [
    "despesas_2019[0] = 12"
   ]
  },
  {
   "cell_type": "markdown",
   "id": "b4e185ec",
   "metadata": {},
   "source": [
    "Pense em usar tuplas no lugar de listas se o dado não deve ser alterado.\n",
    "\n",
    "## Dicionários\n",
    "\n",
    "Dicionários são declarados usando chaves (`{}`). Elas funcionam com uma estrutura _chave-valor_. Grosseiramente, dicionários são listas com índices customizados."
   ]
  },
  {
   "cell_type": "code",
   "execution_count": 1,
   "id": "dae58e7f",
   "metadata": {},
   "outputs": [
    {
     "data": {
      "text/plain": [
       "{}"
      ]
     },
     "execution_count": 1,
     "metadata": {},
     "output_type": "execute_result"
    }
   ],
   "source": [
    "salarios = {}\n",
    "salarios"
   ]
  },
  {
   "cell_type": "markdown",
   "id": "e65ea3ae",
   "metadata": {},
   "source": [
    "`len()` aponta o tamanho do dicionário;"
   ]
  },
  {
   "cell_type": "code",
   "execution_count": 2,
   "id": "ad176390",
   "metadata": {},
   "outputs": [
    {
     "data": {
      "text/plain": [
       "0"
      ]
     },
     "execution_count": 2,
     "metadata": {},
     "output_type": "execute_result"
    }
   ],
   "source": [
    "len(salarios)"
   ]
  },
  {
   "cell_type": "markdown",
   "id": "050591ce",
   "metadata": {},
   "source": [
    "Para colocar valroes dentro do dicionários precisamos escolher a chave, o valor e separar essa combinação por vírgula. Chave e valor são separados por dois pontos. A sintaxe fica a seguinte:"
   ]
  },
  {
   "cell_type": "code",
   "execution_count": 5,
   "id": "beb84c24",
   "metadata": {},
   "outputs": [
    {
     "data": {
      "text/plain": [
       "{'Analista de Dados': 5500, 'Cientista de Dados': 4600}"
      ]
     },
     "execution_count": 5,
     "metadata": {},
     "output_type": "execute_result"
    }
   ],
   "source": [
    "salarios_dados = { \"Analista de Dados\" : 5500, \"Cientista de Dados\" : 4600}\n",
    "salarios_dados"
   ]
  },
  {
   "cell_type": "markdown",
   "id": "3175ba54",
   "metadata": {},
   "source": [
    "Não é possível acessar dados pela posição no índice, mas sim pela chaves."
   ]
  },
  {
   "cell_type": "code",
   "execution_count": 6,
   "id": "85e6a1d8",
   "metadata": {},
   "outputs": [
    {
     "data": {
      "text/plain": [
       "5500"
      ]
     },
     "execution_count": 6,
     "metadata": {},
     "output_type": "execute_result"
    }
   ],
   "source": [
    "salarios_dados[\"Analista de Dados\"]"
   ]
  },
  {
   "cell_type": "markdown",
   "id": "e42b199d",
   "metadata": {},
   "source": [
    "Ao tentar acessar a chave por meio da posição um erro será imprimido."
   ]
  },
  {
   "cell_type": "code",
   "execution_count": 7,
   "id": "22f74f08",
   "metadata": {},
   "outputs": [
    {
     "ename": "KeyError",
     "evalue": "0",
     "output_type": "error",
     "traceback": [
      "\u001b[1;31m---------------------------------------------------------------------------\u001b[0m",
      "\u001b[1;31mKeyError\u001b[0m                                  Traceback (most recent call last)",
      "\u001b[1;32m<ipython-input-7-32693e0ab7cb>\u001b[0m in \u001b[0;36m<module>\u001b[1;34m\u001b[0m\n\u001b[1;32m----> 1\u001b[1;33m \u001b[0msalarios_dados\u001b[0m\u001b[1;33m[\u001b[0m\u001b[1;36m0\u001b[0m\u001b[1;33m]\u001b[0m\u001b[1;33m\u001b[0m\u001b[1;33m\u001b[0m\u001b[0m\n\u001b[0m",
      "\u001b[1;31mKeyError\u001b[0m: 0"
     ]
    }
   ],
   "source": [
    "salarios_dados[0]"
   ]
  },
  {
   "cell_type": "markdown",
   "id": "4223b8e0",
   "metadata": {},
   "source": [
    "É possível no entanto ter um número inteiro como chave. Para adicionar uma nova chaves a um dicionário já existente use `<dicionario>.update({<novas entradas>})`: "
   ]
  },
  {
   "cell_type": "code",
   "execution_count": 8,
   "id": "3cec3fc2",
   "metadata": {},
   "outputs": [
    {
     "data": {
      "text/plain": [
       "{'Analista de Dados': 5500, 'Cientista de Dados': 4600, 1: [0, 1, 3]}"
      ]
     },
     "execution_count": 8,
     "metadata": {},
     "output_type": "execute_result"
    }
   ],
   "source": [
    "salarios_dados.update({1 : [0, 1, 3]})\n",
    "salarios_dados"
   ]
  },
  {
   "cell_type": "markdown",
   "id": "8b8dfcdc",
   "metadata": {},
   "source": [
    "Aqui mostro duas coisas: números inteiros podem ser chaves; listas podem ser valores."
   ]
  },
  {
   "cell_type": "code",
   "execution_count": 10,
   "id": "61ad9c6d",
   "metadata": {},
   "outputs": [
    {
     "data": {
      "text/plain": [
       "[0, 1, 3]"
      ]
     },
     "execution_count": 10,
     "metadata": {},
     "output_type": "execute_result"
    }
   ],
   "source": [
    "salarios_dados[1]"
   ]
  },
  {
   "cell_type": "markdown",
   "id": "767f7a64",
   "metadata": {},
   "source": [
    "Na verdade como chaves podemos ter qualquer tipo de variável que seja _hashable_. Exemplos dessas são: _strings_, tuplas, inteiros, flutuantes, booleanos, complexos.\n",
    "\n",
    "```\n",
    "Uma forma alterativa para tipar um dado é o que chamamos de tipagem de pato (ou duck typing). Nada mais é que tipar dados pelo o que ele pode fazer, algum comportamento do dado. \"Se tem pena e faz quack, é um pato\". Hashable é um exemplo disso. Todas esses tipos citados acima são variáveis do \"tipo hashable\". Como hashable é um comportomaneto e não um tipo propriamente dito, é o tal do duck typing.\n",
    "```\n",
    "\n",
    "Para valores, tudo é possível. Outros dicionários podem ser utilizados como valores. Em opsição ao método `.update()`, o método `.pop()` retira elementos do dicionário."
   ]
  },
  {
   "cell_type": "code",
   "execution_count": 13,
   "id": "8f34116a",
   "metadata": {},
   "outputs": [
    {
     "data": {
      "text/plain": [
       "[0, 1, 3]"
      ]
     },
     "execution_count": 13,
     "metadata": {},
     "output_type": "execute_result"
    }
   ],
   "source": [
    "salarios_dados.pop(1)"
   ]
  },
  {
   "cell_type": "markdown",
   "id": "7ea00b65",
   "metadata": {},
   "source": [
    "Alternativamente poderíamos ter entrado com `del salarios_dados[1]`.\n",
    "\n",
    "Perceba que esse método recebe a chave e retorna o valor retirado. `.pop()` faz uma modificação _inplace_."
   ]
  },
  {
   "cell_type": "code",
   "execution_count": 14,
   "id": "2d918039",
   "metadata": {},
   "outputs": [
    {
     "data": {
      "text/plain": [
       "{'Analista de Dados': 5500, 'Cientista de Dados': 4600}"
      ]
     },
     "execution_count": 14,
     "metadata": {},
     "output_type": "execute_result"
    }
   ],
   "source": [
    "salarios_dados"
   ]
  },
  {
   "cell_type": "markdown",
   "id": "f74a3ebf",
   "metadata": {},
   "source": [
    "Outros méotods importantes importantes são o `.keys()` e `.values()` que retornam resctivamente as chaves e valores na mesma ordem."
   ]
  },
  {
   "cell_type": "code",
   "execution_count": 18,
   "id": "051b1c72",
   "metadata": {},
   "outputs": [
    {
     "name": "stdout",
     "output_type": "stream",
     "text": [
      "salarios_dados.keys(): dict_keys(['Analista de Dados', 'Cientista de Dados'])\n",
      "salarios_dados.values(): dict_values([5500, 4600])\n"
     ]
    }
   ],
   "source": [
    "print(\"salarios_dados.keys():\", salarios_dados.keys())\n",
    "print(\"salarios_dados.values():\", salarios_dados.values())"
   ]
  },
  {
   "cell_type": "markdown",
   "id": "92d83ecb",
   "metadata": {},
   "source": [
    "Embora não seja possível chamar diretamente pela posição do item na chave, é possível chamar pela posição da chave no método `.keys()` da seguinte forma:"
   ]
  },
  {
   "cell_type": "code",
   "execution_count": 21,
   "id": "2a752181",
   "metadata": {},
   "outputs": [
    {
     "data": {
      "text/plain": [
       "5500"
      ]
     },
     "execution_count": 21,
     "metadata": {},
     "output_type": "execute_result"
    }
   ],
   "source": [
    "chaves = list(salarios_dados.keys())\n",
    "\n",
    "salarios_dados[chaves[0]]"
   ]
  },
  {
   "cell_type": "markdown",
   "id": "cfc5590f",
   "metadata": {},
   "source": [
    "Muito embora seja possível fatiar a lista `chaves`"
   ]
  },
  {
   "cell_type": "code",
   "execution_count": 23,
   "id": "82f71ed5",
   "metadata": {},
   "outputs": [
    {
     "data": {
      "text/plain": [
       "['Analista de Dados', 'Cientista de Dados']"
      ]
     },
     "execution_count": 23,
     "metadata": {},
     "output_type": "execute_result"
    }
   ],
   "source": [
    "chaves[:2]"
   ]
  },
  {
   "cell_type": "markdown",
   "id": "320d0122",
   "metadata": {},
   "source": [
    "Não é possível retornar mais de uma chave do dicionário ao mesmo tempo:"
   ]
  },
  {
   "cell_type": "code",
   "execution_count": 24,
   "id": "6d39a558",
   "metadata": {},
   "outputs": [
    {
     "ename": "TypeError",
     "evalue": "unhashable type: 'list'",
     "output_type": "error",
     "traceback": [
      "\u001b[1;31m---------------------------------------------------------------------------\u001b[0m",
      "\u001b[1;31mTypeError\u001b[0m                                 Traceback (most recent call last)",
      "\u001b[1;32m<ipython-input-24-194d8f24933e>\u001b[0m in \u001b[0;36m<module>\u001b[1;34m\u001b[0m\n\u001b[1;32m----> 1\u001b[1;33m \u001b[0msalarios_dados\u001b[0m\u001b[1;33m[\u001b[0m\u001b[0mchaves\u001b[0m\u001b[1;33m[\u001b[0m\u001b[1;33m:\u001b[0m\u001b[1;36m2\u001b[0m\u001b[1;33m]\u001b[0m\u001b[1;33m]\u001b[0m\u001b[1;33m\u001b[0m\u001b[1;33m\u001b[0m\u001b[0m\n\u001b[0m",
      "\u001b[1;31mTypeError\u001b[0m: unhashable type: 'list'"
     ]
    }
   ],
   "source": [
    "salarios_dados[chaves[:2]]"
   ]
  },
  {
   "cell_type": "markdown",
   "id": "4e5368c9",
   "metadata": {},
   "source": [
    "Se atribuirmos valores para uma chave já existente, seu valor é alterado no dicionário. Caso a chave ainda não exista nele, ele é criada."
   ]
  },
  {
   "cell_type": "code",
   "execution_count": 25,
   "id": "121d54ca",
   "metadata": {},
   "outputs": [
    {
     "data": {
      "text/plain": [
       "{'Analista de Dados': 'Valor Alterado',\n",
       " 'Cientista de Dados': 4600,\n",
       " 'Coordenador': 'Novo Valor'}"
      ]
     },
     "execution_count": 25,
     "metadata": {},
     "output_type": "execute_result"
    }
   ],
   "source": [
    "salarios_dados[\"Analista de Dados\"] = \"Valor Alterado\"\n",
    "salarios_dados[\"Coordenador\"] = \"Novo Valor\"\n",
    "\n",
    "salarios_dados"
   ]
  },
  {
   "cell_type": "markdown",
   "id": "e1c9e73a",
   "metadata": {},
   "source": [
    "Uma construção muito comum é atribuir listas como valores de cada chaves. Nestes casos, podemos pensar nas chaves como colunas de uma tabela, sendo todos os métodos das listas acessíveis por meio da chave."
   ]
  },
  {
   "cell_type": "code",
   "execution_count": 26,
   "id": "8edbbe48",
   "metadata": {},
   "outputs": [
    {
     "data": {
      "text/plain": [
       "{'ano': [], 'unidade_de_negocio': [], 'headcount': []}"
      ]
     },
     "execution_count": 26,
     "metadata": {},
     "output_type": "execute_result"
    }
   ],
   "source": [
    "informacoes_rh = {\n",
    "    \"ano\" : [],\n",
    "    \"unidade_de_negocio\" :[],\n",
    "    \"headcount\" : [],\n",
    "}\n",
    "\n",
    "informacoes_rh"
   ]
  },
  {
   "cell_type": "markdown",
   "id": "4b106d9c",
   "metadata": {},
   "source": [
    "Use `.append()` para acrescentar informações:"
   ]
  },
  {
   "cell_type": "code",
   "execution_count": 27,
   "id": "7bb7a91b",
   "metadata": {},
   "outputs": [
    {
     "data": {
      "text/plain": [
       "{'ano': [2021, 2022],\n",
       " 'unidade_de_negocio': ['Inteligencia de Mercado', 'Inteligencia de Mercado'],\n",
       " 'headcount': [150, 20]}"
      ]
     },
     "execution_count": 27,
     "metadata": {},
     "output_type": "execute_result"
    }
   ],
   "source": [
    "# informações de 2021\n",
    "informacoes_rh[\"ano\"].append(2021)\n",
    "informacoes_rh[\"unidade_de_negocio\"].append(\"Inteligencia de Mercado\")\n",
    "informacoes_rh[\"headcount\"].append(150)\n",
    "\n",
    "# informações de 2022\n",
    "informacoes_rh[\"ano\"].append(2022)\n",
    "informacoes_rh[\"unidade_de_negocio\"].append(\"Inteligencia de Mercado\")\n",
    "informacoes_rh[\"headcount\"].append(20)\n",
    "\n",
    "informacoes_rh"
   ]
  },
  {
   "cell_type": "markdown",
   "id": "6079013c",
   "metadata": {},
   "source": [
    "### Inputs do Usuário\n",
    "\n",
    "Periamos querer interagir com os usuários. _Inputs_ permitem fazer isso."
   ]
  },
  {
   "cell_type": "code",
   "execution_count": 28,
   "id": "d8c3bf29",
   "metadata": {},
   "outputs": [
    {
     "name": "stdout",
     "output_type": "stream",
     "text": [
      "Qual o seu nome? Vitor\n"
     ]
    }
   ],
   "source": [
    "nome = input(\"Qual o seu nome? \")"
   ]
  },
  {
   "cell_type": "markdown",
   "id": "5e331e5d",
   "metadata": {},
   "source": [
    "Combinando o que vimos anteriormente nos dicionários "
   ]
  },
  {
   "cell_type": "code",
   "execution_count": 31,
   "id": "60a59aa2",
   "metadata": {},
   "outputs": [
    {
     "name": "stdout",
     "output_type": "stream",
     "text": [
      "Insira o ano: 2019\n",
      "Unidade de negócio: Inteligência de Mercado\n",
      "Headcount: 10\n"
     ]
    },
    {
     "data": {
      "text/plain": [
       "{'ano': [2021, 2022, 2019],\n",
       " 'unidade_de_negocio': ['Inteligencia de Mercado',\n",
       "  'Inteligencia de Mercado',\n",
       "  'Inteligência de Mercado'],\n",
       " 'headcount': [150, 20, 10]}"
      ]
     },
     "execution_count": 31,
     "metadata": {},
     "output_type": "execute_result"
    }
   ],
   "source": [
    "informacoes_rh[\"ano\"].append(int(input(\"Insira o ano: \")))\n",
    "informacoes_rh[\"unidade_de_negocio\"].append(input(\"Unidade de negócio: \"))\n",
    "informacoes_rh[\"headcount\"].append(int(input(\"Headcount: \")))\n",
    "                                            \n",
    "informacoes_rh"
   ]
  },
  {
   "cell_type": "markdown",
   "id": "036f7f75",
   "metadata": {},
   "source": [
    "É possível ainda formatar strings de diversas formas. As mais comumns são:\n",
    "\n",
    "* digitar f antes das áspas, como em `f\" \"`;\n",
    "* chamar o método `.format()` ao final da _string_;\n",
    "* chamando ` % ` depois da _string_.\n",
    "\n",
    "Para cada um desses existem formas diferentes de indicar o que será formatado e onde. Primeiro considerar as seguintes entradas e veja que existem diversas sintaxes levando ao mesmo resultado."
   ]
  },
  {
   "cell_type": "code",
   "execution_count": 32,
   "id": "e545be09",
   "metadata": {},
   "outputs": [
    {
     "name": "stdout",
     "output_type": "stream",
     "text": [
      "cargo=Analista\n",
      "nível=Júnior\n",
      "salário=4500.23\n"
     ]
    }
   ],
   "source": [
    "cargo = input(\"cargo=\")\n",
    "nivel = input(\"nível=\")\n",
    "salario = input(\"salário=\")\n",
    "salario = float(salario)\n",
    "\n",
    "print(f\"{cargo} {nivel} ; salário = R${salario : .2f}\")\n",
    "print(\"{} {} ; salário = R${:.2f}\".format(cargo, nivel, salario))\n",
    "print(\"%s %s ; salário = R$%.2f\" %(cargo, nivel, salario))"
   ]
  },
  {
   "cell_type": "markdown",
   "id": "6f2c2cc2",
   "metadata": {},
   "source": [
    "[Mais informações](https://www.pythoncheatsheet.org/cheatsheet/string-formatting)\n",
    "\n",
    "É possível verificar se uma chave faz parte de um dicionário:"
   ]
  },
  {
   "cell_type": "code",
   "execution_count": 46,
   "id": "ba7f4013",
   "metadata": {},
   "outputs": [
    {
     "data": {
      "text/plain": [
       "True"
      ]
     },
     "execution_count": 46,
     "metadata": {},
     "output_type": "execute_result"
    }
   ],
   "source": [
    "\"ano\" in informacoes_rh"
   ]
  },
  {
   "cell_type": "markdown",
   "id": "b87ee3d4",
   "metadata": {},
   "source": [
    "## Condições\n",
    "\n",
    "Condições seguem um padrão \"se verdaeiro, fazer algo\". _Python_ é uma linguagem identada, então para usar o condicional comece com a palavra reservada `if` seguida de uma variável booleana ou uma condição, dois pontos. O que vem abaixo e identado (normalmente usam 4 espaços em branco ou _tab_) é o código que deve ser executado."
   ]
  },
  {
   "cell_type": "code",
   "execution_count": 166,
   "id": "f3d33a28",
   "metadata": {},
   "outputs": [
    {
     "name": "stdout",
     "output_type": "stream",
     "text": [
      "É verdadeiro\n"
     ]
    }
   ],
   "source": [
    "if True:\n",
    "    # tudo aqui é executado\n",
    "    print(\"Isso é executado\")\n",
    "    \n",
    "    \n",
    "if False:\n",
    "    print(\"Esse não.\")"
   ]
  },
  {
   "cell_type": "markdown",
   "id": "9f4e5a2b",
   "metadata": {},
   "source": [
    "Palavras reservadas `not`, `and`, `or` e `in` são bastante úteis no momento de construir condições. Considere o exemplo:"
   ]
  },
  {
   "cell_type": "code",
   "execution_count": 167,
   "id": "3d4ac7dc",
   "metadata": {},
   "outputs": [],
   "source": [
    "if 2019 not in informacoes_rh[\"ano\"]:\n",
    "    print(\"Insira informações de 2019\")\n",
    "    informacoes_rh[\"unidade_de_negocio\"].append(2019)\n",
    "    informacoes_rh[\"unidade_de_negocio\"].append(input(\"Unidade de negócio: \"))\n",
    "    informacoes_rh[\"headcount\"].append(int(input(\"Headcount: \")))"
   ]
  },
  {
   "cell_type": "markdown",
   "id": "94bb378b",
   "metadata": {},
   "source": [
    "Os `if` podem vir seguidos de outras lógicas a serem testadas, essas são os `elif`. Por fim, se nenhuma condição que vem depois do `if` e/ou `elif`s são atendidas, então é possível encadear um `else` que só sera executado se nada depois do último `if` foi executado.\n",
    "\n",
    "```\n",
    "Uma linha não identada sinaliza o fim das condições. Não é possível inserir um elif ou else depois disso.\n",
    "```\n",
    "\n",
    "Considere o exemplo seguinte para ver como as condições podem ser encadeadas:"
   ]
  },
  {
   "cell_type": "code",
   "execution_count": 49,
   "id": "c8747380",
   "metadata": {},
   "outputs": [
    {
     "name": "stdout",
     "output_type": "stream",
     "text": [
      "Margem muito baixa\n"
     ]
    }
   ],
   "source": [
    "margen_2022 = 0.2\n",
    "positiva = False\n",
    "\n",
    "if margen_2022 >= 0.5 and positiva:\n",
    "    print(\"Margem muito alta\")\n",
    "elif margen_2022 >= 0.3 and positiva:\n",
    "    print(\"Margem alta\")\n",
    "elif margen_2022 >= 0.15 and positiva:\n",
    "    print(\"Margem média\")\n",
    "elif abs(margen_2022) < 0.15:\n",
    "    print(\"Margem baixa\")\n",
    "    if not positiva:\n",
    "        print(\"e negativa\")\n",
    "    else:\n",
    "        print(\"e positiva\")\n",
    "else:\n",
    "    print(\"Margem muito baixa\")"
   ]
  },
  {
   "cell_type": "markdown",
   "id": "cd4cc1f8",
   "metadata": {},
   "source": [
    "Note que podemos ter `if`\\\\`elif`\\\\`else`s dentro de outros condicionais. Fique atente-se para o comportamento das palavras reservadas:\n",
    "\n",
    "* `and` só resulta em verdadeiro se ambas condições forem verdadeiras;\n",
    "* `or` resulta em verdadeiro se alguma das condiçõe for verdadeira;\n",
    "* `not` inverte a lógica, verdadeiro vira falso e vice-versa;\n",
    "* `in` verdadeiro se um objeto está dentro de outro.\n",
    "\n",
    "Você pode testar as acerssões fora de condicionais para verificar seu retorno:"
   ]
  },
  {
   "cell_type": "code",
   "execution_count": 51,
   "id": "c54f3409",
   "metadata": {},
   "outputs": [
    {
     "name": "stdout",
     "output_type": "stream",
     "text": [
      "margen_2022: 0.2\n",
      "positiva: False\n",
      "margen_2022 >= 0.3 and positiva?\n"
     ]
    },
    {
     "data": {
      "text/plain": [
       "False"
      ]
     },
     "execution_count": 51,
     "metadata": {},
     "output_type": "execute_result"
    }
   ],
   "source": [
    "print(\"margen_2022:\", margen_2022)\n",
    "print(\"positiva:\", positiva)\n",
    "\n",
    "print(\"margen_2022 >= 0.3 and positiva?\")\n",
    "margen_2022 >= 0.3 and positiva"
   ]
  },
  {
   "cell_type": "markdown",
   "id": "f63a4b3e",
   "metadata": {},
   "source": [
    "## Estruturas de Repetição\n",
    "\n",
    "Estruturas de repetição executam códigos repetidamente. As principais estruturas de repetição em _Python_ são o `while` e o `for`. O primeiro executa uma repetição enquanto certa condição é atendida (cuidado para não executar um código eternamente). Normalmente eles são executados com contadores. A palavra reservada `break` quebra a repetição."
   ]
  },
  {
   "cell_type": "code",
   "execution_count": 52,
   "id": "792ff1fa",
   "metadata": {},
   "outputs": [
    {
     "name": "stdout",
     "output_type": "stream",
     "text": [
      "Contador atual: 0\n",
      "Contador atual: 1\n",
      "Contador atual: 2\n",
      "Contador atual: 3\n",
      "Contador atual: 4\n"
     ]
    }
   ],
   "source": [
    "contador = 0\n",
    "\n",
    "while contador < 5:\n",
    "    print(\"Contador atual:\", contador)\n",
    "    contador = contador + 1"
   ]
  },
  {
   "cell_type": "markdown",
   "id": "d9a9b7e0",
   "metadata": {},
   "source": [
    "`for` pega um elemento por vez de um objeto iterável (muitos são) e executa o código para cada iterador até que todos sejam percorridos ou um condição de parada atingida. Você pode usar `break` para definir uma condição de parada. Outra palavra importante para `while` e `for` é o `continue` que pula para o próximo laço de repetição.\n",
    "\n",
    "A função `range()` permite criar um interlavo. Por padrão ele começa de zero e vai até o número informado. Também é possível informar a posição incial, final (sendo final não incluso) e o passo. Por exemplo, `range(5)` cria um intervalo do zero ao quatro, incrimentando um número por vez. `range(1,6,2)` cria um intervalo indo de 1 até 5 com passos incrimentais de dois por vez.\n",
    "\n",
    "Para percorrer todos os elementos de `range(1,6,2)` podemos usar um `for`:"
   ]
  },
  {
   "cell_type": "code",
   "execution_count": 53,
   "id": "419bc9c3",
   "metadata": {},
   "outputs": [
    {
     "name": "stdout",
     "output_type": "stream",
     "text": [
      "1\n",
      "3\n",
      "5\n"
     ]
    }
   ],
   "source": [
    "for numero in range(1,6,2):\n",
    "    print(numero)"
   ]
  },
  {
   "cell_type": "markdown",
   "id": "979fc61d",
   "metadata": {},
   "source": [
    "Eu poderia ter dado qualquer outro nome válido em lugar de `numero`, que é uma espécie de apelido para cada elemento retirado por vez. Tente compreender o que ocorre abaixo:"
   ]
  },
  {
   "cell_type": "code",
   "execution_count": 58,
   "id": "012eed3e",
   "metadata": {},
   "outputs": [
    {
     "name": "stdout",
     "output_type": "stream",
     "text": [
      "3 é múltiplo de 3.\n",
      "6 é múltiplo de 2 e 3.\n",
      "9 é múltiplo de 3.\n",
      "12 é múltiplo de 2 e 3.\n",
      "15 é múltiplo de 3.\n",
      "18 é múltiplo de 2 e 3.\n",
      "21 é múltiplo de 3.\n",
      "24 é múltiplo de 2 e 3.\n",
      "27 é múltiplo de 3.\n",
      "30 é múltiplo de 2 e 3.\n"
     ]
    }
   ],
   "source": [
    "for i in range(3, 31, 3):\n",
    "    # se o resto da divisão por 6 é zero\n",
    "    if i % 6 == 0:\n",
    "        print(i, \"é múltiplo de 2 e 3.\")\n",
    "    # do contrário, se o resto da divisão por 2 é zero\n",
    "    elif i % 2 == 0:\n",
    "        print(i, \"é múltiplo de 2.\")\n",
    "    # do contrário, se o resto da divisão por 3 é zero\n",
    "    elif i % 3 == 0:\n",
    "        print(i, \"é múltiplo de 3.\")"
   ]
  },
  {
   "cell_type": "markdown",
   "id": "5e3a6b40",
   "metadata": {},
   "source": [
    "Ou então:"
   ]
  },
  {
   "cell_type": "code",
   "execution_count": 61,
   "id": "9599771c",
   "metadata": {},
   "outputs": [
    {
     "name": "stdout",
     "output_type": "stream",
     "text": [
      "5\n",
      "15\n",
      "20\n",
      "25\n",
      "30\n",
      "j = 31\n",
      "Condição de parada\n"
     ]
    }
   ],
   "source": [
    "j = 0\n",
    "while True:\n",
    "    j = j + 1\n",
    "    # se j for 10, pulamos para o iterador seguinte\n",
    "    if j == 10:\n",
    "        continue    \n",
    "    elif j % 5 == 0:\n",
    "        print(j)\n",
    "    elif j == 31:\n",
    "        print(\"j =\", j)\n",
    "        print(\"Condição de parada\")\n",
    "        break\n",
    "    "
   ]
  },
  {
   "cell_type": "code",
   "execution_count": null,
   "id": "030a9c77",
   "metadata": {},
   "outputs": [],
   "source": []
  },
  {
   "cell_type": "markdown",
   "id": "a41ec2a7",
   "metadata": {},
   "source": [
    "## Funções\n",
    "\n",
    "Para criar funções novas use a palavra reservada `def() <nome_da_função>()` seguido de `:` e identação."
   ]
  },
  {
   "cell_type": "code",
   "execution_count": 5,
   "id": "c726b668",
   "metadata": {},
   "outputs": [],
   "source": [
    "def promover():\n",
    "    print(\"Você é uma máquina de vencer!\")"
   ]
  },
  {
   "cell_type": "markdown",
   "id": "5d85e96c",
   "metadata": {},
   "source": [
    "Depois é só chamar pelo nome:"
   ]
  },
  {
   "cell_type": "code",
   "execution_count": 6,
   "id": "4dac9ffd",
   "metadata": {},
   "outputs": [
    {
     "name": "stdout",
     "output_type": "stream",
     "text": [
      "Você é uma máquina de vencer!\n"
     ]
    }
   ],
   "source": [
    "promover()"
   ]
  },
  {
   "cell_type": "markdown",
   "id": "1db5590a",
   "metadata": {},
   "source": [
    "Funções podem ter nenhum ou vários argumentos."
   ]
  },
  {
   "cell_type": "code",
   "execution_count": 8,
   "id": "9a0b687c",
   "metadata": {},
   "outputs": [
    {
     "data": {
      "text/plain": [
       "1126.8250301319697"
      ]
     },
     "execution_count": 8,
     "metadata": {},
     "output_type": "execute_result"
    }
   ],
   "source": [
    "def calcula_valor_futuro(capital_inicial, tempo, juros):\n",
    "    return capital_inicial * (1 + juros) ** tempo\n",
    "    \n",
    "calcula_valor_futuro(1000, 12, .01)"
   ]
  },
  {
   "cell_type": "markdown",
   "id": "72375549",
   "metadata": {},
   "source": [
    "Ao chamar por uma função existente é possível informar os argumentos na mesma ordem em que eles foram criados. Note que eu não avisei qual dos números era o _capital_incial_ e _etc_. Eu apenas informei eles na ordem \"correta\". Também era perfeitamente possível executar `calcula_valor_futuro(capital_inicial=1000, tempo=12, juros=.01)`. Quando eu dou nome para os argumentos a ordem não importa.\n",
    "\n",
    "Para que a função devolva um valor é preciso usar a palavra reservada `return`. Assim que você uma linha com `return` é executado, a função termína e nada mais abaixo é executado. Preste atenção no exemplo."
   ]
  },
  {
   "cell_type": "code",
   "execution_count": 10,
   "id": "4818fb79",
   "metadata": {},
   "outputs": [
    {
     "name": "stdout",
     "output_type": "stream",
     "text": [
      "esse bloco é executado\n"
     ]
    },
    {
     "data": {
      "text/plain": [
       "5"
      ]
     },
     "execution_count": 10,
     "metadata": {},
     "output_type": "execute_result"
    }
   ],
   "source": [
    "def soma(a, b):\n",
    "    print(\"esse bloco é executado\")\n",
    "    soma_ab = a + b\n",
    "    return soma_ab\n",
    "    print(\"isso não é executado\")\n",
    "    \n",
    "    \n",
    "soma(2,3)"
   ]
  },
  {
   "cell_type": "markdown",
   "id": "eaed1161",
   "metadata": {},
   "source": [
    "O efeito do `return` para uma função é semelhante ao `break` de um _loop_, sendo que para a função ele pede que um valor seja devolvido pela função. Para informar argumentos padrões na criação da função use um sinal de igual para atribuir um valor padrão para o argumento. Todos os argumentos com valores devem ser deixados para o final da função."
   ]
  },
  {
   "cell_type": "code",
   "execution_count": 11,
   "id": "b376e841",
   "metadata": {},
   "outputs": [
    {
     "data": {
      "text/plain": [
       "112.68250301319698"
      ]
     },
     "execution_count": 11,
     "metadata": {},
     "output_type": "execute_result"
    }
   ],
   "source": [
    "def valor_futuro(vp, tempo, i=0.01):\n",
    "    return vp * (1 + i) ** tempo\n",
    "\n",
    "valor_futuro(tempo=12, vp=100)"
   ]
  },
  {
   "cell_type": "markdown",
   "id": "387f80fe",
   "metadata": {},
   "source": [
    "Perceba que inverti a ordem dos argumentos (com o nome) na hora de chamar a função, e omiti o último argumento, que por padrão tinha valor $0.01$ (1%).\n",
    "\n",
    "### Escopo da função\n",
    "\n",
    "Funções tem escopo próprio. Isso quer dizer ainda que tenham o mesmo nome, elas não alteram variáveis que estão fora dela, fora do seu escopo. É possível alterar variáveis que estão fora da fução se a palavra `global` for utilizada."
   ]
  },
  {
   "cell_type": "code",
   "execution_count": 15,
   "id": "06daad1c",
   "metadata": {},
   "outputs": [
    {
     "name": "stdout",
     "output_type": "stream",
     "text": [
      "x antes 10\n",
      "y antes 4\n",
      "x depois 10\n",
      "y depois 2\n"
     ]
    }
   ],
   "source": [
    "x = 10\n",
    "y = 4\n",
    "\n",
    "def troca_x(a):\n",
    "    x = a # por enquanto x só existe na função\n",
    "    \n",
    "    global y # usar global altera o escopo da variavel\n",
    "    y = a\n",
    "    \n",
    "print(\"x antes\", x)\n",
    "print(\"y antes\", y)\n",
    "troca_x(2)\n",
    "print(\"x depois\", x)\n",
    "print(\"y depois\", y)"
   ]
  },
  {
   "cell_type": "markdown",
   "id": "85983323",
   "metadata": {},
   "source": [
    "Outras funcionalidades úteis são os símbolos coringa `*` e `**`. Com eles as funções passam a aceitar argumentos extras:"
   ]
  },
  {
   "cell_type": "code",
   "execution_count": 20,
   "id": "92a8c51e",
   "metadata": {},
   "outputs": [
    {
     "name": "stdout",
     "output_type": "stream",
     "text": [
      "1 2 3\n"
     ]
    }
   ],
   "source": [
    "def coringa(*kw):\n",
    "    print(*kw)\n",
    "    \n",
    "coringa(1,2,3)"
   ]
  },
  {
   "cell_type": "code",
   "execution_count": null,
   "id": "123c5776",
   "metadata": {},
   "outputs": [],
   "source": []
  }
 ],
 "metadata": {
  "kernelspec": {
   "display_name": "Python 3",
   "language": "python",
   "name": "python3"
  },
  "language_info": {
   "codemirror_mode": {
    "name": "ipython",
    "version": 3
   },
   "file_extension": ".py",
   "mimetype": "text/x-python",
   "name": "python",
   "nbconvert_exporter": "python",
   "pygments_lexer": "ipython3",
   "version": "3.8.8"
  }
 },
 "nbformat": 4,
 "nbformat_minor": 5
}
