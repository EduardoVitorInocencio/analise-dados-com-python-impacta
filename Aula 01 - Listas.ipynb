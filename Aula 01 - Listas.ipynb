{
 "cells": [
  {
   "cell_type": "markdown",
   "id": "0ac08859",
   "metadata": {},
   "source": [
    "# LISTAS\n"
   ]
  },
  {
   "cell_type": "markdown",
   "id": "0d2402c9",
   "metadata": {},
   "source": [
    "1. Abra um terminal. Digite python, para entrar no modo idle.\n",
    "2. Crie uma lista com nomes de 4 times de futebol"
   ]
  },
  {
   "cell_type": "code",
   "execution_count": 2,
   "id": "316abf5a",
   "metadata": {},
   "outputs": [],
   "source": [
    "football_teams = ['Paris Saint German','Manchester','Juventus','Palmeiras']"
   ]
  },
  {
   "cell_type": "markdown",
   "id": "1745c6e2",
   "metadata": {},
   "source": [
    "3. Acesse o time que está na 3a posição."
   ]
  },
  {
   "cell_type": "code",
   "execution_count": 3,
   "id": "e15cb12c",
   "metadata": {},
   "outputs": [
    {
     "data": {
      "text/plain": [
       "'Palmeiras'"
      ]
     },
     "execution_count": 3,
     "metadata": {},
     "output_type": "execute_result"
    }
   ],
   "source": [
    "football_teams[3]"
   ]
  },
  {
   "cell_type": "code",
   "execution_count": 16,
   "id": "09b1c92c",
   "metadata": {},
   "outputs": [],
   "source": [
    "football_teams_division = \n",
    "[\n",
    "    ['Paris Saint German','Manchester','Palmeiras'],\n",
    "    ['Água Santa','Taperinha','São Caetano']\n",
    "]"
   ]
  },
  {
   "cell_type": "markdown",
   "id": "a98d3cfe",
   "metadata": {},
   "source": [
    "5. Crie uma lista com 3 diferentes moedas. Acrescente mais 2 outras moedas à essa mesma lista."
   ]
  },
  {
   "cell_type": "code",
   "execution_count": 17,
   "id": "04b37bd8",
   "metadata": {},
   "outputs": [],
   "source": [
    "currencyTypes = ['Pounds','Euro','Rand']"
   ]
  },
  {
   "cell_type": "code",
   "execution_count": 18,
   "id": "0e966ce9",
   "metadata": {},
   "outputs": [],
   "source": [
    "currencyTypes.append('Real')"
   ]
  },
  {
   "cell_type": "code",
   "execution_count": 19,
   "id": "d7b6a8e3",
   "metadata": {},
   "outputs": [],
   "source": [
    "currencyTypes.append('Peso')"
   ]
  },
  {
   "cell_type": "code",
   "execution_count": 20,
   "id": "7b7c9cdd",
   "metadata": {},
   "outputs": [
    {
     "data": {
      "text/plain": [
       "['Pounds', 'Euro', 'Rand', 'Real', 'Peso']"
      ]
     },
     "execution_count": 20,
     "metadata": {},
     "output_type": "execute_result"
    }
   ],
   "source": [
    "currencyTypes"
   ]
  },
  {
   "cell_type": "markdown",
   "id": "a63586ce",
   "metadata": {},
   "source": [
    "6. Crie uma string com a lista do exercício anterior."
   ]
  },
  {
   "cell_type": "code",
   "execution_count": 21,
   "id": "94be2ec7",
   "metadata": {},
   "outputs": [
    {
     "data": {
      "text/plain": [
       "'Pounds,Euro,Rand,Real,Peso'"
      ]
     },
     "execution_count": 21,
     "metadata": {},
     "output_type": "execute_result"
    }
   ],
   "source": [
    "string_currency = \",\".join(currencyTypes)\n",
    "string_currency"
   ]
  },
  {
   "cell_type": "markdown",
   "id": "3e162e00",
   "metadata": {},
   "source": [
    "7. Agora utilize a string do exercício 6 para recriar uma lista"
   ]
  },
  {
   "cell_type": "code",
   "execution_count": 22,
   "id": "906429b0",
   "metadata": {},
   "outputs": [
    {
     "data": {
      "text/plain": [
       "['Pounds', 'Euro', 'Rand', 'Real', 'Peso']"
      ]
     },
     "execution_count": 22,
     "metadata": {},
     "output_type": "execute_result"
    }
   ],
   "source": [
    "lista_currency = string_currency.split(\",\") \n",
    "lista_currency"
   ]
  },
  {
   "cell_type": "code",
   "execution_count": 24,
   "id": "48e9afd5",
   "metadata": {},
   "outputs": [
    {
     "data": {
      "text/plain": [
       "['P',\n",
       " 'o',\n",
       " 'u',\n",
       " 'n',\n",
       " 'd',\n",
       " 's',\n",
       " ',',\n",
       " 'E',\n",
       " 'u',\n",
       " 'r',\n",
       " 'o',\n",
       " ',',\n",
       " 'R',\n",
       " 'a',\n",
       " 'n',\n",
       " 'd',\n",
       " ',',\n",
       " 'R',\n",
       " 'e',\n",
       " 'a',\n",
       " 'l',\n",
       " ',',\n",
       " 'P',\n",
       " 'e',\n",
       " 's',\n",
       " 'o']"
      ]
     },
     "execution_count": 24,
     "metadata": {},
     "output_type": "execute_result"
    }
   ],
   "source": [
    "list(string_currency)"
   ]
  }
 ],
 "metadata": {
  "kernelspec": {
   "display_name": "Python 3 (ipykernel)",
   "language": "python",
   "name": "python3"
  },
  "language_info": {
   "codemirror_mode": {
    "name": "ipython",
    "version": 3
   },
   "file_extension": ".py",
   "mimetype": "text/x-python",
   "name": "python",
   "nbconvert_exporter": "python",
   "pygments_lexer": "ipython3",
   "version": "3.9.13"
  }
 },
 "nbformat": 4,
 "nbformat_minor": 5
}
