{
 "cells": [
  {
   "cell_type": "code",
   "execution_count": 22,
   "id": "cc09433f",
   "metadata": {},
   "outputs": [],
   "source": [
    "from sklearn.linear_model import LinearRegression, LogisticRegression\n",
    "from sklearn.metrics import classification_report, confusion_matrix\n",
    "from sklearn.model_selection import train_test_split\n",
    "from sklearn.datasets import load_boston, load_iris\n",
    "from sklearn.datasets import load_diabetes\n",
    "import matplotlib.pyplot as plt\n",
    "import seaborn as sns\n",
    "import pandas as pd\n",
    "import numpy as np"
   ]
  },
  {
   "cell_type": "code",
   "execution_count": 6,
   "id": "de9c392c",
   "metadata": {},
   "outputs": [
    {
     "name": "stdout",
     "output_type": "stream",
     "text": [
      "sklean.datasets.load_* : \n",
      "-------------------------\n",
      "\t *load_boston\n",
      "\t *load_breast_cancer\n",
      "\t *load_diabetes\n",
      "\t *load_digits\n",
      "\t *load_files\n",
      "\t *load_iris\n",
      "\t *load_linnerud\n",
      "\t *load_sample_image\n",
      "\t *load_sample_images\n",
      "\t *load_svmlight_file\n",
      "\t *load_svmlight_files\n",
      "\t *load_wine\n"
     ]
    }
   ],
   "source": [
    "from sklearn import datasets\n",
    "\n",
    "print(\"sklean.datasets.load_* : \\n-------------------------\")\n",
    "print(\n",
    "        \"\\t *\"\n",
    "    + \"\\n\\t *\".join([metodo for metodo in dir(datasets) if metodo.startswith(\"load\")])\n",
    ")"
   ]
  },
  {
   "cell_type": "markdown",
   "id": "347c76eb",
   "metadata": {},
   "source": [
    "1. Utilizando os datasets embutidos no Scikit-Learn crie o conjunto de dados diabetes, utilizando o argumento return_X_y=True."
   ]
  },
  {
   "cell_type": "code",
   "execution_count": 11,
   "id": "fc1be41c",
   "metadata": {},
   "outputs": [],
   "source": [
    "diabetes = load_diabetes(return_X_y=True)\n"
   ]
  },
  {
   "cell_type": "markdown",
   "id": "491ad90b",
   "metadata": {},
   "source": [
    "2. Utilizando o dataset diabetes, crie as variáveis preditoras (X) e a \n",
    "variável resposta(y)."
   ]
  },
  {
   "cell_type": "code",
   "execution_count": 12,
   "id": "96445b6d",
   "metadata": {},
   "outputs": [],
   "source": [
    "X,y = diabetes"
   ]
  },
  {
   "cell_type": "code",
   "execution_count": 14,
   "id": "e79724e2",
   "metadata": {},
   "outputs": [
    {
     "data": {
      "text/plain": [
       "array([[ 0.03807591,  0.05068012,  0.06169621, ..., -0.00259226,\n",
       "         0.01990842, -0.01764613],\n",
       "       [-0.00188202, -0.04464164, -0.05147406, ..., -0.03949338,\n",
       "        -0.06832974, -0.09220405],\n",
       "       [ 0.08529891,  0.05068012,  0.04445121, ..., -0.00259226,\n",
       "         0.00286377, -0.02593034],\n",
       "       ...,\n",
       "       [ 0.04170844,  0.05068012, -0.01590626, ..., -0.01107952,\n",
       "        -0.04687948,  0.01549073],\n",
       "       [-0.04547248, -0.04464164,  0.03906215, ...,  0.02655962,\n",
       "         0.04452837, -0.02593034],\n",
       "       [-0.04547248, -0.04464164, -0.0730303 , ..., -0.03949338,\n",
       "        -0.00421986,  0.00306441]])"
      ]
     },
     "execution_count": 14,
     "metadata": {},
     "output_type": "execute_result"
    }
   ],
   "source": [
    "X"
   ]
  },
  {
   "cell_type": "code",
   "execution_count": 15,
   "id": "fbbe2ddb",
   "metadata": {},
   "outputs": [
    {
     "name": "stdout",
     "output_type": "stream",
     "text": [
      ".. _diabetes_dataset:\n",
      "\n",
      "Diabetes dataset\n",
      "----------------\n",
      "\n",
      "Ten baseline variables, age, sex, body mass index, average blood\n",
      "pressure, and six blood serum measurements were obtained for each of n =\n",
      "442 diabetes patients, as well as the response of interest, a\n",
      "quantitative measure of disease progression one year after baseline.\n",
      "\n",
      "**Data Set Characteristics:**\n",
      "\n",
      "  :Number of Instances: 442\n",
      "\n",
      "  :Number of Attributes: First 10 columns are numeric predictive values\n",
      "\n",
      "  :Target: Column 11 is a quantitative measure of disease progression one year after baseline\n",
      "\n",
      "  :Attribute Information:\n",
      "      - age     age in years\n",
      "      - sex\n",
      "      - bmi     body mass index\n",
      "      - bp      average blood pressure\n",
      "      - s1      tc, total serum cholesterol\n",
      "      - s2      ldl, low-density lipoproteins\n",
      "      - s3      hdl, high-density lipoproteins\n",
      "      - s4      tch, total cholesterol / HDL\n",
      "      - s5      ltg, possibly log of serum triglycerides level\n",
      "      - s6      glu, blood sugar level\n",
      "\n",
      "Note: Each of these 10 feature variables have been mean centered and scaled by the standard deviation times `n_samples` (i.e. the sum of squares of each column totals 1).\n",
      "\n",
      "Source URL:\n",
      "https://www4.stat.ncsu.edu/~boos/var.select/diabetes.html\n",
      "\n",
      "For more information see:\n",
      "Bradley Efron, Trevor Hastie, Iain Johnstone and Robert Tibshirani (2004) \"Least Angle Regression,\" Annals of Statistics (with discussion), 407-499.\n",
      "(https://web.stanford.edu/~hastie/Papers/LARS/LeastAngle_2002.pdf)\n"
     ]
    }
   ],
   "source": [
    "diabetes_doc = datasets.load_diabetes()[\"DESCR\"]\n",
    "print(diabetes_doc)"
   ]
  },
  {
   "cell_type": "markdown",
   "id": "a84523d1",
   "metadata": {},
   "source": [
    "4. Faça uma separação de amostra de treino e teste onde a amostra \n",
    "de treino contenha 65% dos dados e com random_state=42."
   ]
  },
  {
   "cell_type": "code",
   "execution_count": 33,
   "id": "4ed3c5a3",
   "metadata": {},
   "outputs": [
    {
     "name": "stdout",
     "output_type": "stream",
     "text": [
      "Treino: 154\n",
      "Teste: 288\n"
     ]
    }
   ],
   "source": [
    "X_train, X_test, y_train, y_test = train_test_split(X,y, test_size = 0.65,random_state= 0)\n",
    "print('Treino: %d'%len(X_train))\n",
    "print('Teste: %d'%len(X_test))"
   ]
  },
  {
   "cell_type": "code",
   "execution_count": null,
   "id": "40d303e4",
   "metadata": {},
   "outputs": [],
   "source": []
  },
  {
   "cell_type": "markdown",
   "id": "94d66047",
   "metadata": {},
   "source": [
    "# Machine Learning - Regressão"
   ]
  },
  {
   "cell_type": "markdown",
   "id": "fb08f60e",
   "metadata": {},
   "source": [
    "1. Utilize o dataset diabetes criado anteriormente. Pesquise sobre o que se trata."
   ]
  },
  {
   "cell_type": "code",
   "execution_count": 35,
   "id": "5186f3b1",
   "metadata": {},
   "outputs": [],
   "source": [
    "diabetes = load_diabetes(return_X_y=True)"
   ]
  },
  {
   "cell_type": "code",
   "execution_count": 36,
   "id": "471801fb",
   "metadata": {},
   "outputs": [
    {
     "name": "stdout",
     "output_type": "stream",
     "text": [
      "Treino: 309\n",
      "Teste: 133\n"
     ]
    }
   ],
   "source": [
    "X_train, X_test, y_train, y_test = train_test_split(X,y, test_size = 0.30,random_state= 42)\n",
    "print('Treino: %d'%len(X_train))\n",
    "print('Teste: %d'%len(X_test))"
   ]
  },
  {
   "cell_type": "code",
   "execution_count": 37,
   "id": "75c903a7",
   "metadata": {},
   "outputs": [],
   "source": [
    "model = LinearRegression()"
   ]
  },
  {
   "cell_type": "code",
   "execution_count": 38,
   "id": "00daa72e",
   "metadata": {},
   "outputs": [
    {
     "data": {
      "text/plain": [
       "LinearRegression()"
      ]
     },
     "execution_count": 38,
     "metadata": {},
     "output_type": "execute_result"
    }
   ],
   "source": [
    "model.fit(X_train,y_train)"
   ]
  },
  {
   "cell_type": "code",
   "execution_count": 39,
   "id": "81356eaf",
   "metadata": {},
   "outputs": [],
   "source": [
    "predito = model.predict(X_test)"
   ]
  },
  {
   "cell_type": "code",
   "execution_count": 40,
   "id": "00bd1f3d",
   "metadata": {},
   "outputs": [
    {
     "data": {
      "text/plain": [
       "array([138.47032272, 181.10311796, 125.34650402, 292.75409394,\n",
       "       123.88080069,  91.89920521, 257.26623571, 177.76309357,\n",
       "        84.98399508, 109.15734248,  94.4860807 , 166.13170425,\n",
       "        57.40863723, 206.13846128,  97.78386268, 131.0064874 ,\n",
       "       214.29968996, 252.53124994, 199.6645535 , 219.49967665,\n",
       "       203.2365464 ,  88.00667238,  70.65206201, 186.92065774,\n",
       "       155.81290675, 162.80795787, 191.93403891, 184.72672694,\n",
       "        46.62855775, 108.26601337, 178.14954273,  91.35193917,\n",
       "       127.72256442, 184.04456013, 172.23860522, 189.51563882,\n",
       "       121.83424016, 117.75704799, 145.68144979,  58.57463632,\n",
       "        72.55651144, 107.28029907, 166.15444516, 153.2915978 ,\n",
       "       165.18988007,  62.95728971,  73.59139539, 110.05312255,\n",
       "        54.49528123, 164.89115961, 152.49647694,  63.8896717 ,\n",
       "       111.43581765, 108.34693634, 179.9672652 , 158.69983432,\n",
       "        95.04606308, 209.69032262, 118.37314403,  69.69981244,\n",
       "       189.04947787, 204.99342248, 140.26696914, 105.75745809,\n",
       "       131.22308565, 201.65762656, 173.60482564, 164.25660013,\n",
       "       122.01747292, 143.53600828, 179.42301654, 201.31957838,\n",
       "       234.50742556, 146.96530127,  80.27226591, 160.86717208,\n",
       "       192.72393741, 208.65853798, 158.56616455, 206.01010728,\n",
       "       111.536948  , 140.28629746,  51.15086656,  54.76626794,\n",
       "       113.02023747,  78.46659243,  80.20095117,  56.97505862,\n",
       "       168.51244251, 185.55993501, 152.33330297, 242.66183143,\n",
       "       106.44501889,  61.34977158,  53.45490166, 197.78469894,\n",
       "       246.62137922, 185.25000517, 105.79846555,  62.41883835,\n",
       "       193.39042734, 107.08728462, 297.08324321,  94.45030519,\n",
       "       148.41813753, 104.10416968, 128.67154251, 126.8988752 ,\n",
       "       165.84691412, 186.14322768, 108.58560562, 203.83389379,\n",
       "       204.97748901, 209.09971626, 191.65674009, 161.27224783,\n",
       "       148.50766646, 135.04352035, 111.74403916, 163.62955898,\n",
       "       170.55332533,  95.53396484,  46.85860719, 164.34411153,\n",
       "       127.17194463, 176.61052672, 173.47385323, 107.39895254,\n",
       "       202.99599633,  92.10043666, 122.28835654,  80.8073436 ,\n",
       "       233.2206723 ])"
      ]
     },
     "execution_count": 40,
     "metadata": {},
     "output_type": "execute_result"
    }
   ],
   "source": [
    "predito"
   ]
  },
  {
   "cell_type": "code",
   "execution_count": 45,
   "id": "22af6a50",
   "metadata": {},
   "outputs": [
    {
     "data": {
      "text/plain": [
       "0.47729201741573324"
      ]
     },
     "execution_count": 45,
     "metadata": {},
     "output_type": "execute_result"
    }
   ],
   "source": [
    "from sklearn.metrics import r2_score\n",
    "r2_score(y_test, predito)"
   ]
  },
  {
   "cell_type": "code",
   "execution_count": 42,
   "id": "8b548561",
   "metadata": {},
   "outputs": [
    {
     "data": {
      "text/plain": [
       "Text(0, 0.5, 'valor predito')"
      ]
     },
     "execution_count": 42,
     "metadata": {},
     "output_type": "execute_result"
    },
    {
     "data": {
      "image/png": "[encoded data removed]",
      "text/plain": [
       "<Figure size 640x480 with 1 Axes>"
      ]
     },
     "metadata": {},
     "output_type": "display_data"
    }
   ],
   "source": [
    "plt.scatter(y_test,predito, color = 'blue',linewidths=3)\n",
    "plt.xlabel(\"valor real\")\n",
    "plt.ylabel(\"valor predito\")"
   ]
  },
  {
   "cell_type": "code",
   "execution_count": null,
   "id": "e24300eb",
   "metadata": {},
   "outputs": [],
   "source": []
  }
 ],
 "metadata": {
  "kernelspec": {
   "display_name": "Python 3 (ipykernel)",
   "language": "python",
   "name": "python3"
  },
  "language_info": {
   "codemirror_mode": {
    "name": "ipython",
    "version": 3
   },
   "file_extension": ".py",
   "mimetype": "text/x-python",
   "name": "python",
   "nbconvert_exporter": "python",
   "pygments_lexer": "ipython3",
   "version": "3.9.13"
  }
 },
 "nbformat": 4,
 "nbformat_minor": 5
}
