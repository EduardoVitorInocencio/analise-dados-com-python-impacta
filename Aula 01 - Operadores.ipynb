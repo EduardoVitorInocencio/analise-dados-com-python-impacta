{
 "cells": [
  {
   "cell_type": "markdown",
   "id": "79531084",
   "metadata": {},
   "source": [
    "1. Abra um terminal. Digite python, para entrar no modo idle.\n",
    "2. Defina as seguintes variáveis x = 3, y = 4.0, z = 12 e t = ‘banana’"
   ]
  },
  {
   "cell_type": "code",
   "execution_count": 1,
   "id": "0a6e98f3",
   "metadata": {},
   "outputs": [],
   "source": [
    "x = 3\n",
    "y = 4.0\n",
    "z = 12\n",
    "t = \"banana\""
   ]
  },
  {
   "cell_type": "markdown",
   "id": "fcc90091",
   "metadata": {},
   "source": [
    "3. Calcule:\n",
    "a. x + y\n",
    "b. z - y\n",
    "c. y ** x\n",
    "d. x * z\n",
    "e. z / x\n",
    "f. y / x\n",
    "g. y % x"
   ]
  },
  {
   "cell_type": "code",
   "execution_count": 2,
   "id": "a7306f35",
   "metadata": {},
   "outputs": [
    {
     "name": "stdout",
     "output_type": "stream",
     "text": [
      "7.0\n",
      "8.0\n",
      "64.0\n",
      "36\n",
      "4.0\n",
      "1.3333333333333333\n",
      "1.0\n"
     ]
    }
   ],
   "source": [
    "print(x+y)\n",
    "print(z-y)\n",
    "print(y**x)\n",
    "print(x*z)\n",
    "print(z/x)\n",
    "print(y/x)\n",
    "print(y%x)"
   ]
  },
  {
   "cell_type": "markdown",
   "id": "662d8aea",
   "metadata": {},
   "source": [
    "4. Teste as seguintes relações\n",
    "a. x > y\n",
    "b. x *y == z\n",
    "c. t == y\n",
    "d. x < y and x >z"
   ]
  },
  {
   "cell_type": "code",
   "execution_count": 3,
   "id": "f0e1e2fa",
   "metadata": {},
   "outputs": [
    {
     "data": {
      "text/plain": [
       "False"
      ]
     },
     "execution_count": 3,
     "metadata": {},
     "output_type": "execute_result"
    }
   ],
   "source": [
    "x > y\n"
   ]
  },
  {
   "cell_type": "code",
   "execution_count": 4,
   "id": "7c473ccf",
   "metadata": {},
   "outputs": [
    {
     "data": {
      "text/plain": [
       "True"
      ]
     },
     "execution_count": 4,
     "metadata": {},
     "output_type": "execute_result"
    }
   ],
   "source": [
    "x * y == z\n"
   ]
  },
  {
   "cell_type": "code",
   "execution_count": 5,
   "id": "5c8882c2",
   "metadata": {},
   "outputs": [
    {
     "data": {
      "text/plain": [
       "False"
      ]
     },
     "execution_count": 5,
     "metadata": {},
     "output_type": "execute_result"
    }
   ],
   "source": [
    "t == y\n"
   ]
  },
  {
   "cell_type": "code",
   "execution_count": 7,
   "id": "8af2e83d",
   "metadata": {},
   "outputs": [
    {
     "data": {
      "text/plain": [
       "False"
      ]
     },
     "execution_count": 7,
     "metadata": {},
     "output_type": "execute_result"
    }
   ],
   "source": [
    "x < y and x > z"
   ]
  },
  {
   "cell_type": "code",
   "execution_count": 16,
   "id": "eaf77b8a",
   "metadata": {},
   "outputs": [
    {
     "data": {
      "text/plain": [
       "'MANGA'"
      ]
     },
     "execution_count": 16,
     "metadata": {},
     "output_type": "execute_result"
    }
   ],
   "source": [
    "fruta = \"manga\"\n",
    "fruta.upper()\n"
   ]
  },
  {
   "cell_type": "code",
   "execution_count": 17,
   "id": "0e706aa2",
   "metadata": {},
   "outputs": [
    {
     "data": {
      "text/plain": [
       "'MANGA'"
      ]
     },
     "execution_count": 17,
     "metadata": {},
     "output_type": "execute_result"
    }
   ],
   "source": [
    "fruta.upper().strip()"
   ]
  },
  {
   "cell_type": "code",
   "execution_count": 18,
   "id": "6dd85df4",
   "metadata": {},
   "outputs": [
    {
     "data": {
      "text/plain": [
       "'an'"
      ]
     },
     "execution_count": 18,
     "metadata": {},
     "output_type": "execute_result"
    }
   ],
   "source": [
    "fruta[1:3]"
   ]
  },
  {
   "cell_type": "code",
   "execution_count": null,
   "id": "d425b59e",
   "metadata": {},
   "outputs": [],
   "source": []
  },
  {
   "cell_type": "code",
   "execution_count": null,
   "id": "eb7b4876",
   "metadata": {},
   "outputs": [],
   "source": []
  }
 ],
 "metadata": {
  "kernelspec": {
   "display_name": "Python 3 (ipykernel)",
   "language": "python",
   "name": "python3"
  },
  "language_info": {
   "codemirror_mode": {
    "name": "ipython",
    "version": 3
   },
   "file_extension": ".py",
   "mimetype": "text/x-python",
   "name": "python",
   "nbconvert_exporter": "python",
   "pygments_lexer": "ipython3",
   "version": "3.9.13"
  }
 },
 "nbformat": 4,
 "nbformat_minor": 5
}
