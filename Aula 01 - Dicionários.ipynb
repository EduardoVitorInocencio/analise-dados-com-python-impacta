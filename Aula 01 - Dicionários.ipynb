{
 "cells": [
  {
   "cell_type": "markdown",
   "id": "26df8dc3",
   "metadata": {},
   "source": [
    "1. Abra um terminal. Digite python, para entrar no modo idle.\n",
    "2. Crie um dicionário chamado cardapio em que as chaves são os \n",
    "dias da semana e os respectivos valores sejam os pratos do dia."
   ]
  },
  {
   "cell_type": "code",
   "execution_count": 9,
   "id": "b7d7bc13",
   "metadata": {},
   "outputs": [
    {
     "data": {
      "text/plain": [
       "{'segunda-feira': ['Virado à Paulista', 'Feijão Tropeiro'],\n",
       " 'terça-feira': ['Rabada', 'Mexidinho'],\n",
       " 'quarta-feira': ['Parmegina de Frango', 'Feijoada'],\n",
       " 'quinta-feira': ['Costela Desfiada', 'Vaca atolada'],\n",
       " 'sexta-feira': ['Bisteca', 'Acarajé'],\n",
       " 'sábado': ['Feijoada', 'Steak Tartare']}"
      ]
     },
     "execution_count": 9,
     "metadata": {},
     "output_type": "execute_result"
    }
   ],
   "source": [
    "cardapio = {\n",
    "    'segunda-feira' :['Virado à Paulista','Feijão Tropeiro'],\n",
    "    'terça-feira' :['Rabada','Mexidinho'],\n",
    "    'quarta-feira' : ['Parmegina de Frango','Feijoada'],\n",
    "    'quinta-feira' : ['Costela Desfiada','Vaca atolada'],\n",
    "    'sexta-feira' : ['Bisteca','Acarajé'],\n",
    "    'sábado' : ['Feijoada','Steak Tartare']\n",
    "}\n",
    "\n",
    "cardapio"
   ]
  },
  {
   "cell_type": "code",
   "execution_count": 12,
   "id": "bd2f3d7b",
   "metadata": {},
   "outputs": [
    {
     "data": {
      "text/plain": [
       "'Virado à Paulista'"
      ]
     },
     "execution_count": 12,
     "metadata": {},
     "output_type": "execute_result"
    }
   ],
   "source": [
    "cardapio['segunda-feira'][0]"
   ]
  },
  {
   "cell_type": "markdown",
   "id": "530d03e8",
   "metadata": {},
   "source": [
    "Crie um dicionário chamado hemograma que contenha as \n",
    "seguintes chave:valor:\n",
    "● hemacias: 4.71\n",
    "● hemoglobina: 14.1\n",
    "● hematocrito: 41.2\n",
    "● linfocitos: 38\n",
    "● monocitos: 7\n",
    "● resultado: saudável"
   ]
  },
  {
   "cell_type": "code",
   "execution_count": 15,
   "id": "2b61a283",
   "metadata": {},
   "outputs": [
    {
     "data": {
      "text/plain": [
       "{'hemacias': 4.71,\n",
       " 'hemoglobina': 14.1,\n",
       " 'hematocrito': 41.2,\n",
       " 'linfocitos': 38,\n",
       " 'monocitos': 7,\n",
       " 'resultado': 'saudável'}"
      ]
     },
     "execution_count": 15,
     "metadata": {},
     "output_type": "execute_result"
    }
   ],
   "source": [
    "hemograma ={\n",
    "    \"hemacias\": 4.71,\n",
    "    \"hemoglobina\": 14.1,\n",
    "    \"hematocrito\": 41.2,\n",
    "    \"linfocitos\": 38,\n",
    "    \"monocitos\": 7,\n",
    "    \"resultado\": \"saudável\"\n",
    "    \n",
    "}\n",
    "hemograma"
   ]
  },
  {
   "cell_type": "code",
   "execution_count": 17,
   "id": "8de9bd99",
   "metadata": {},
   "outputs": [
    {
     "data": {
      "text/plain": [
       "{'hemacias': 4.71,\n",
       " 'hemoglobina': 14.1,\n",
       " 'hematocrito': 41.2,\n",
       " 'linfocitos': 38,\n",
       " 'monocitos': 12,\n",
       " 'resultado': 'saudável'}"
      ]
     },
     "execution_count": 17,
     "metadata": {},
     "output_type": "execute_result"
    }
   ],
   "source": [
    "hemograma[\"monocitos\"]=12\n",
    "hemograma"
   ]
  },
  {
   "cell_type": "markdown",
   "id": "ad87947e",
   "metadata": {},
   "source": [
    "# Inputs do Usuário"
   ]
  },
  {
   "cell_type": "code",
   "execution_count": 19,
   "id": "b31ca912",
   "metadata": {},
   "outputs": [
    {
     "name": "stdout",
     "output_type": "stream",
     "text": [
      "Qual é o seu nome?Oi\n"
     ]
    },
    {
     "data": {
      "text/plain": [
       "'Oi'"
      ]
     },
     "execution_count": 19,
     "metadata": {},
     "output_type": "execute_result"
    }
   ],
   "source": [
    "nome = input('Qual é o seu nome?')\n",
    "\n",
    "nome"
   ]
  },
  {
   "cell_type": "code",
   "execution_count": 21,
   "id": "f04036b4",
   "metadata": {},
   "outputs": [
    {
     "name": "stdout",
     "output_type": "stream",
     "text": [
      "Quantos anos você tem?25\n"
     ]
    },
    {
     "data": {
      "text/plain": [
       "25"
      ]
     },
     "execution_count": 21,
     "metadata": {},
     "output_type": "execute_result"
    }
   ],
   "source": [
    "idade = input(\"Quantos anos você tem?\")\n",
    "type(idade)\n",
    "idade = int(idade)\n",
    "type(idade)\n",
    "idade"
   ]
  },
  {
   "cell_type": "markdown",
   "id": "ac6c185d",
   "metadata": {},
   "source": [
    "Inputs com a função Format"
   ]
  },
  {
   "cell_type": "code",
   "execution_count": 31,
   "id": "9b2422a9",
   "metadata": {},
   "outputs": [
    {
     "name": "stdout",
     "output_type": "stream",
     "text": [
      "Qual é o seu nome?ed\n"
     ]
    },
    {
     "data": {
      "text/plain": [
       "'Seja bem-vindo ed,K'"
      ]
     },
     "execution_count": 31,
     "metadata": {},
     "output_type": "execute_result"
    }
   ],
   "source": [
    "nome = input('Qual é o seu nome?')\n",
    "bem_vindo = \"Seja bem-vindo {:s},{:s}\".format(nome,'K')\n",
    "bem_vindo"
   ]
  },
  {
   "cell_type": "code",
   "execution_count": 35,
   "id": "9ca73360",
   "metadata": {},
   "outputs": [
    {
     "ename": "SyntaxError",
     "evalue": "EOL while scanning string literal (nome.py, line 2)",
     "output_type": "error",
     "traceback": [
      "\u001b[1;36m  File \u001b[1;32m\"C:\\Users\\dell\\Projects\\nome.py\"\u001b[1;36m, line \u001b[1;32m2\u001b[0m\n\u001b[1;33m    print('Hello world, %s! %nome)\u001b[0m\n\u001b[1;37m                                  ^\u001b[0m\n\u001b[1;31mSyntaxError\u001b[0m\u001b[1;31m:\u001b[0m EOL while scanning string literal\n"
     ]
    }
   ],
   "source": [
    "%run nome.py"
   ]
  },
  {
   "cell_type": "code",
   "execution_count": null,
   "id": "d7c15105",
   "metadata": {},
   "outputs": [],
   "source": []
  }
 ],
 "metadata": {
  "kernelspec": {
   "display_name": "Python 3 (ipykernel)",
   "language": "python",
   "name": "python3"
  },
  "language_info": {
   "codemirror_mode": {
    "name": "ipython",
    "version": 3
   },
   "file_extension": ".py",
   "mimetype": "text/x-python",
   "name": "python",
   "nbconvert_exporter": "python",
   "pygments_lexer": "ipython3",
   "version": "3.9.13"
  }
 },
 "nbformat": 4,
 "nbformat_minor": 5
}
