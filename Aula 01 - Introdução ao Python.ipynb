{
 "cells": [
  {
   "cell_type": "markdown",
   "id": "001dc4d7",
   "metadata": {},
   "source": [
    "# Aula 1\n",
    "\n",
    "###### Introdução ao Python\n",
    "\n",
    "Para declarar uma variável, basta escrever o nome da variável e inserir o sinal de igual antes do valor.\n"
   ]
  },
  {
   "cell_type": "code",
   "execution_count": 6,
   "id": "7ecb6fef",
   "metadata": {},
   "outputs": [],
   "source": [
    "fruta = \"banana\""
   ]
  },
  {
   "cell_type": "markdown",
   "id": "97c86282",
   "metadata": {},
   "source": [
    "###### Para Acessar o valor guardado, basta chamar novamente a variável\n"
   ]
  },
  {
   "cell_type": "code",
   "execution_count": 7,
   "id": "87b05b7a",
   "metadata": {},
   "outputs": [
    {
     "data": {
      "text/plain": [
       "'banana'"
      ]
     },
     "execution_count": 7,
     "metadata": {},
     "output_type": "execute_result"
    }
   ],
   "source": [
    "fruta"
   ]
  },
  {
   "cell_type": "code",
   "execution_count": 12,
   "id": "66d52c91",
   "metadata": {},
   "outputs": [
    {
     "data": {
      "text/plain": [
       "10"
      ]
     },
     "execution_count": 12,
     "metadata": {},
     "output_type": "execute_result"
    }
   ],
   "source": [
    "x = 10\n",
    "x"
   ]
  },
  {
   "cell_type": "markdown",
   "id": "27c8a7fa",
   "metadata": {},
   "source": [
    "## Função type()\n",
    "A função type() retorna o tipo do objeto ou retorna um novo tipo de objeto com base nos argumentos passados"
   ]
  },
  {
   "cell_type": "code",
   "execution_count": 15,
   "id": "b1bb401c",
   "metadata": {},
   "outputs": [
    {
     "data": {
      "text/plain": [
       "int"
      ]
     },
     "execution_count": 15,
     "metadata": {},
     "output_type": "execute_result"
    }
   ],
   "source": [
    "type (x)"
   ]
  },
  {
   "cell_type": "code",
   "execution_count": 17,
   "id": "deda7302",
   "metadata": {},
   "outputs": [],
   "source": [
    "x = x/2"
   ]
  },
  {
   "cell_type": "code",
   "execution_count": 18,
   "id": "2c7a7b0c",
   "metadata": {},
   "outputs": [
    {
     "data": {
      "text/plain": [
       "2.5"
      ]
     },
     "execution_count": 18,
     "metadata": {},
     "output_type": "execute_result"
    }
   ],
   "source": [
    "x"
   ]
  },
  {
   "cell_type": "code",
   "execution_count": 19,
   "id": "efcd0965",
   "metadata": {},
   "outputs": [
    {
     "data": {
      "text/plain": [
       "float"
      ]
     },
     "execution_count": 19,
     "metadata": {},
     "output_type": "execute_result"
    }
   ],
   "source": [
    "type (x)"
   ]
  },
  {
   "cell_type": "markdown",
   "id": "ccfc71d6",
   "metadata": {},
   "source": [
    "#### Atribuindo Múltiplas Variáveis"
   ]
  },
  {
   "cell_type": "code",
   "execution_count": 24,
   "id": "91173aca",
   "metadata": {},
   "outputs": [],
   "source": [
    "x, y, z = 1,2,3\n"
   ]
  },
  {
   "cell_type": "code",
   "execution_count": 25,
   "id": "3461b419",
   "metadata": {},
   "outputs": [
    {
     "data": {
      "text/plain": [
       "1"
      ]
     },
     "execution_count": 25,
     "metadata": {},
     "output_type": "execute_result"
    }
   ],
   "source": [
    "x"
   ]
  },
  {
   "cell_type": "code",
   "execution_count": 26,
   "id": "dff0d787",
   "metadata": {},
   "outputs": [
    {
     "data": {
      "text/plain": [
       "2"
      ]
     },
     "execution_count": 26,
     "metadata": {},
     "output_type": "execute_result"
    }
   ],
   "source": [
    "y"
   ]
  },
  {
   "cell_type": "code",
   "execution_count": 27,
   "id": "13fd8552",
   "metadata": {},
   "outputs": [
    {
     "data": {
      "text/plain": [
       "3"
      ]
     },
     "execution_count": 27,
     "metadata": {},
     "output_type": "execute_result"
    }
   ],
   "source": [
    "z"
   ]
  },
  {
   "cell_type": "code",
   "execution_count": 30,
   "id": "a63b6278",
   "metadata": {},
   "outputs": [
    {
     "name": "stdout",
     "output_type": "stream",
     "text": [
      "<class 'int'>\n",
      "<class 'float'>\n"
     ]
    }
   ],
   "source": [
    "print(type(x))\n",
    "\n",
    "x = float(x)\n",
    "\n",
    "print(type(x))"
   ]
  },
  {
   "cell_type": "code",
   "execution_count": null,
   "id": "03353fd9",
   "metadata": {},
   "outputs": [],
   "source": [
    "x"
   ]
  }
 ],
 "metadata": {
  "kernelspec": {
   "display_name": "Python 3 (ipykernel)",
   "language": "python",
   "name": "python3"
  },
  "language_info": {
   "codemirror_mode": {
    "name": "ipython",
    "version": 3
   },
   "file_extension": ".py",
   "mimetype": "text/x-python",
   "name": "python",
   "nbconvert_exporter": "python",
   "pygments_lexer": "ipython3",
   "version": "3.9.13"
  }
 },
 "nbformat": 4,
 "nbformat_minor": 5
}
