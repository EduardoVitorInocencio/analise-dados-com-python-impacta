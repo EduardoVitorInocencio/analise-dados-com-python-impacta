{
 "cells": [
  {
   "cell_type": "markdown",
   "id": "de0fd7fc",
   "metadata": {},
   "source": [
    "1. Abra um terminal. Digite python, para entrar no modo idle.\n",
    "2. Crie uma variável com seu nome completo\n"
   ]
  },
  {
   "cell_type": "code",
   "execution_count": 1,
   "id": "85bb2149",
   "metadata": {},
   "outputs": [],
   "source": [
    "nomeCompleto = \"Eduardo Inocencio\""
   ]
  },
  {
   "cell_type": "markdown",
   "id": "cc7c7633",
   "metadata": {},
   "source": [
    "3. Escreva a variável em lowercase."
   ]
  },
  {
   "cell_type": "code",
   "execution_count": 2,
   "id": "8191fd0b",
   "metadata": {},
   "outputs": [
    {
     "data": {
      "text/plain": [
       "'eduardo inocencio'"
      ]
     },
     "execution_count": 2,
     "metadata": {},
     "output_type": "execute_result"
    }
   ],
   "source": [
    "nomeCompleto.lower()"
   ]
  },
  {
   "cell_type": "markdown",
   "id": "7bd7f346",
   "metadata": {},
   "source": [
    "4. Escreva em uppercase."
   ]
  },
  {
   "cell_type": "code",
   "execution_count": 3,
   "id": "12a08908",
   "metadata": {},
   "outputs": [
    {
     "data": {
      "text/plain": [
       "'EDUARDO INOCENCIO'"
      ]
     },
     "execution_count": 3,
     "metadata": {},
     "output_type": "execute_result"
    }
   ],
   "source": [
    "nomeCompleto.upper()"
   ]
  },
  {
   "cell_type": "markdown",
   "id": "a5c8f45f",
   "metadata": {},
   "source": [
    "5. Verifique se o nome começa com a letra P"
   ]
  },
  {
   "cell_type": "code",
   "execution_count": 4,
   "id": "88a0aae6",
   "metadata": {},
   "outputs": [
    {
     "data": {
      "text/plain": [
       "False"
      ]
     },
     "execution_count": 4,
     "metadata": {},
     "output_type": "execute_result"
    }
   ],
   "source": [
    "nomeCompleto.startswith(\"P\")"
   ]
  },
  {
   "cell_type": "markdown",
   "id": "ccdd8e2e",
   "metadata": {},
   "source": [
    "6.Verifique se o nome termina com a letra J."
   ]
  },
  {
   "cell_type": "code",
   "execution_count": 8,
   "id": "d5a942f6",
   "metadata": {},
   "outputs": [
    {
     "data": {
      "text/plain": [
       "False"
      ]
     },
     "execution_count": 8,
     "metadata": {},
     "output_type": "execute_result"
    }
   ],
   "source": [
    "nomeCompleto.endswith(\"J\")"
   ]
  },
  {
   "cell_type": "markdown",
   "id": "31b34143",
   "metadata": {},
   "source": [
    "7. Fatie a string para apenas o 1o nome."
   ]
  },
  {
   "cell_type": "code",
   "execution_count": 10,
   "id": "a0f25448",
   "metadata": {},
   "outputs": [
    {
     "data": {
      "text/plain": [
       "'Eduardo'"
      ]
     },
     "execution_count": 10,
     "metadata": {},
     "output_type": "execute_result"
    }
   ],
   "source": [
    "nomeCompleto[0:7]"
   ]
  },
  {
   "cell_type": "markdown",
   "id": "be00a82e",
   "metadata": {},
   "source": [
    "8. Fatie a string de 2 em 2."
   ]
  },
  {
   "cell_type": "code",
   "execution_count": 12,
   "id": "e2ae5f01",
   "metadata": {},
   "outputs": [
    {
     "data": {
      "text/plain": [
       "'EuroIoeco'"
      ]
     },
     "execution_count": 12,
     "metadata": {},
     "output_type": "execute_result"
    }
   ],
   "source": [
    "nomeCompleto[::2]"
   ]
  },
  {
   "cell_type": "markdown",
   "id": "da86a13b",
   "metadata": {},
   "source": [
    "9. Considerando os espaços, qual o tamanho do seu nome?"
   ]
  },
  {
   "cell_type": "code",
   "execution_count": 13,
   "id": "b4a25ea7",
   "metadata": {},
   "outputs": [
    {
     "data": {
      "text/plain": [
       "17"
      ]
     },
     "execution_count": 13,
     "metadata": {},
     "output_type": "execute_result"
    }
   ],
   "source": [
    "len(nomeCompleto)"
   ]
  },
  {
   "cell_type": "markdown",
   "id": "ff896417",
   "metadata": {},
   "source": [
    "# Estrutura de Dados\n",
    "## listas"
   ]
  },
  {
   "cell_type": "code",
   "execution_count": 15,
   "id": "76c167f5",
   "metadata": {},
   "outputs": [
    {
     "data": {
      "text/plain": [
       "[]"
      ]
     },
     "execution_count": 15,
     "metadata": {},
     "output_type": "execute_result"
    }
   ],
   "source": [
    "lista_de_compras = []\n",
    "lista_de_compras"
   ]
  },
  {
   "cell_type": "code",
   "execution_count": 17,
   "id": "a76d7843",
   "metadata": {},
   "outputs": [
    {
     "data": {
      "text/plain": [
       "['ovo', 'banana', 'batata doce']"
      ]
     },
     "execution_count": 17,
     "metadata": {},
     "output_type": "execute_result"
    }
   ],
   "source": [
    "lista_de_compras = ['ovo','banana','batata doce']\n",
    "lista_de_compras"
   ]
  },
  {
   "cell_type": "code",
   "execution_count": null,
   "id": "25c03721",
   "metadata": {},
   "outputs": [],
   "source": []
  }
 ],
 "metadata": {
  "kernelspec": {
   "display_name": "Python 3 (ipykernel)",
   "language": "python",
   "name": "python3"
  },
  "language_info": {
   "codemirror_mode": {
    "name": "ipython",
    "version": 3
   },
   "file_extension": ".py",
   "mimetype": "text/x-python",
   "name": "python",
   "nbconvert_exporter": "python",
   "pygments_lexer": "ipython3",
   "version": "3.9.13"
  }
 },
 "nbformat": 4,
 "nbformat_minor": 5
}
