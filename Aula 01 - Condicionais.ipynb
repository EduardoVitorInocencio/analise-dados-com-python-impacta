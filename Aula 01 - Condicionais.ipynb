{
 "cells": [
  {
   "cell_type": "code",
   "execution_count": 10,
   "id": "b92f79c5",
   "metadata": {},
   "outputs": [
    {
     "name": "stdout",
     "output_type": "stream",
     "text": [
      "É verdadeiro\n"
     ]
    }
   ],
   "source": [
    "if True:\n",
    "    print(\"É verdadeiro\")"
   ]
  },
  {
   "cell_type": "code",
   "execution_count": 11,
   "id": "42ffc416",
   "metadata": {},
   "outputs": [],
   "source": [
    "if False:\n",
    "    print(\"É falso\")"
   ]
  },
  {
   "cell_type": "code",
   "execution_count": 18,
   "id": "18273a4a",
   "metadata": {},
   "outputs": [
    {
     "data": {
      "text/plain": [
       "'Python'"
      ]
     },
     "execution_count": 18,
     "metadata": {},
     "output_type": "execute_result"
    }
   ],
   "source": [
    "curso = 'Python'\n",
    "\n",
    "if curso !='Python':\n",
    "    print(\"Python é muito útil!\")\n",
    "    curso = 'Java'\n",
    "curso"
   ]
  },
  {
   "cell_type": "code",
   "execution_count": 21,
   "id": "8a282ba2",
   "metadata": {},
   "outputs": [
    {
     "name": "stdout",
     "output_type": "stream",
     "text": [
      "É sempre bom aprender!\n"
     ]
    }
   ],
   "source": [
    "curso = 'Python'\n",
    "\n",
    "if curso !='Python':\n",
    "    print(\"Python é muito útil!\")\n",
    "else:\n",
    "    print(\"É sempre bom aprender!\")\n",
    "    \n"
   ]
  },
  {
   "cell_type": "code",
   "execution_count": 25,
   "id": "1c4f181d",
   "metadata": {},
   "outputs": [
    {
     "name": "stdout",
     "output_type": "stream",
     "text": [
      "É sempre bom aprender!\n"
     ]
    }
   ],
   "source": [
    "curso = 'Python'\n",
    "\n",
    "if curso !='Python':\n",
    "    print(\"Python é muito útil!\")\n",
    "elif curso=='Python':\n",
    "    print(\"É sempre bom aprender!\")\n",
    "else:\n",
    "    print(\"*****\")\n",
    "    \n",
    "    "
   ]
  },
  {
   "cell_type": "code",
   "execution_count": 29,
   "id": "13b5c429",
   "metadata": {},
   "outputs": [
    {
     "name": "stdout",
     "output_type": "stream",
     "text": [
      "Qual seu nome?Eduardo\n",
      "Qual sua altura em metros?1.80\n",
      "Qual seu peso em kg?94\n",
      "Olá Eduardo, seu IMC é 29.012345679012345, logo você está Acima do peso\n"
     ]
    }
   ],
   "source": [
    "%run imc.py"
   ]
  }
 ],
 "metadata": {
  "kernelspec": {
   "display_name": "Python 3 (ipykernel)",
   "language": "python",
   "name": "python3"
  },
  "language_info": {
   "codemirror_mode": {
    "name": "ipython",
    "version": 3
   },
   "file_extension": ".py",
   "mimetype": "text/x-python",
   "name": "python",
   "nbconvert_exporter": "python",
   "pygments_lexer": "ipython3",
   "version": "3.9.13"
  }
 },
 "nbformat": 4,
 "nbformat_minor": 5
}
