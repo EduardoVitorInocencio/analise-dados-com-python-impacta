{
 "cells": [
  {
   "cell_type": "markdown",
   "id": "c92c7e6f",
   "metadata": {},
   "source": [
    "# Introdução ao Python - Loops: for"
   ]
  },
  {
   "cell_type": "code",
   "execution_count": null,
   "id": "57547f76",
   "metadata": {},
   "outputs": [],
   "source": [
    "for elemento_de in (1,2,3):\n",
    "    print(elemento_de*2)"
   ]
  },
  {
   "cell_type": "markdown",
   "id": "bfc7f292",
   "metadata": {},
   "source": [
    "1. Abra um bloco de notas e crie um programa chamado tabuada.\n",
    "py que faça:\n"
   ]
  },
  {
   "cell_type": "code",
   "execution_count": null,
   "id": "3e5902f8",
   "metadata": {},
   "outputs": [],
   "source": [
    "multiplos = [1,2,3,4,5,6,7,8,9,10]\n",
    "valor = input(\"Insira um número de 0 a 10.\")\n",
    "valor = int(valor)\n",
    "\n",
    "for multiplos in multiplos:\n",
    "    print(multiplos*valor)\n",
    "    "
   ]
  },
  {
   "cell_type": "code",
   "execution_count": null,
   "id": "3b0602da",
   "metadata": {},
   "outputs": [],
   "source": [
    "multiplos = []\n",
    "\n",
    "for numero in range(10):\n",
    "        print(numero)\n",
    "        multiplos.append(numero+1)\n",
    "\n",
    "multiplos\n"
   ]
  },
  {
   "cell_type": "code",
   "execution_count": null,
   "id": "2e80fe21",
   "metadata": {},
   "outputs": [],
   "source": [
    "multiplos =[numero + 3 for numero in range(10)]\n",
    "multiplos"
   ]
  },
  {
   "cell_type": "markdown",
   "id": "d6387176",
   "metadata": {},
   "source": [
    "# Introdução ao Python - Loops: while\n"
   ]
  },
  {
   "cell_type": "code",
   "execution_count": null,
   "id": "0bcdfd4b",
   "metadata": {},
   "outputs": [],
   "source": [
    "contador = 0\n",
    "\n",
    "while contador<10: #execute o código enquanto o valor for diferente de 0\n",
    "    if contador %2 ==0: ##Se o resto da divisão por dois for igual a 0, então print a tela\n",
    "        print(contador)\n",
    "    elif contador ==6:\n",
    "        break ##gera a saída do laço em que vc está\n",
    "    contador +=1"
   ]
  },
  {
   "cell_type": "markdown",
   "id": "e60fcc33",
   "metadata": {},
   "source": [
    "1. Abra um bloco de notas e crie um programa chamado fatorial.py \n",
    "que:\n",
    "a. Peça um número inteiro entre 2 e 15 ao usuário e atribua na \n",
    "variável valor."
   ]
  },
  {
   "cell_type": "code",
   "execution_count": 8,
   "id": "4cb635ea",
   "metadata": {},
   "outputs": [
    {
     "name": "stdout",
     "output_type": "stream",
     "text": [
      "Digite um valor entre 2 e 15.3\n"
     ]
    },
    {
     "data": {
      "text/plain": [
       "'O fatorial de 3 é 9, em que 3 é o número dado pelo usuário e 9 seja o resultado do loop'"
      ]
     },
     "execution_count": 8,
     "metadata": {},
     "output_type": "execute_result"
    }
   ],
   "source": [
    "valor = input('Digite um valor entre 2 e 15.')\n",
    "valor = int(valor)\n",
    "\n",
    "fat = 1\n",
    "cont = 1\n",
    "\n",
    "while cont < valor:\n",
    "    fat = fat * valor\n",
    "    cont +=1\n",
    "    \n",
    "mensagem = \"O fatorial de {} é {}, em que {} é o número dado pelo usuário e {} seja o resultado do loop\".format(valor,fat,valor,fat)\n",
    "mensagem"
   ]
  },
  {
   "cell_type": "code",
   "execution_count": null,
   "id": "33841598",
   "metadata": {},
   "outputs": [],
   "source": []
  }
 ],
 "metadata": {
  "kernelspec": {
   "display_name": "Python 3 (ipykernel)",
   "language": "python",
   "name": "python3"
  },
  "language_info": {
   "codemirror_mode": {
    "name": "ipython",
    "version": 3
   },
   "file_extension": ".py",
   "mimetype": "text/x-python",
   "name": "python",
   "nbconvert_exporter": "python",
   "pygments_lexer": "ipython3",
   "version": "3.9.13"
  }
 },
 "nbformat": 4,
 "nbformat_minor": 5
}
