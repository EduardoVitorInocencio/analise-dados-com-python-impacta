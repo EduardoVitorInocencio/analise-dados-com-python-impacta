{
 "cells": [
  {
   "cell_type": "markdown",
   "id": "a28f52c1",
   "metadata": {},
   "source": [
    "# ANÁLISE DE DADOS COM PYTHON - NUMPY\n"
   ]
  },
  {
   "cell_type": "markdown",
   "id": "36f0e86b",
   "metadata": {},
   "source": [
    "BIBLIOTECA NUMPY"
   ]
  },
  {
   "cell_type": "code",
   "execution_count": 1,
   "id": "a4c3d620",
   "metadata": {},
   "outputs": [],
   "source": [
    "import numpy as np"
   ]
  },
  {
   "cell_type": "code",
   "execution_count": 5,
   "id": "d6e319e8",
   "metadata": {},
   "outputs": [
    {
     "name": "stdout",
     "output_type": "stream",
     "text": [
      "[1 2 3 4 5 6 7 8 9]\n",
      "<class 'numpy.ndarray'>\n"
     ]
    }
   ],
   "source": [
    "#Criar uma matriz unidimensional\n",
    "array_1 = np.array([1,2,3,4,5,6,7,8,9])\n",
    "print(array_1)\n",
    "print(type(array_1))"
   ]
  },
  {
   "cell_type": "code",
   "execution_count": 11,
   "id": "3586fbac",
   "metadata": {},
   "outputs": [
    {
     "name": "stdout",
     "output_type": "stream",
     "text": [
      "[1. 2. 3.]\n",
      "<class 'numpy.ndarray'>\n",
      "[1 2 3]\n",
      "<class 'numpy.ndarray'>\n"
     ]
    }
   ],
   "source": [
    "#criar um array do tipo específico\n",
    "#criar um array do tipo float 64 bits\n",
    "\n",
    "array_float = np.array([1,2,3],dtype = np.float64)\n",
    "print(array_float)\n",
    "print(type(array_float))\n",
    "\n",
    "array_float = np.array([1,2,3],dtype = np.int64)\n",
    "print(array_float)\n",
    "print(type(array_float))"
   ]
  },
  {
   "cell_type": "code",
   "execution_count": 15,
   "id": "15e028f5",
   "metadata": {},
   "outputs": [
    {
     "name": "stdout",
     "output_type": "stream",
     "text": [
      "[ 1.        2.        3.       22.6666   89.784187]\n",
      "[ 1  2  3 22 89]\n"
     ]
    }
   ],
   "source": [
    "#mudar o tipo do array\n",
    "# Podemos transformar tipos de dados de arrays\n",
    "array_new = np.array([1,2,3,22.6666, 89.784187])\n",
    "print(array_new)\n",
    "array_newInt = array_new.astype(int)\n",
    "print(array_newInt)"
   ]
  },
  {
   "cell_type": "code",
   "execution_count": 16,
   "id": "f84e4361",
   "metadata": {},
   "outputs": [
    {
     "name": "stdout",
     "output_type": "stream",
     "text": [
      "[1 2 3 4]\n",
      "[1. 2. 3. 4.]\n"
     ]
    }
   ],
   "source": [
    "# podemos fazer o inverso também.\n",
    "mt5 = np.array([1, 2, 3, 4])\n",
    "print(mt5)\n",
    "mt6 = mt5.astype(float)\n",
    "print(mt6)"
   ]
  },
  {
   "cell_type": "code",
   "execution_count": 22,
   "id": "b1b195a7",
   "metadata": {},
   "outputs": [
    {
     "name": "stdout",
     "output_type": "stream",
     "text": [
      "[[ 1  2  3  4  5]\n",
      " [ 6  7  8  9 10]\n",
      " [11 12 13 14 15]]\n"
     ]
    }
   ],
   "source": [
    "# mais de uma dimensão\n",
    "# cria um matriz bidimensional\n",
    "array_2d = np.array([[1,2,3,4,5],[6,7,8,9,10],[11,12,13,14,15]])\n",
    "print(array_2d)"
   ]
  },
  {
   "cell_type": "code",
   "execution_count": 33,
   "id": "e7348a29",
   "metadata": {},
   "outputs": [
    {
     "name": "stdout",
     "output_type": "stream",
     "text": [
      "[[         0 1072693248]\n",
      " [         0 1072693248]\n",
      " [         0 1072693248]]\n",
      "--------------\n",
      "[[0. 0.]\n",
      " [0. 0.]\n",
      " [0. 0.]\n",
      " [0. 0.]]\n",
      "[[1. 1. 1.]\n",
      " [1. 1. 1.]\n",
      " [1. 1. 1.]\n",
      " [1. 1. 1.]\n",
      " [1. 1. 1.]\n",
      " [1. 1. 1.]]\n",
      "[[1. 0. 0. 0. 0. 0. 0. 0. 0. 0.]\n",
      " [0. 1. 0. 0. 0. 0. 0. 0. 0. 0.]\n",
      " [0. 0. 1. 0. 0. 0. 0. 0. 0. 0.]\n",
      " [0. 0. 0. 1. 0. 0. 0. 0. 0. 0.]\n",
      " [0. 0. 0. 0. 1. 0. 0. 0. 0. 0.]\n",
      " [0. 0. 0. 0. 0. 1. 0. 0. 0. 0.]\n",
      " [0. 0. 0. 0. 0. 0. 1. 0. 0. 0.]\n",
      " [0. 0. 0. 0. 0. 0. 0. 1. 0. 0.]\n",
      " [0. 0. 0. 0. 0. 0. 0. 0. 1. 0.]\n",
      " [0. 0. 0. 0. 0. 0. 0. 0. 0. 1.]]\n"
     ]
    }
   ],
   "source": [
    "#criar arrays vazios tipificados\n",
    "#empty significa que não são inicializados, não que são vazios\n",
    "\n",
    "array_vazio = np.empty([3,2], dtype = int)\n",
    "print(array_vazio)\n",
    "print('--------------')\n",
    "\n",
    "# cria uma matriz 4x3 com valores zero\n",
    "array_zeros = np.zeros([4,2])\n",
    "print(array_zeros)\n",
    "\n",
    "#com valores igual a um\n",
    "um = np.ones([6,3])\n",
    "print(um)\n",
    "\n",
    "# cria matriz quadrada com diagonal principal com valores 1 e os outros valores zero\n",
    "diagonal = np.eye(10)\n",
    "print(diagonal)"
   ]
  },
  {
   "cell_type": "code",
   "execution_count": 46,
   "id": "2e520c6f",
   "metadata": {},
   "outputs": [
    {
     "name": "stdout",
     "output_type": "stream",
     "text": [
      "[0.55510507 0.72883922 0.9473571  0.57349281 0.73442968]\n",
      "-----------\n",
      "[-0.19382807  0.87969483  1.5870361  -0.43854676 -0.26311748]\n",
      "-----------\n",
      "[[0.03088359 0.28606448 0.04529985 0.69950102]\n",
      " [0.05018733 0.47748357 0.53133559 0.00785845]\n",
      " [0.45352079 0.62374842 0.53207303 0.70056042]]\n"
     ]
    }
   ],
   "source": [
    "#valores aleatórios entre zero e um\n",
    "ale = np.random.random((5))\n",
    "print(ale)\n",
    "print('-----------')\n",
    "#valores aleatórios distr. normal contendo negativos\n",
    "ale2 = np.random.randn((5))\n",
    "print(ale2)\n",
    "print('-----------')\n",
    "#valores aleatórios 3 x 4\n",
    "ale3 = (np.random.random((3,4)))\n",
    "print(ale3)"
   ]
  },
  {
   "cell_type": "code",
   "execution_count": 47,
   "id": "5f54d7a1",
   "metadata": {},
   "outputs": [
    {
     "name": "stdout",
     "output_type": "stream",
     "text": [
      "[11 12 13 14 15 16 17 18 19 20]\n"
     ]
    }
   ],
   "source": [
    "#unique remove repetições\n",
    "j = np.array([11, 12, 13, 14, 15, 16, 17, 12, 13, 11, 18, 19, 20])\n",
    "j = np.unique(j)\n",
    "print(j)"
   ]
  },
  {
   "cell_type": "code",
   "execution_count": 54,
   "id": "654abf06",
   "metadata": {},
   "outputs": [
    {
     "name": "stdout",
     "output_type": "stream",
     "text": [
      "[[17 22 43]\n",
      " [27 25 14]\n",
      " [15 24 32]]\n",
      "22\n",
      "(3, 3)\n"
     ]
    }
   ],
   "source": [
    "#funções específicas\n",
    "# cria a matriz bidimensional k\n",
    "k = np.array([[17,22,43],[27,25,14],[15,24,32]])\n",
    "# Mostra a matriz k\n",
    "print(k)\n",
    "# Mostra um elemento específico da matriz k\n",
    "print(k[0][1])\n",
    "# Mostra o tamanho das dimensões da matriz k\n",
    "print(k.shape)\n"
   ]
  },
  {
   "cell_type": "code",
   "execution_count": 59,
   "id": "3368068f",
   "metadata": {},
   "outputs": [
    {
     "name": "stdout",
     "output_type": "stream",
     "text": [
      "43\n",
      "14\n",
      "219\n",
      "24.333333333333332\n",
      "8.615231988880057\n"
     ]
    }
   ],
   "source": [
    "#Funções Matemáticas\n",
    "# Mostra o maior valor da matriz k\n",
    "print(k.max())\n",
    "# Mostra o menor valor da matriz k\n",
    "print(k.min())\n",
    "# Mostra a soma dos valores da matriz k\n",
    "print(k.sum())\n",
    "# Mostra a média dos valores da matriz k\n",
    "print(k.mean())\n",
    "# Mostra o valor do desvio padrão (standard deviation) dos valores da matiz k\n",
    "print(k.std())"
   ]
  },
  {
   "cell_type": "code",
   "execution_count": 60,
   "id": "2f7abe9b",
   "metadata": {},
   "outputs": [
    {
     "name": "stdout",
     "output_type": "stream",
     "text": [
      "[1. 2. 3. 4. 5. 6.]\n",
      "[2.71828183e+00 5.45981500e+01 8.10308393e+03 8.88611052e+06\n",
      " 7.20048993e+10 4.31123155e+15]\n"
     ]
    }
   ],
   "source": [
    "#funções universais, aplicadas a todos os elementos\n",
    "# Mostra o valor da raiz quadrada de todos elementos\n",
    "k1 = np.array([1, 4, 9, 16, 25, 36])\n",
    "print(np.sqrt(k1))\n",
    "# Mostra o valor do exponencial de todos elementos\n",
    "print(np.exp(k1))"
   ]
  },
  {
   "cell_type": "code",
   "execution_count": 82,
   "id": "d2b9ec98",
   "metadata": {},
   "outputs": [
    {
     "name": "stdout",
     "output_type": "stream",
     "text": [
      "-------\n",
      "[1 2]\n",
      "-------\n",
      "[2 3 4 5 6]\n",
      "-------\n",
      "[5 6]\n"
     ]
    }
   ],
   "source": [
    "#extração de elementos\n",
    "m = np.array([1, 2, 3, 4, 5, 6])\n",
    "# Mostra o elemento da posição 2\n",
    "m[1]\n",
    "print(\"-------\")\n",
    "# Mostra o array criado a partir da posição 0, dois elementos\n",
    "print(m[0:2])\n",
    "print(\"-------\")\n",
    "# Mostra o array criado a partir da 2a posição\n",
    "# até todo o restante do array\n",
    "print(m[1:])\n",
    "print(\"-------\")\n",
    "# Mostra o array criado a partir da antepenúltima\n",
    "#posição até o final\n",
    "print(m[-2:])"
   ]
  },
  {
   "cell_type": "code",
   "execution_count": 76,
   "id": "bba2d757",
   "metadata": {},
   "outputs": [
    {
     "name": "stdout",
     "output_type": "stream",
     "text": [
      "[[4 5]\n",
      " [6 1]\n",
      " [7 4]]\n",
      "-------\n",
      "[4 5]\n",
      "-------\n",
      "[6 1]\n",
      "-------\n",
      "[7 4]\n",
      "-------\n",
      "[4 6 7]\n",
      "-------\n",
      "[5 1 4]\n"
     ]
    }
   ],
   "source": [
    "#extração de linhas e colunas\n",
    "l = np.array([[4, 5], [6, 1], [7, 4]])\n",
    "print(l)\n",
    "print(\"-------\")\n",
    "#primeira linha, todas as colunas\n",
    "l_linha_1 = l[0, :]\n",
    "print(l_linha_1)\n",
    "print(\"-------\")\n",
    "#segunda linha\n",
    "l_linha_2 = l[1, :]\n",
    "print(l_linha_2)\n",
    "print(\"-------\")\n",
    "#terceira linha\n",
    "l_linha_3 = l[2, :]\n",
    "print(l_linha_3)\n",
    "print(\"-------\")\n",
    "#todas as linhas, primeira coluna\n",
    "l_coluna_1 = l[:, 0]\n",
    "print(l_coluna_1)\n",
    "print(\"-------\")\n",
    "#todas as linhas, segunda coluna\n",
    "l_coluna_2 = l[:, 1]\n",
    "print(l_coluna_2)"
   ]
  },
  {
   "cell_type": "markdown",
   "id": "80fe8a48",
   "metadata": {},
   "source": [
    "# Exercícios - Rodada 01\n",
    "Numpy - Fatiamento de arrays"
   ]
  },
  {
   "cell_type": "markdown",
   "id": "c8b1884e",
   "metadata": {},
   "source": [
    "2. Crie um array data com a seguinte lista: [1,2,3,4,5,6,7,8,9,10,11,1\n",
    "2,13,14,15,16]"
   ]
  },
  {
   "cell_type": "code",
   "execution_count": 5,
   "id": "2411ab13",
   "metadata": {},
   "outputs": [
    {
     "name": "stdout",
     "output_type": "stream",
     "text": [
      "[ 1  2  3  4  5  6  7  8  9 10 11  1  2 13 14 15 16]\n"
     ]
    }
   ],
   "source": [
    "mt = np.array([1,2,3,4,5,6,7,8,9,10,11,1,2,13,14,15,16])\n",
    "print(mt)"
   ]
  },
  {
   "cell_type": "markdown",
   "id": "fa63db44",
   "metadata": {},
   "source": [
    "3. Selecione apenas os dados diferentes de 4,6,8,10. Aloque em um \n",
    "array chamado data_2."
   ]
  },
  {
   "cell_type": "code",
   "execution_count": 22,
   "id": "28825016",
   "metadata": {},
   "outputs": [
    {
     "data": {
      "text/plain": [
       "array([ 4,  6,  8, 10])"
      ]
     },
     "execution_count": 22,
     "metadata": {},
     "output_type": "execute_result"
    }
   ],
   "source": [
    "excluidos = np.arange(4,11,2)\n",
    "excluidos"
   ]
  },
  {
   "cell_type": "code",
   "execution_count": 25,
   "id": "845ae163",
   "metadata": {},
   "outputs": [
    {
     "data": {
      "text/plain": [
       "array([ 1,  2,  3,  5,  7,  9, 11,  1,  2, 13, 14, 15, 16])"
      ]
     },
     "execution_count": 25,
     "metadata": {},
     "output_type": "execute_result"
    }
   ],
   "source": [
    "mt_2 = mt[[elemento not in excluidos for elemento in mt]]\n",
    "mt_2"
   ]
  },
  {
   "cell_type": "markdown",
   "id": "96b0719d",
   "metadata": {},
   "source": [
    "4. Crie um array dim2 que tenha 2 dimensões e a lista [1,2,3,4,5] na \n",
    "primeira linha e a lista [6,7,8,9,10] na 2a linha"
   ]
  },
  {
   "cell_type": "code",
   "execution_count": 27,
   "id": "da80c69d",
   "metadata": {},
   "outputs": [
    {
     "name": "stdout",
     "output_type": "stream",
     "text": [
      "[[ 1  2  3  4  5]\n",
      " [ 6  7  8  9 10]]\n"
     ]
    }
   ],
   "source": [
    "mt_2D = np.array([[1,2,3,4,5],[6,7,8,9,10]])\n",
    "print(mt_2D)"
   ]
  },
  {
   "cell_type": "markdown",
   "id": "0387f3c1",
   "metadata": {},
   "source": [
    "5. Crie um array chamado dim2_2 que seja uma fatia de dim2 e que \n",
    "contenha apenas os valores 3,4,8,9"
   ]
  },
  {
   "cell_type": "code",
   "execution_count": 50,
   "id": "3d855db2",
   "metadata": {},
   "outputs": [
    {
     "data": {
      "text/plain": [
       "array([3, 4, 8, 9])"
      ]
     },
     "execution_count": 50,
     "metadata": {},
     "output_type": "execute_result"
    }
   ],
   "source": [
    "mt_2D_2 = mt_2D[[0,0,1,1],[2,3,2,3]]\n",
    "mt_2D_2"
   ]
  },
  {
   "cell_type": "markdown",
   "id": "4f0e48c0",
   "metadata": {},
   "source": [
    "# Exercícios - Rodada 02\n",
    "Numpy - Funções úteis"
   ]
  },
  {
   "cell_type": "markdown",
   "id": "2fee7214",
   "metadata": {},
   "source": [
    "2. Crie um array data com a seguinte lista: [1,2,3,4,5,6,7,8,9,10,11,1\n",
    "2,13,14,15,16]"
   ]
  },
  {
   "cell_type": "code",
   "execution_count": 56,
   "id": "b049ba35",
   "metadata": {},
   "outputs": [
    {
     "name": "stdout",
     "output_type": "stream",
     "text": [
      "[ 1  2  3  4  5  6  7  8  9 10 11 12 13 14 15 16]\n"
     ]
    }
   ],
   "source": [
    "data = np.array([1,2,3,4,5,6,7,8,9,10,11,12,13,14,15,16])\n",
    "print(data)"
   ]
  },
  {
   "cell_type": "markdown",
   "id": "59af6f46",
   "metadata": {},
   "source": [
    "3. Verifique a dimensão, a quantidade de elementos e a forma desse \n",
    "array."
   ]
  },
  {
   "cell_type": "code",
   "execution_count": 57,
   "id": "cbd37b76",
   "metadata": {},
   "outputs": [
    {
     "data": {
      "text/plain": [
       "16"
      ]
     },
     "execution_count": 57,
     "metadata": {},
     "output_type": "execute_result"
    }
   ],
   "source": [
    "#quantidade de elementos\n",
    "data.size"
   ]
  },
  {
   "cell_type": "code",
   "execution_count": 58,
   "id": "2a74e335",
   "metadata": {},
   "outputs": [
    {
     "data": {
      "text/plain": [
       "(16,)"
      ]
     },
     "execution_count": 58,
     "metadata": {},
     "output_type": "execute_result"
    }
   ],
   "source": [
    "#forma do array\n",
    "data.shape"
   ]
  },
  {
   "cell_type": "code",
   "execution_count": 59,
   "id": "f9bb6d95",
   "metadata": {},
   "outputs": [
    {
     "data": {
      "text/plain": [
       "1"
      ]
     },
     "execution_count": 59,
     "metadata": {},
     "output_type": "execute_result"
    }
   ],
   "source": [
    "data.ndim"
   ]
  },
  {
   "cell_type": "markdown",
   "id": "5c585a1b",
   "metadata": {},
   "source": [
    "4. Crie um novo array chamado data2, com 4x4 elementos, \n",
    "aplicando a função reshape no array data."
   ]
  },
  {
   "cell_type": "code",
   "execution_count": 77,
   "id": "39a6d279",
   "metadata": {},
   "outputs": [
    {
     "name": "stdout",
     "output_type": "stream",
     "text": [
      "[[ 1  2  3  4]\n",
      " [ 5  6  7  8]\n",
      " [ 9 10 11 12]\n",
      " [13 14 15 16]]\n"
     ]
    }
   ],
   "source": [
    "data2 = data.reshape((4,4))\n",
    "print(data2)"
   ]
  },
  {
   "cell_type": "markdown",
   "id": "f69ee1ef",
   "metadata": {},
   "source": [
    "5. Verifique a dimensão, a quantidade de elementos e a forma desse \n",
    "array."
   ]
  },
  {
   "cell_type": "code",
   "execution_count": 71,
   "id": "f81d2a10",
   "metadata": {},
   "outputs": [
    {
     "data": {
      "text/plain": [
       "16"
      ]
     },
     "execution_count": 71,
     "metadata": {},
     "output_type": "execute_result"
    }
   ],
   "source": [
    "#quantidade de elementos\n",
    "data2.size"
   ]
  },
  {
   "cell_type": "code",
   "execution_count": 72,
   "id": "f3fb0b10",
   "metadata": {},
   "outputs": [
    {
     "data": {
      "text/plain": [
       "(4, 4)"
      ]
     },
     "execution_count": 72,
     "metadata": {},
     "output_type": "execute_result"
    }
   ],
   "source": [
    "#forma do array\n",
    "data2.shape"
   ]
  },
  {
   "cell_type": "code",
   "execution_count": 78,
   "id": "140deee3",
   "metadata": {},
   "outputs": [
    {
     "data": {
      "text/plain": [
       "2"
      ]
     },
     "execution_count": 78,
     "metadata": {},
     "output_type": "execute_result"
    }
   ],
   "source": [
    "data2.ndim"
   ]
  },
  {
   "cell_type": "markdown",
   "id": "e3b6a6fb",
   "metadata": {},
   "source": [
    "6. Crie um novo array chamado data_t, que seja a transposição do \n",
    "array data2."
   ]
  },
  {
   "cell_type": "code",
   "execution_count": 81,
   "id": "5e775c04",
   "metadata": {},
   "outputs": [
    {
     "name": "stdout",
     "output_type": "stream",
     "text": [
      "[[ 1  5  9 13]\n",
      " [ 2  6 10 14]\n",
      " [ 3  7 11 15]\n",
      " [ 4  8 12 16]]\n"
     ]
    }
   ],
   "source": [
    "data_t = data2.transpose()\n",
    "print(data_t)"
   ]
  },
  {
   "cell_type": "markdown",
   "id": "6becf2ce",
   "metadata": {},
   "source": [
    "7. Use a função np.flatten() e crie o array data_flat."
   ]
  },
  {
   "cell_type": "code",
   "execution_count": 83,
   "id": "955cae72",
   "metadata": {},
   "outputs": [
    {
     "name": "stdout",
     "output_type": "stream",
     "text": [
      "[ 1  2  3  4  5  6  7  8  9 10 11 12 13 14 15 16]\n"
     ]
    }
   ],
   "source": [
    "data_flat = data2.flatten()\n",
    "print(data_flat)"
   ]
  },
  {
   "cell_type": "markdown",
   "id": "3e65f133",
   "metadata": {},
   "source": [
    "#  Exercícios - Rodada 02\n",
    "Numpy - Operações com arrays"
   ]
  },
  {
   "cell_type": "code",
   "execution_count": 84,
   "id": "687d460e",
   "metadata": {},
   "outputs": [],
   "source": [
    "a = np.array([7])\n",
    "b = np.array([[4,6,8],[3,5,7]])\n",
    "c= np.array([3,3,3])\n",
    "d = np.array([[3,2,1],[1,2,3]])\n",
    "e = np.array([5,10])\n"
   ]
  },
  {
   "cell_type": "markdown",
   "id": "fef4d3c1",
   "metadata": {},
   "source": [
    "3. Faça as seguintes operações:\n",
    "a. a * b\n",
    "b. d - b\n",
    "c. c + b\n",
    "d. c + e"
   ]
  },
  {
   "cell_type": "code",
   "execution_count": 87,
   "id": "52a5fb21",
   "metadata": {},
   "outputs": [
    {
     "name": "stdout",
     "output_type": "stream",
     "text": [
      "[[28 42 56]\n",
      " [21 35 49]]\n"
     ]
    }
   ],
   "source": [
    "mt_a = a * b\n",
    "print(mt_a)"
   ]
  },
  {
   "cell_type": "code",
   "execution_count": 88,
   "id": "d0851bee",
   "metadata": {},
   "outputs": [
    {
     "name": "stdout",
     "output_type": "stream",
     "text": [
      "[[-1 -4 -7]\n",
      " [-2 -3 -4]]\n"
     ]
    }
   ],
   "source": [
    "mt_b = d-b\n",
    "print(mt_b)"
   ]
  },
  {
   "cell_type": "code",
   "execution_count": 89,
   "id": "2d8be40f",
   "metadata": {},
   "outputs": [
    {
     "name": "stdout",
     "output_type": "stream",
     "text": [
      "[[ 7  9 11]\n",
      " [ 6  8 10]]\n"
     ]
    }
   ],
   "source": [
    "mt_c = c+b\n",
    "print(mt_c)"
   ]
  },
  {
   "cell_type": "code",
   "execution_count": 90,
   "id": "00e8408f",
   "metadata": {
    "collapsed": true
   },
   "outputs": [
    {
     "ename": "ValueError",
     "evalue": "operands could not be broadcast together with shapes (3,) (2,) ",
     "output_type": "error",
     "traceback": [
      "\u001b[1;31m---------------------------------------------------------------------------\u001b[0m",
      "\u001b[1;31mValueError\u001b[0m                                Traceback (most recent call last)",
      "\u001b[1;32m~\\AppData\\Local\\Temp\\ipykernel_10372\\2618142383.py\u001b[0m in \u001b[0;36m<module>\u001b[1;34m\u001b[0m\n\u001b[1;32m----> 1\u001b[1;33m \u001b[0mmt_d\u001b[0m \u001b[1;33m=\u001b[0m \u001b[0mc\u001b[0m\u001b[1;33m+\u001b[0m\u001b[0me\u001b[0m\u001b[1;33m\u001b[0m\u001b[1;33m\u001b[0m\u001b[0m\n\u001b[0m\u001b[0;32m      2\u001b[0m \u001b[0mprint\u001b[0m\u001b[1;33m(\u001b[0m\u001b[0mmt_d\u001b[0m\u001b[1;33m)\u001b[0m\u001b[1;33m\u001b[0m\u001b[1;33m\u001b[0m\u001b[0m\n",
      "\u001b[1;31mValueError\u001b[0m: operands could not be broadcast together with shapes (3,) (2,) "
     ]
    }
   ],
   "source": [
    "mt_d = c+e\n",
    "print(mt_d)"
   ]
  },
  {
   "cell_type": "markdown",
   "id": "1c252061",
   "metadata": {},
   "source": [
    "#  Exercícios - Rodada 03\n",
    "Numpy - Funções e métodos matemáticos"
   ]
  },
  {
   "cell_type": "markdown",
   "id": "42b3428c",
   "metadata": {},
   "source": [
    "2. Crie 2 arrays a e b com as seguintes listas:"
   ]
  },
  {
   "cell_type": "code",
   "execution_count": 91,
   "id": "5725b750",
   "metadata": {},
   "outputs": [
    {
     "name": "stdout",
     "output_type": "stream",
     "text": [
      "[[4 6 8]\n",
      " [3 5 7]]\n"
     ]
    }
   ],
   "source": [
    "array_a = np.array([[4,6,8],[3,5,7]])\n",
    "print(array_a)"
   ]
  },
  {
   "cell_type": "code",
   "execution_count": 93,
   "id": "4db60e45",
   "metadata": {},
   "outputs": [
    {
     "name": "stdout",
     "output_type": "stream",
     "text": [
      "[[11 13 17]\n",
      " [23 29 31]]\n"
     ]
    }
   ],
   "source": [
    "array_b = np.array([[11,13,17],[23,29,31]])\n",
    "print(array_b)"
   ]
  },
  {
   "cell_type": "markdown",
   "id": "08cabfe7",
   "metadata": {},
   "source": [
    "3. Use a função cbrt() e calcule a raiz cúbica dos arrays a e b."
   ]
  },
  {
   "cell_type": "code",
   "execution_count": 96,
   "id": "1898a90c",
   "metadata": {},
   "outputs": [
    {
     "name": "stdout",
     "output_type": "stream",
     "text": [
      "[[1.58740105 1.81712059 2.        ]\n",
      " [1.44224957 1.70997595 1.91293118]]\n"
     ]
    }
   ],
   "source": [
    "c = np.cbrt(array_a)\n",
    "print(c)"
   ]
  },
  {
   "cell_type": "code",
   "execution_count": 97,
   "id": "6eb386de",
   "metadata": {},
   "outputs": [
    {
     "name": "stdout",
     "output_type": "stream",
     "text": [
      "[[2.22398009 2.35133469 2.57128159]\n",
      " [2.84386698 3.07231683 3.14138065]]\n"
     ]
    }
   ],
   "source": [
    "d = np.cbrt(array_b)\n",
    "print(d)"
   ]
  },
  {
   "cell_type": "markdown",
   "id": "4a09b4c6",
   "metadata": {},
   "source": [
    "4. Calcule a soma cumulativa de a."
   ]
  },
  {
   "cell_type": "code",
   "execution_count": 98,
   "id": "e647d11f",
   "metadata": {},
   "outputs": [
    {
     "name": "stdout",
     "output_type": "stream",
     "text": [
      "[ 4 10 18 21 26 33]\n"
     ]
    }
   ],
   "source": [
    "e = np.cumsum(array_a)\n",
    "print(e)"
   ]
  },
  {
   "cell_type": "markdown",
   "id": "c8f6ccc3",
   "metadata": {},
   "source": [
    "5. Calcule a média de a e b"
   ]
  },
  {
   "cell_type": "code",
   "execution_count": 106,
   "id": "f222dab2",
   "metadata": {},
   "outputs": [
    {
     "name": "stdout",
     "output_type": "stream",
     "text": [
      "5.5\n",
      "----------\n",
      "20.666666666666668\n"
     ]
    }
   ],
   "source": [
    "f = np.mean(array_a)\n",
    "print(f)\n",
    "print('----------')\n",
    "g = np.mean(array_b)\n",
    "print(g)"
   ]
  },
  {
   "cell_type": "markdown",
   "id": "f4adc404",
   "metadata": {},
   "source": [
    "6. Aplique a função np.negative() no array b e soma com b. O que \n",
    "aconteceu?"
   ]
  },
  {
   "cell_type": "code",
   "execution_count": 110,
   "id": "11eb30d3",
   "metadata": {},
   "outputs": [
    {
     "name": "stdout",
     "output_type": "stream",
     "text": [
      "[[-11 -13 -17]\n",
      " [-23 -29 -31]]\n",
      "----------\n",
      "[[0 0 0]\n",
      " [0 0 0]]\n"
     ]
    }
   ],
   "source": [
    "h = np.negative(array_b)\n",
    "print(h)\n",
    "print('----------')\n",
    "i = h + array_b\n",
    "print(i)"
   ]
  },
  {
   "cell_type": "markdown",
   "id": "f8a94aaa",
   "metadata": {},
   "source": [
    "#  Exercícios - Rodada 03\n",
    "Numpy - Funções e métodos matemáticos"
   ]
  },
  {
   "cell_type": "markdown",
   "id": "5a221ae8",
   "metadata": {},
   "source": [
    "7. Crie 2 arrays arrays com as seguintes listas:\n",
    "a. [[1,2,3],[4,5,6]]\n",
    "b. [[2,4,6,8],[10,12,14,16]]\n",
    "c. [[11,13,17],[23,29,31]]\n",
    "d. [[13,14,5],[19,21,23]]"
   ]
  },
  {
   "cell_type": "code",
   "execution_count": 112,
   "id": "84f9a752",
   "metadata": {},
   "outputs": [],
   "source": [
    "a = np.array([[1,2,3],[4,5,6]])\n",
    "b = np.array([[2,4,6,8],[10,12,14,16]])\n",
    "c = np.array([[11,13,17],[23,29,31]])\n",
    "d = np.array([[13,14,5],[19,21,23]])"
   ]
  },
  {
   "cell_type": "markdown",
   "id": "8c4efb20",
   "metadata": {},
   "source": [
    "8. Concatene a e b. O que aconteceu? resp: Vai resultar em um erro, porque as matrizes não têm o mesmo tamanho."
   ]
  },
  {
   "cell_type": "code",
   "execution_count": 121,
   "id": "4b26cfb2",
   "metadata": {},
   "outputs": [
    {
     "ename": "ValueError",
     "evalue": "all the input array dimensions for the concatenation axis must match exactly, but along dimension 1, the array at index 0 has size 3 and the array at index 1 has size 4",
     "output_type": "error",
     "traceback": [
      "\u001b[1;31m---------------------------------------------------------------------------\u001b[0m",
      "\u001b[1;31mValueError\u001b[0m                                Traceback (most recent call last)",
      "\u001b[1;32m~\\AppData\\Local\\Temp\\ipykernel_10372\\1288662633.py\u001b[0m in \u001b[0;36m<module>\u001b[1;34m\u001b[0m\n\u001b[1;32m----> 1\u001b[1;33m \u001b[0mnp\u001b[0m\u001b[1;33m.\u001b[0m\u001b[0mconcatenate\u001b[0m\u001b[1;33m(\u001b[0m\u001b[1;33m(\u001b[0m\u001b[0ma\u001b[0m\u001b[1;33m,\u001b[0m\u001b[0mb\u001b[0m\u001b[1;33m)\u001b[0m\u001b[1;33m)\u001b[0m\u001b[1;33m\u001b[0m\u001b[1;33m\u001b[0m\u001b[0m\n\u001b[0m",
      "\u001b[1;32m<__array_function__ internals>\u001b[0m in \u001b[0;36mconcatenate\u001b[1;34m(*args, **kwargs)\u001b[0m\n",
      "\u001b[1;31mValueError\u001b[0m: all the input array dimensions for the concatenation axis must match exactly, but along dimension 1, the array at index 0 has size 3 and the array at index 1 has size 4"
     ]
    }
   ],
   "source": [
    "np.concatenate((a,b))"
   ]
  },
  {
   "cell_type": "markdown",
   "id": "988caa85",
   "metadata": {},
   "source": [
    "9. Concatene b e c, tanto usando o eixo 0 (linha) quanto o eixo 1 \n",
    "(coluna)."
   ]
  },
  {
   "cell_type": "code",
   "execution_count": 125,
   "id": "b72451db",
   "metadata": {},
   "outputs": [
    {
     "ename": "ValueError",
     "evalue": "all the input array dimensions for the concatenation axis must match exactly, but along dimension 1, the array at index 0 has size 4 and the array at index 1 has size 3",
     "output_type": "error",
     "traceback": [
      "\u001b[1;31m---------------------------------------------------------------------------\u001b[0m",
      "\u001b[1;31mValueError\u001b[0m                                Traceback (most recent call last)",
      "\u001b[1;32m~\\AppData\\Local\\Temp\\ipykernel_10372\\3335495030.py\u001b[0m in \u001b[0;36m<module>\u001b[1;34m\u001b[0m\n\u001b[1;32m----> 1\u001b[1;33m \u001b[0mnp\u001b[0m\u001b[1;33m.\u001b[0m\u001b[0mconcatenate\u001b[0m\u001b[1;33m(\u001b[0m\u001b[1;33m(\u001b[0m\u001b[0mb\u001b[0m\u001b[1;33m,\u001b[0m\u001b[0mc\u001b[0m\u001b[1;33m)\u001b[0m\u001b[1;33m,\u001b[0m\u001b[0maxis\u001b[0m\u001b[1;33m=\u001b[0m\u001b[1;36m0\u001b[0m\u001b[1;33m)\u001b[0m\u001b[1;33m\u001b[0m\u001b[1;33m\u001b[0m\u001b[0m\n\u001b[0m\u001b[0;32m      2\u001b[0m \u001b[1;33m\u001b[0m\u001b[0m\n\u001b[0;32m      3\u001b[0m \u001b[1;31m### Para concatenar os itens seguindo as linhas, as matrizes devem ter o mesmo número de colunas\u001b[0m\u001b[1;33m\u001b[0m\u001b[1;33m\u001b[0m\u001b[0m\n\u001b[0;32m      4\u001b[0m \u001b[1;31m## em ambas dimensões\u001b[0m\u001b[1;33m\u001b[0m\u001b[1;33m\u001b[0m\u001b[0m\n",
      "\u001b[1;32m<__array_function__ internals>\u001b[0m in \u001b[0;36mconcatenate\u001b[1;34m(*args, **kwargs)\u001b[0m\n",
      "\u001b[1;31mValueError\u001b[0m: all the input array dimensions for the concatenation axis must match exactly, but along dimension 1, the array at index 0 has size 4 and the array at index 1 has size 3"
     ]
    }
   ],
   "source": [
    "np.concatenate((b,c),axis=0) \n",
    "\n",
    "### Para concatenar os itens seguindo as linhas, as matrizes devem ter o mesmo número de colunas\n",
    "## em ambas dimensões, neste caso ele faz um empilhamento"
   ]
  },
  {
   "cell_type": "code",
   "execution_count": 123,
   "id": "09f0daa6",
   "metadata": {},
   "outputs": [
    {
     "data": {
      "text/plain": [
       "array([[ 2,  4,  6,  8, 11, 13, 17],\n",
       "       [10, 12, 14, 16, 23, 29, 31]])"
      ]
     },
     "execution_count": 123,
     "metadata": {},
     "output_type": "execute_result"
    }
   ],
   "source": [
    "np.concatenate((b,c),axis=1) \n",
    "# neste caso, o numpy gera uma combinação das linhas"
   ]
  },
  {
   "cell_type": "markdown",
   "id": "885f6078",
   "metadata": {},
   "source": [
    "10. Concatene a e d, tanto usando o eixo 0 (linha) quanto o eixo 1 \n",
    "(coluna)."
   ]
  },
  {
   "cell_type": "code",
   "execution_count": 126,
   "id": "7d24c2a6",
   "metadata": {},
   "outputs": [
    {
     "data": {
      "text/plain": [
       "array([[ 1,  2,  3],\n",
       "       [ 4,  5,  6],\n",
       "       [13, 14,  5],\n",
       "       [19, 21, 23]])"
      ]
     },
     "execution_count": 126,
     "metadata": {},
     "output_type": "execute_result"
    }
   ],
   "source": [
    "np.concatenate((a,d),axis=0)"
   ]
  },
  {
   "cell_type": "code",
   "execution_count": 127,
   "id": "73af3e69",
   "metadata": {},
   "outputs": [
    {
     "data": {
      "text/plain": [
       "array([[ 1,  2,  3, 13, 14,  5],\n",
       "       [ 4,  5,  6, 19, 21, 23]])"
      ]
     },
     "execution_count": 127,
     "metadata": {},
     "output_type": "execute_result"
    }
   ],
   "source": [
    "np.concatenate((a,d),axis=1)"
   ]
  },
  {
   "cell_type": "code",
   "execution_count": null,
   "id": "2a6755b3",
   "metadata": {},
   "outputs": [],
   "source": []
  }
 ],
 "metadata": {
  "kernelspec": {
   "display_name": "Python 3 (ipykernel)",
   "language": "python",
   "name": "python3"
  },
  "language_info": {
   "codemirror_mode": {
    "name": "ipython",
    "version": 3
   },
   "file_extension": ".py",
   "mimetype": "text/x-python",
   "name": "python",
   "nbconvert_exporter": "python",
   "pygments_lexer": "ipython3",
   "version": "3.9.13"
  }
 },
 "nbformat": 4,
 "nbformat_minor": 5
}
