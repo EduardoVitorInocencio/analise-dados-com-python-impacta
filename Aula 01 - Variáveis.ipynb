{
 "cells": [
  {
   "cell_type": "markdown",
   "id": "bd35da0c",
   "metadata": {},
   "source": [
    "EXERCÍCIO 01 - ABRA UM TERMINAL. DIGITE PYTHON, PARA ENTRAR NO MODO IDLE. \n",
    "\n",
    "a) ATRIBUA OS SEGUINTES VALORES À VARIÁVEIS, UM A UM.\n",
    "\n",
    "b) QUAIS SÃO OS TIPOS DAS VERIÁVEIS ACIMA?"
   ]
  },
  {
   "cell_type": "code",
   "execution_count": 2,
   "id": "1a24ade3",
   "metadata": {},
   "outputs": [
    {
     "name": "stdout",
     "output_type": "stream",
     "text": [
      "<class 'int'>\n",
      "<class 'float'>\n",
      "<class 'str'>\n",
      "<class 'complex'>\n"
     ]
    }
   ],
   "source": [
    "a = 347\n",
    "b = 2.71\n",
    "c = \"347\"\n",
    "d = 2+3j\n",
    "\n",
    "\n",
    "print(type(a))\n",
    "print(type(b))\n",
    "print(type(c))\n",
    "print(type(d))\n"
   ]
  },
  {
   "cell_type": "markdown",
   "id": "2131db1f",
   "metadata": {},
   "source": [
    "FAÇA UMA ATRIBUIÇÃO MÚLTIPLA DAS VARIÁVEIS DO EXERCÍCIO 02\n"
   ]
  },
  {
   "cell_type": "code",
   "execution_count": 4,
   "id": "f796ee65",
   "metadata": {},
   "outputs": [
    {
     "name": "stdout",
     "output_type": "stream",
     "text": [
      "347\n",
      "2.71\n",
      "347\n",
      "(2+3j)\n"
     ]
    }
   ],
   "source": [
    "a,b,c,d = 347, 2.71,\"347\",2+3j\n",
    "\n",
    "print(a)\n",
    "print(b)\n",
    "print(c)\n",
    "print(d)\n",
    "\n"
   ]
  },
  {
   "cell_type": "markdown",
   "id": "5c2cf1fc",
   "metadata": {},
   "source": [
    "Declare a seguinte variável e verifique o que acontece:teste = true"
   ]
  },
  {
   "cell_type": "code",
   "execution_count": 19,
   "id": "03832325",
   "metadata": {},
   "outputs": [
    {
     "name": "stdout",
     "output_type": "stream",
     "text": [
      "True\n"
     ]
    },
    {
     "data": {
      "text/plain": [
       "False"
      ]
     },
     "execution_count": 19,
     "metadata": {},
     "output_type": "execute_result"
    }
   ],
   "source": [
    "teste = True\n",
    "\n",
    "print(teste)\n",
    "teste==False\n"
   ]
  },
  {
   "cell_type": "markdown",
   "id": "25c1184a",
   "metadata": {},
   "source": [
    "6. Transforme as variáveis do exercício 2 conforme segue:\n",
    "    a. para float\n",
    "    b. para inteiro\n",
    "    c. para float\n",
    "    d. para string"
   ]
  },
  {
   "cell_type": "code",
   "execution_count": 6,
   "id": "209d2716",
   "metadata": {},
   "outputs": [
    {
     "data": {
      "text/plain": [
       "347.0"
      ]
     },
     "execution_count": 6,
     "metadata": {},
     "output_type": "execute_result"
    }
   ],
   "source": [
    "float(a)\n",
    "int(b)\n",
    "float(c)\n",
    "str(d)"
   ]
  },
  {
   "cell_type": "markdown",
   "id": "e401d07c",
   "metadata": {},
   "source": [
    "7. Crie uma variável complexa com os valores de 2.a e 2.b.\n"
   ]
  },
  {
   "cell_type": "code",
   "execution_count": 21,
   "id": "53f1548f",
   "metadata": {},
   "outputs": [
    {
     "data": {
      "text/plain": [
       "(2+2.71j)"
      ]
     },
     "execution_count": 21,
     "metadata": {},
     "output_type": "execute_result"
    }
   ],
   "source": [
    "varcomplx1 = complex(2,a)\n",
    "varcomplx1\n",
    "\n",
    "varcomplx2 = complex(2,b)\n",
    "varcomplx2"
   ]
  },
  {
   "cell_type": "code",
   "execution_count": 22,
   "id": "801b63e2",
   "metadata": {},
   "outputs": [],
   "source": [
    "a = 3\n",
    "b = 2\n"
   ]
  },
  {
   "cell_type": "code",
   "execution_count": 23,
   "id": "ad7c7327",
   "metadata": {},
   "outputs": [
    {
     "data": {
      "text/plain": [
       "True"
      ]
     },
     "execution_count": 23,
     "metadata": {},
     "output_type": "execute_result"
    }
   ],
   "source": [
    "a > b"
   ]
  },
  {
   "cell_type": "code",
   "execution_count": 24,
   "id": "734e31ce",
   "metadata": {},
   "outputs": [
    {
     "data": {
      "text/plain": [
       "False"
      ]
     },
     "execution_count": 24,
     "metadata": {},
     "output_type": "execute_result"
    }
   ],
   "source": [
    "a < b"
   ]
  },
  {
   "cell_type": "code",
   "execution_count": 25,
   "id": "a7b2bd09",
   "metadata": {},
   "outputs": [
    {
     "data": {
      "text/plain": [
       "False"
      ]
     },
     "execution_count": 25,
     "metadata": {},
     "output_type": "execute_result"
    }
   ],
   "source": [
    "not(a > b)"
   ]
  },
  {
   "cell_type": "code",
   "execution_count": 26,
   "id": "94c720a2",
   "metadata": {},
   "outputs": [
    {
     "data": {
      "text/plain": [
       "True"
      ]
     },
     "execution_count": 26,
     "metadata": {},
     "output_type": "execute_result"
    }
   ],
   "source": [
    "a > 2 and b <10"
   ]
  },
  {
   "cell_type": "code",
   "execution_count": 27,
   "id": "0e055669",
   "metadata": {},
   "outputs": [
    {
     "data": {
      "text/plain": [
       "False"
      ]
     },
     "execution_count": 27,
     "metadata": {},
     "output_type": "execute_result"
    }
   ],
   "source": [
    "a > 74 and b < 10"
   ]
  },
  {
   "cell_type": "code",
   "execution_count": null,
   "id": "7c198bd6",
   "metadata": {},
   "outputs": [],
   "source": []
  }
 ],
 "metadata": {
  "kernelspec": {
   "display_name": "Python 3 (ipykernel)",
   "language": "python",
   "name": "python3"
  },
  "language_info": {
   "codemirror_mode": {
    "name": "ipython",
    "version": 3
   },
   "file_extension": ".py",
   "mimetype": "text/x-python",
   "name": "python",
   "nbconvert_exporter": "python",
   "pygments_lexer": "ipython3",
   "version": "3.9.13"
  }
 },
 "nbformat": 4,
 "nbformat_minor": 5
}
