{
 "cells": [
  {
   "cell_type": "markdown",
   "id": "baef7b18",
   "metadata": {},
   "source": [
    "# Numpy\n",
    "\n",
    "_numpy_ é a abreviação de _numerical python_. Se trata de uma biblioteca de não nativa de _Python_ que possibilita cálculos númericos de uma forma bastante flexível e eficiente. Depois de instalar _numpy_, importamos a biblioteca e damos um apelido para ela chamando `import numpy as np` onde a palavra reservada `as` é opicional e o que vem em seguida é o apelido que damos para a biblioteca.\n",
    "\n",
    "Para instalar _numpy_ direto do _jupyter_ basta chamar `!conda install numpy` se você utiliza Anaconda ou `!pip install numpy` caso contrário. Se for instalar direto do _prompt_ omita o ponto de exclamação no início."
   ]
  },
  {
   "cell_type": "code",
   "execution_count": 1,
   "id": "cf6ebe2c",
   "metadata": {},
   "outputs": [],
   "source": [
    "import numpy as np"
   ]
  },
  {
   "cell_type": "markdown",
   "id": "b5725db7",
   "metadata": {},
   "source": [
    "É uma convenção chamar _numpy_ de _np_.\n",
    "\n",
    "Para instalar bibliotecas direto no _Juypyter_:\n",
    "\n",
    "* !conda install <nome da biblioteca>  \n",
    "* !pip install <nome da biblioteca>\n",
    "    \n",
    "O principal tipo utilizdo pelo _np_ é os `ndarray`. Um jeito de pensar nelas são matrizes de tamanhos e formas flexíveis. São bem parecidas com as listas porém mais eficientes no trato da memória."
   ]
  },
  {
   "cell_type": "code",
   "execution_count": 5,
   "id": "0ae25b7b",
   "metadata": {},
   "outputs": [
    {
     "data": {
      "text/plain": [
       "numpy.ndarray"
      ]
     },
     "execution_count": 5,
     "metadata": {},
     "output_type": "execute_result"
    }
   ],
   "source": [
    "type(np.arange(10))"
   ]
  },
  {
   "cell_type": "code",
   "execution_count": 7,
   "id": "676a2e9b",
   "metadata": {},
   "outputs": [
    {
     "data": {
      "text/plain": [
       "array([1, 2, 3])"
      ]
     },
     "execution_count": 7,
     "metadata": {},
     "output_type": "execute_result"
    }
   ],
   "source": [
    "array_1d = np.array([1, 2, 3])\n",
    "array_1d"
   ]
  },
  {
   "cell_type": "code",
   "execution_count": 8,
   "id": "eea8f8a5",
   "metadata": {},
   "outputs": [
    {
     "data": {
      "text/plain": [
       "array([[1, 2, 3],\n",
       "       [4, 5, 6]])"
      ]
     },
     "execution_count": 8,
     "metadata": {},
     "output_type": "execute_result"
    }
   ],
   "source": [
    "array_2d = np.array([[1, 2, 3], [4, 5, 6]])\n",
    "array_2d"
   ]
  },
  {
   "cell_type": "code",
   "execution_count": 11,
   "id": "385dd7b1",
   "metadata": {},
   "outputs": [
    {
     "data": {
      "text/plain": [
       "(2, 3)"
      ]
     },
     "execution_count": 11,
     "metadata": {},
     "output_type": "execute_result"
    }
   ],
   "source": [
    "array_2d.shape"
   ]
  },
  {
   "cell_type": "code",
   "execution_count": 13,
   "id": "7c42a513",
   "metadata": {},
   "outputs": [
    {
     "data": {
      "text/plain": [
       "array([1., 1., 1., 1., 1., 1., 1., 1., 1., 1.])"
      ]
     },
     "execution_count": 13,
     "metadata": {},
     "output_type": "execute_result"
    }
   ],
   "source": [
    "array_1d_uns = np.ones(10)\n",
    "array_1d_uns"
   ]
  },
  {
   "cell_type": "code",
   "execution_count": 16,
   "id": "dcbb72bc",
   "metadata": {},
   "outputs": [
    {
     "data": {
      "text/plain": [
       "array([[1., 1., 1., 1., 1., 1., 1., 1., 1., 1.],\n",
       "       [1., 1., 1., 1., 1., 1., 1., 1., 1., 1.],\n",
       "       [1., 1., 1., 1., 1., 1., 1., 1., 1., 1.],\n",
       "       [1., 1., 1., 1., 1., 1., 1., 1., 1., 1.],\n",
       "       [1., 1., 1., 1., 1., 1., 1., 1., 1., 1.]])"
      ]
     },
     "execution_count": 16,
     "metadata": {},
     "output_type": "execute_result"
    }
   ],
   "source": [
    "array_2d_uns = np.ones((5, 10))\n",
    "array_2d_uns"
   ]
  },
  {
   "cell_type": "code",
   "execution_count": 17,
   "id": "b9e41742",
   "metadata": {},
   "outputs": [
    {
     "data": {
      "text/plain": [
       "array([[[1., 1., 1., 1., 1., 1., 1., 1., 1., 1.],\n",
       "        [1., 1., 1., 1., 1., 1., 1., 1., 1., 1.],\n",
       "        [1., 1., 1., 1., 1., 1., 1., 1., 1., 1.],\n",
       "        [1., 1., 1., 1., 1., 1., 1., 1., 1., 1.],\n",
       "        [1., 1., 1., 1., 1., 1., 1., 1., 1., 1.]],\n",
       "\n",
       "       [[1., 1., 1., 1., 1., 1., 1., 1., 1., 1.],\n",
       "        [1., 1., 1., 1., 1., 1., 1., 1., 1., 1.],\n",
       "        [1., 1., 1., 1., 1., 1., 1., 1., 1., 1.],\n",
       "        [1., 1., 1., 1., 1., 1., 1., 1., 1., 1.],\n",
       "        [1., 1., 1., 1., 1., 1., 1., 1., 1., 1.]]])"
      ]
     },
     "execution_count": 17,
     "metadata": {},
     "output_type": "execute_result"
    }
   ],
   "source": [
    "array_3d_uns = np.ones((2, 5, 10))\n",
    "array_3d_uns"
   ]
  },
  {
   "cell_type": "code",
   "execution_count": 18,
   "id": "b668e0af",
   "metadata": {},
   "outputs": [
    {
     "data": {
      "text/plain": [
       "array([[[0., 0., 0., 0., 0., 0., 0., 0., 0., 0.],\n",
       "        [0., 0., 0., 0., 0., 0., 0., 0., 0., 0.],\n",
       "        [0., 0., 0., 0., 0., 0., 0., 0., 0., 0.],\n",
       "        [0., 0., 0., 0., 0., 0., 0., 0., 0., 0.],\n",
       "        [0., 0., 0., 0., 0., 0., 0., 0., 0., 0.]],\n",
       "\n",
       "       [[0., 0., 0., 0., 0., 0., 0., 0., 0., 0.],\n",
       "        [0., 0., 0., 0., 0., 0., 0., 0., 0., 0.],\n",
       "        [0., 0., 0., 0., 0., 0., 0., 0., 0., 0.],\n",
       "        [0., 0., 0., 0., 0., 0., 0., 0., 0., 0.],\n",
       "        [0., 0., 0., 0., 0., 0., 0., 0., 0., 0.]]])"
      ]
     },
     "execution_count": 18,
     "metadata": {},
     "output_type": "execute_result"
    }
   ],
   "source": [
    "np.zeros((2, 5, 10))"
   ]
  },
  {
   "cell_type": "code",
   "execution_count": 22,
   "id": "03dc56fd",
   "metadata": {},
   "outputs": [
    {
     "data": {
      "text/plain": [
       "array([[[20, 20, 20, 20, 20, 20, 20, 20, 20, 20],\n",
       "        [20, 20, 20, 20, 20, 20, 20, 20, 20, 20],\n",
       "        [20, 20, 20, 20, 20, 20, 20, 20, 20, 20],\n",
       "        [20, 20, 20, 20, 20, 20, 20, 20, 20, 20],\n",
       "        [20, 20, 20, 20, 20, 20, 20, 20, 20, 20]],\n",
       "\n",
       "       [[20, 20, 20, 20, 20, 20, 20, 20, 20, 20],\n",
       "        [20, 20, 20, 20, 20, 20, 20, 20, 20, 20],\n",
       "        [20, 20, 20, 20, 20, 20, 20, 20, 20, 20],\n",
       "        [20, 20, 20, 20, 20, 20, 20, 20, 20, 20],\n",
       "        [20, 20, 20, 20, 20, 20, 20, 20, 20, 20]]])"
      ]
     },
     "execution_count": 22,
     "metadata": {},
     "output_type": "execute_result"
    }
   ],
   "source": [
    "np.full((2, 5, 10), 20)"
   ]
  },
  {
   "cell_type": "code",
   "execution_count": 24,
   "id": "5778c807",
   "metadata": {},
   "outputs": [
    {
     "data": {
      "text/plain": [
       "array([[1, 2, 3],\n",
       "       [4, 5, 6]])"
      ]
     },
     "execution_count": 24,
     "metadata": {},
     "output_type": "execute_result"
    }
   ],
   "source": [
    "array_2d"
   ]
  },
  {
   "cell_type": "code",
   "execution_count": 23,
   "id": "e9315177",
   "metadata": {},
   "outputs": [
    {
     "data": {
      "text/plain": [
       "array([1, 2, 3])"
      ]
     },
     "execution_count": 23,
     "metadata": {},
     "output_type": "execute_result"
    }
   ],
   "source": [
    "array_2d[0]"
   ]
  },
  {
   "cell_type": "code",
   "execution_count": 25,
   "id": "c7ea4f28",
   "metadata": {},
   "outputs": [
    {
     "data": {
      "text/plain": [
       "2"
      ]
     },
     "execution_count": 25,
     "metadata": {},
     "output_type": "execute_result"
    }
   ],
   "source": [
    "array_2d[0,1]"
   ]
  },
  {
   "cell_type": "code",
   "execution_count": 26,
   "id": "654785c0",
   "metadata": {},
   "outputs": [
    {
     "data": {
      "text/plain": [
       "array([1, 2])"
      ]
     },
     "execution_count": 26,
     "metadata": {},
     "output_type": "execute_result"
    }
   ],
   "source": [
    "array_2d[0, :2]"
   ]
  },
  {
   "cell_type": "code",
   "execution_count": 27,
   "id": "441de78a",
   "metadata": {},
   "outputs": [
    {
     "data": {
      "text/plain": [
       "array([[1, 2]])"
      ]
     },
     "execution_count": 27,
     "metadata": {},
     "output_type": "execute_result"
    }
   ],
   "source": [
    "array_2d[:-1, :2]"
   ]
  },
  {
   "cell_type": "code",
   "execution_count": 28,
   "id": "daf9e834",
   "metadata": {},
   "outputs": [
    {
     "data": {
      "text/plain": [
       "(1, 2)"
      ]
     },
     "execution_count": 28,
     "metadata": {},
     "output_type": "execute_result"
    }
   ],
   "source": [
    "array_2d[:-1, :2].shape"
   ]
  },
  {
   "cell_type": "code",
   "execution_count": 29,
   "id": "fe14781e",
   "metadata": {},
   "outputs": [
    {
     "data": {
      "text/plain": [
       "(2,)"
      ]
     },
     "execution_count": 29,
     "metadata": {},
     "output_type": "execute_result"
    }
   ],
   "source": [
    "array_2d[0, :2].shape"
   ]
  },
  {
   "cell_type": "code",
   "execution_count": 30,
   "id": "620f63ca",
   "metadata": {},
   "outputs": [
    {
     "data": {
      "text/plain": [
       "array([1, 4])"
      ]
     },
     "execution_count": 30,
     "metadata": {},
     "output_type": "execute_result"
    }
   ],
   "source": [
    "array_2d[:,0]"
   ]
  },
  {
   "cell_type": "code",
   "execution_count": 31,
   "id": "4b11ab0e",
   "metadata": {},
   "outputs": [
    {
     "data": {
      "text/plain": [
       "array([[2, 3],\n",
       "       [5, 6]])"
      ]
     },
     "execution_count": 31,
     "metadata": {},
     "output_type": "execute_result"
    }
   ],
   "source": [
    "array_2d[:,1:]"
   ]
  },
  {
   "cell_type": "code",
   "execution_count": 44,
   "id": "7479a33a",
   "metadata": {},
   "outputs": [
    {
     "data": {
      "text/plain": [
       "array([[1, 2, 3],\n",
       "       [4, 5, 6]])"
      ]
     },
     "execution_count": 44,
     "metadata": {},
     "output_type": "execute_result"
    }
   ],
   "source": [
    "array_2d = np.array([[1, 2, 3], [4, 5, 6]])\n",
    "array_2d"
   ]
  },
  {
   "cell_type": "code",
   "execution_count": 45,
   "id": "a6ca3a7a",
   "metadata": {},
   "outputs": [
    {
     "data": {
      "text/plain": [
       "array([[2, 3],\n",
       "       [5, 6]])"
      ]
     },
     "execution_count": 45,
     "metadata": {},
     "output_type": "execute_result"
    }
   ],
   "source": [
    "array_2d_2 = array_2d[:,1:]\n",
    "array_2d_2"
   ]
  },
  {
   "cell_type": "code",
   "execution_count": 46,
   "id": "d2d038f5",
   "metadata": {},
   "outputs": [
    {
     "data": {
      "text/plain": [
       "array([[0, 2, 3],\n",
       "       [4, 5, 6]])"
      ]
     },
     "execution_count": 46,
     "metadata": {},
     "output_type": "execute_result"
    }
   ],
   "source": [
    "array_2d[0,0] = 0\n",
    "array_2d"
   ]
  },
  {
   "cell_type": "code",
   "execution_count": 48,
   "id": "b5703d5e",
   "metadata": {},
   "outputs": [
    {
     "data": {
      "text/plain": [
       "array([[0, 3],\n",
       "       [5, 6]])"
      ]
     },
     "execution_count": 48,
     "metadata": {},
     "output_type": "execute_result"
    }
   ],
   "source": [
    "array_2d[0,1] = 0\n",
    "array_2d_2"
   ]
  },
  {
   "cell_type": "code",
   "execution_count": 49,
   "id": "17830945",
   "metadata": {},
   "outputs": [],
   "source": [
    "array_2d_2[:,:] = 10"
   ]
  },
  {
   "cell_type": "code",
   "execution_count": 50,
   "id": "be7a5f0f",
   "metadata": {},
   "outputs": [
    {
     "data": {
      "text/plain": [
       "array([[10, 10],\n",
       "       [10, 10]])"
      ]
     },
     "execution_count": 50,
     "metadata": {},
     "output_type": "execute_result"
    }
   ],
   "source": [
    "array_2d_2"
   ]
  },
  {
   "cell_type": "code",
   "execution_count": 51,
   "id": "6ad70e6e",
   "metadata": {},
   "outputs": [
    {
     "data": {
      "text/plain": [
       "array([[ 0, 10, 10],\n",
       "       [ 4, 10, 10]])"
      ]
     },
     "execution_count": 51,
     "metadata": {},
     "output_type": "execute_result"
    }
   ],
   "source": [
    "array_2d"
   ]
  },
  {
   "cell_type": "code",
   "execution_count": 55,
   "id": "ff6c4334",
   "metadata": {},
   "outputs": [],
   "source": [
    "array_2d = np.array([[1, 2, 3], [4, 5, 6]])\n",
    "array_2d_2 = array_2d[:,1:].copy()\n",
    "array_2d[0,1] = 0\n",
    "array_2d_2[1:,:] = 10"
   ]
  },
  {
   "cell_type": "code",
   "execution_count": 56,
   "id": "a24d7ae9",
   "metadata": {},
   "outputs": [
    {
     "data": {
      "text/plain": [
       "array([[1, 0, 3],\n",
       "       [4, 5, 6]])"
      ]
     },
     "execution_count": 56,
     "metadata": {},
     "output_type": "execute_result"
    }
   ],
   "source": [
    "array_2d"
   ]
  },
  {
   "cell_type": "code",
   "execution_count": 57,
   "id": "2949d1ae",
   "metadata": {},
   "outputs": [
    {
     "data": {
      "text/plain": [
       "array([[ 2,  3],\n",
       "       [10, 10]])"
      ]
     },
     "execution_count": 57,
     "metadata": {},
     "output_type": "execute_result"
    }
   ],
   "source": [
    "array_2d_2"
   ]
  },
  {
   "cell_type": "code",
   "execution_count": 60,
   "id": "90700395",
   "metadata": {},
   "outputs": [
    {
     "data": {
      "text/plain": [
       "array(['Bob', 'Jack', 'Jill', 'Bob', 'Billy'], dtype='<U5')"
      ]
     },
     "execution_count": 60,
     "metadata": {},
     "output_type": "execute_result"
    }
   ],
   "source": [
    "meu_array = np.arange(5)\n",
    "\n",
    "nomes = np.array(['Bob', 'Jack', 'Jill', 'Bob', 'Billy'])\n",
    "nomes"
   ]
  },
  {
   "cell_type": "code",
   "execution_count": 61,
   "id": "de38a746",
   "metadata": {},
   "outputs": [
    {
     "data": {
      "text/plain": [
       "array([0, 3])"
      ]
     },
     "execution_count": 61,
     "metadata": {},
     "output_type": "execute_result"
    }
   ],
   "source": [
    "meu_array[nomes == 'Bob']"
   ]
  },
  {
   "cell_type": "code",
   "execution_count": 66,
   "id": "a4e606ec",
   "metadata": {},
   "outputs": [
    {
     "data": {
      "text/plain": [
       "[True, False, False, True, True]"
      ]
     },
     "execution_count": 66,
     "metadata": {},
     "output_type": "execute_result"
    }
   ],
   "source": [
    "[x.startswith('B') for x in nomes]"
   ]
  },
  {
   "cell_type": "code",
   "execution_count": 68,
   "id": "1f9969da",
   "metadata": {},
   "outputs": [
    {
     "data": {
      "text/plain": [
       "array(['Bob', 'Bob', 'Billy'], dtype='<U5')"
      ]
     },
     "execution_count": 68,
     "metadata": {},
     "output_type": "execute_result"
    }
   ],
   "source": [
    "nomes[[x.startswith('B') for x in nomes]]"
   ]
  },
  {
   "cell_type": "code",
   "execution_count": 64,
   "id": "7c817993",
   "metadata": {},
   "outputs": [
    {
     "data": {
      "text/plain": [
       "['Bob', 'Bob', 'Billy']"
      ]
     },
     "execution_count": 64,
     "metadata": {},
     "output_type": "execute_result"
    }
   ],
   "source": [
    "[x for x in nomes if x.startswith('B')]"
   ]
  },
  {
   "cell_type": "code",
   "execution_count": 69,
   "id": "b9960169",
   "metadata": {},
   "outputs": [
    {
     "data": {
      "text/plain": [
       "(5,)"
      ]
     },
     "execution_count": 69,
     "metadata": {},
     "output_type": "execute_result"
    }
   ],
   "source": [
    "nomes.shape"
   ]
  },
  {
   "cell_type": "code",
   "execution_count": 70,
   "id": "d773f93c",
   "metadata": {},
   "outputs": [
    {
     "data": {
      "text/plain": [
       "1"
      ]
     },
     "execution_count": 70,
     "metadata": {},
     "output_type": "execute_result"
    }
   ],
   "source": [
    "nomes.ndim"
   ]
  },
  {
   "cell_type": "code",
   "execution_count": 71,
   "id": "6db8653d",
   "metadata": {},
   "outputs": [
    {
     "data": {
      "text/plain": [
       "5"
      ]
     },
     "execution_count": 71,
     "metadata": {},
     "output_type": "execute_result"
    }
   ],
   "source": [
    "len(nomes)"
   ]
  },
  {
   "cell_type": "code",
   "execution_count": 72,
   "id": "3694a045",
   "metadata": {},
   "outputs": [
    {
     "data": {
      "text/plain": [
       "5"
      ]
     },
     "execution_count": 72,
     "metadata": {},
     "output_type": "execute_result"
    }
   ],
   "source": [
    "nomes.size"
   ]
  },
  {
   "cell_type": "code",
   "execution_count": 76,
   "id": "cf2e7b5b",
   "metadata": {},
   "outputs": [
    {
     "data": {
      "text/plain": [
       "array(['Bob', 'Jack', 'Jill', 'Bob', 'Billy'], dtype='<U5')"
      ]
     },
     "execution_count": 76,
     "metadata": {},
     "output_type": "execute_result"
    }
   ],
   "source": [
    "nomes.reshape(5,)"
   ]
  },
  {
   "cell_type": "code",
   "execution_count": 78,
   "id": "8ac22026",
   "metadata": {},
   "outputs": [
    {
     "data": {
      "text/plain": [
       "(5,)"
      ]
     },
     "execution_count": 78,
     "metadata": {},
     "output_type": "execute_result"
    }
   ],
   "source": [
    "nomes.shape"
   ]
  },
  {
   "cell_type": "code",
   "execution_count": 81,
   "id": "a3c9f790",
   "metadata": {},
   "outputs": [
    {
     "data": {
      "text/plain": [
       "(1, 5)"
      ]
     },
     "execution_count": 81,
     "metadata": {},
     "output_type": "execute_result"
    }
   ],
   "source": [
    "nomes = nomes.reshape(1,5)\n",
    "nomes.shape"
   ]
  },
  {
   "cell_type": "code",
   "execution_count": 84,
   "id": "4b904723",
   "metadata": {},
   "outputs": [
    {
     "data": {
      "text/plain": [
       "array([[1., 1., 1.],\n",
       "       [1., 1., 1.],\n",
       "       [1., 1., 1.],\n",
       "       [1., 1., 1.],\n",
       "       [1., 1., 1.],\n",
       "       [1., 1., 1.]])"
      ]
     },
     "execution_count": 84,
     "metadata": {},
     "output_type": "execute_result"
    }
   ],
   "source": [
    "arr_ones = np.ones((6, 3))\n",
    "arr_ones"
   ]
  },
  {
   "cell_type": "code",
   "execution_count": 86,
   "id": "b9533c32",
   "metadata": {},
   "outputs": [
    {
     "data": {
      "text/plain": [
       "2"
      ]
     },
     "execution_count": 86,
     "metadata": {},
     "output_type": "execute_result"
    }
   ],
   "source": [
    "len((6, 3))"
   ]
  },
  {
   "cell_type": "code",
   "execution_count": 88,
   "id": "c8b45569",
   "metadata": {},
   "outputs": [
    {
     "data": {
      "text/plain": [
       "2"
      ]
     },
     "execution_count": 88,
     "metadata": {},
     "output_type": "execute_result"
    }
   ],
   "source": [
    "arr_ones.ndim"
   ]
  },
  {
   "cell_type": "code",
   "execution_count": 89,
   "id": "4eb0d608",
   "metadata": {},
   "outputs": [
    {
     "data": {
      "text/plain": [
       "6"
      ]
     },
     "execution_count": 89,
     "metadata": {},
     "output_type": "execute_result"
    }
   ],
   "source": [
    "len(arr_ones)"
   ]
  },
  {
   "cell_type": "code",
   "execution_count": 90,
   "id": "029888ce",
   "metadata": {},
   "outputs": [
    {
     "data": {
      "text/plain": [
       "array([[[1., 1., 1.],\n",
       "        [1., 1., 1.],\n",
       "        [1., 1., 1.],\n",
       "        [1., 1., 1.],\n",
       "        [1., 1., 1.],\n",
       "        [1., 1., 1.]],\n",
       "\n",
       "       [[1., 1., 1.],\n",
       "        [1., 1., 1.],\n",
       "        [1., 1., 1.],\n",
       "        [1., 1., 1.],\n",
       "        [1., 1., 1.],\n",
       "        [1., 1., 1.]]])"
      ]
     },
     "execution_count": 90,
     "metadata": {},
     "output_type": "execute_result"
    }
   ],
   "source": [
    "arr_ones_3d = np.ones((2,6, 3))\n",
    "arr_ones_3d"
   ]
  },
  {
   "cell_type": "code",
   "execution_count": 92,
   "id": "39c2f055",
   "metadata": {},
   "outputs": [
    {
     "data": {
      "text/plain": [
       "3"
      ]
     },
     "execution_count": 92,
     "metadata": {},
     "output_type": "execute_result"
    }
   ],
   "source": [
    "arr_ones_3d.ndim"
   ]
  },
  {
   "cell_type": "code",
   "execution_count": 93,
   "id": "b616cce2",
   "metadata": {},
   "outputs": [
    {
     "data": {
      "text/plain": [
       "2"
      ]
     },
     "execution_count": 93,
     "metadata": {},
     "output_type": "execute_result"
    }
   ],
   "source": [
    "len(arr_ones_3d)"
   ]
  },
  {
   "cell_type": "code",
   "execution_count": 94,
   "id": "816e1a19",
   "metadata": {},
   "outputs": [
    {
     "data": {
      "text/plain": [
       "36"
      ]
     },
     "execution_count": 94,
     "metadata": {},
     "output_type": "execute_result"
    }
   ],
   "source": [
    "arr_ones_3d.size"
   ]
  },
  {
   "cell_type": "code",
   "execution_count": 95,
   "id": "21b3c753",
   "metadata": {},
   "outputs": [
    {
     "data": {
      "text/plain": [
       "array([[1, 0, 3],\n",
       "       [4, 5, 6]])"
      ]
     },
     "execution_count": 95,
     "metadata": {},
     "output_type": "execute_result"
    }
   ],
   "source": [
    "array_2d"
   ]
  },
  {
   "cell_type": "code",
   "execution_count": 96,
   "id": "1c7cfc48",
   "metadata": {},
   "outputs": [
    {
     "data": {
      "text/plain": [
       "array([[ 0, -1,  2],\n",
       "       [ 3,  4,  5]])"
      ]
     },
     "execution_count": 96,
     "metadata": {},
     "output_type": "execute_result"
    }
   ],
   "source": [
    "array_2d - 1"
   ]
  },
  {
   "cell_type": "code",
   "execution_count": 100,
   "id": "99506987",
   "metadata": {},
   "outputs": [
    {
     "data": {
      "text/plain": [
       "array([[-1,  0, -3],\n",
       "       [-4, -5, -6]])"
      ]
     },
     "execution_count": 100,
     "metadata": {},
     "output_type": "execute_result"
    }
   ],
   "source": [
    "array_2d = array_2d * -1\n",
    "array_2d"
   ]
  },
  {
   "cell_type": "code",
   "execution_count": 102,
   "id": "62ada8d0",
   "metadata": {},
   "outputs": [
    {
     "data": {
      "text/plain": [
       "array([[0, 1, 2],\n",
       "       [3, 4, 5]])"
      ]
     },
     "execution_count": 102,
     "metadata": {},
     "output_type": "execute_result"
    }
   ],
   "source": [
    "array2 = np.arange(6).reshape((2,3))\n",
    "array2"
   ]
  },
  {
   "cell_type": "code",
   "execution_count": 106,
   "id": "e27df64b",
   "metadata": {},
   "outputs": [
    {
     "data": {
      "text/plain": [
       "array([[False, False, False],\n",
       "       [ True,  True,  True]])"
      ]
     },
     "execution_count": 106,
     "metadata": {},
     "output_type": "execute_result"
    }
   ],
   "source": [
    "array_2d < array2 - 5"
   ]
  },
  {
   "cell_type": "code",
   "execution_count": 108,
   "id": "40e4de2a",
   "metadata": {},
   "outputs": [
    {
     "data": {
      "text/plain": [
       "array([[  0,   0,  -6],\n",
       "       [-12, -20, -30]])"
      ]
     },
     "execution_count": 108,
     "metadata": {},
     "output_type": "execute_result"
    }
   ],
   "source": [
    "array_2d * array2"
   ]
  },
  {
   "cell_type": "code",
   "execution_count": 107,
   "id": "67c88122",
   "metadata": {},
   "outputs": [
    {
     "data": {
      "text/plain": [
       "(3,)"
      ]
     },
     "execution_count": 107,
     "metadata": {},
     "output_type": "execute_result"
    }
   ],
   "source": [
    "array3 = np.arange(3)\n",
    "array3.shape"
   ]
  },
  {
   "cell_type": "code",
   "execution_count": 110,
   "id": "c6d564fe",
   "metadata": {},
   "outputs": [
    {
     "data": {
      "text/plain": [
       "array([0, 1, 2])"
      ]
     },
     "execution_count": 110,
     "metadata": {},
     "output_type": "execute_result"
    }
   ],
   "source": [
    "array3"
   ]
  },
  {
   "cell_type": "code",
   "execution_count": 109,
   "id": "c1cb01d5",
   "metadata": {},
   "outputs": [
    {
     "data": {
      "text/plain": [
       "array([[  0,   0,  -6],\n",
       "       [  0,  -5, -12]])"
      ]
     },
     "execution_count": 109,
     "metadata": {},
     "output_type": "execute_result"
    }
   ],
   "source": [
    "array_2d * array3"
   ]
  },
  {
   "cell_type": "code",
   "execution_count": 113,
   "id": "ef9ca801",
   "metadata": {},
   "outputs": [
    {
     "data": {
      "text/plain": [
       "array([[False, False, False],\n",
       "       [False, False, False]])"
      ]
     },
     "execution_count": 113,
     "metadata": {},
     "output_type": "execute_result"
    }
   ],
   "source": [
    "array_2d > array3 "
   ]
  },
  {
   "cell_type": "code",
   "execution_count": null,
   "id": "62e50b81",
   "metadata": {},
   "outputs": [],
   "source": []
  }
 ],
 "metadata": {
  "kernelspec": {
   "display_name": "Python 3",
   "language": "python",
   "name": "python3"
  },
  "language_info": {
   "codemirror_mode": {
    "name": "ipython",
    "version": 3
   },
   "file_extension": ".py",
   "mimetype": "text/x-python",
   "name": "python",
   "nbconvert_exporter": "python",
   "pygments_lexer": "ipython3",
   "version": "3.8.8"
  }
 },
 "nbformat": 4,
 "nbformat_minor": 5
}
