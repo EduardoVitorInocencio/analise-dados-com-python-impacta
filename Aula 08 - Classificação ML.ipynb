{
 "cells": [
  {
   "cell_type": "code",
   "execution_count": 3,
   "id": "0b683111",
   "metadata": {},
   "outputs": [],
   "source": [
    "from sklearn.linear_model import LinearRegression, LogisticRegression\n",
    "from sklearn.metrics import classification_report, confusion_matrix\n",
    "from sklearn.model_selection import train_test_split\n",
    "from sklearn.datasets import load_boston, load_iris\n",
    "from sklearn.datasets import load_diabetes\n",
    "import matplotlib.pyplot as plt\n",
    "import seaborn as sns\n",
    "import pandas as pd\n",
    "import numpy as np"
   ]
  },
  {
   "cell_type": "code",
   "execution_count": 5,
   "id": "45c75a54",
   "metadata": {},
   "outputs": [],
   "source": [
    "from sklearn.datasets import load_iris\n",
    "iris = load_iris(return_X_y = True)"
   ]
  },
  {
   "cell_type": "code",
   "execution_count": 6,
   "id": "12ee004d",
   "metadata": {},
   "outputs": [],
   "source": [
    "##Separando as variáveis preditoras (X) e das variáveis resposta (y), que é a classificação que queremos obter.\n",
    "\n",
    "X,y = iris"
   ]
  },
  {
   "cell_type": "code",
   "execution_count": 9,
   "id": "4eacf8af",
   "metadata": {},
   "outputs": [],
   "source": [
    "X_train, X_test, y_train, y_test = train_test_split(X, y, test_size=0.3, random_state = 0)"
   ]
  },
  {
   "cell_type": "code",
   "execution_count": 10,
   "id": "3fa38564",
   "metadata": {},
   "outputs": [
    {
     "data": {
      "text/plain": [
       "LogisticRegression()"
      ]
     },
     "execution_count": 10,
     "metadata": {},
     "output_type": "execute_result"
    }
   ],
   "source": [
    "##Criando o modelo de classificação\n",
    "clf = LogisticRegression()\n",
    "clf.fit(X_train, y_train)"
   ]
  },
  {
   "cell_type": "code",
   "execution_count": 11,
   "id": "650a69dd",
   "metadata": {},
   "outputs": [
    {
     "data": {
      "text/plain": [
       "array([2, 1, 0, 2, 0, 2, 0, 1, 1, 1, 2, 1, 1, 1, 1, 0, 1, 1, 0, 0, 2, 1,\n",
       "       0, 0, 2, 0, 0, 1, 1, 0, 2, 1, 0, 2, 2, 1, 0, 2, 1, 1, 2, 0, 2, 0,\n",
       "       0])"
      ]
     },
     "execution_count": 11,
     "metadata": {},
     "output_type": "execute_result"
    }
   ],
   "source": [
    "##Aplicando agora o modelo treinado nos dados de teste\n",
    "predito = clf.predict(X_test)\n",
    "predito"
   ]
  },
  {
   "cell_type": "code",
   "execution_count": 12,
   "id": "5f85384c",
   "metadata": {},
   "outputs": [
    {
     "data": {
      "text/plain": [
       "array([[1.31712097e-04, 5.98577988e-02, 9.40010489e-01],\n",
       "       [1.33483574e-02, 9.57044530e-01, 2.96071121e-02],\n",
       "       [9.82912524e-01, 1.70874205e-02, 5.57171200e-08],\n",
       "       [1.60416049e-06, 2.60970798e-02, 9.73901316e-01],\n",
       "       [9.68259780e-01, 3.17399846e-02, 2.35807563e-07],\n",
       "       [2.47803595e-06, 6.75861844e-03, 9.93238904e-01],\n",
       "       [9.80349295e-01, 1.96506019e-02, 1.03226767e-07],\n",
       "       [3.00647398e-03, 7.50197194e-01, 2.46796332e-01],\n",
       "       [1.62160978e-03, 7.41319743e-01, 2.57058647e-01],\n",
       "       [2.11257123e-02, 9.32808990e-01, 4.60652981e-02],\n",
       "       [1.02503818e-04, 1.57229173e-01, 8.42668323e-01],\n",
       "       [7.26131534e-03, 8.08735091e-01, 1.84003594e-01],\n",
       "       [4.34468234e-03, 7.84036608e-01, 2.11618710e-01],\n",
       "       [3.22881072e-03, 7.61227577e-01, 2.35543612e-01],\n",
       "       [4.08986922e-03, 7.03082578e-01, 2.92827552e-01],\n",
       "       [9.81563629e-01, 1.84362865e-02, 8.42118489e-08],\n",
       "       [7.00777901e-03, 7.50189106e-01, 2.42803115e-01],\n",
       "       [1.20065844e-02, 8.31542348e-01, 1.56451067e-01],\n",
       "       [9.65450452e-01, 3.45492370e-02, 3.11498848e-07],\n",
       "       [9.81122122e-01, 1.88777930e-02, 8.55076529e-08],\n",
       "       [8.83822422e-04, 1.93991477e-01, 8.05124701e-01],\n",
       "       [1.06483007e-02, 6.98643472e-01, 2.90708227e-01],\n",
       "       [9.41789202e-01, 5.82093035e-02, 1.49439825e-06],\n",
       "       [9.74087071e-01, 2.59126780e-02, 2.51150493e-07],\n",
       "       [1.46166832e-03, 4.31330618e-01, 5.67207714e-01],\n",
       "       [9.93621225e-01, 6.37876001e-03, 1.49875572e-08],\n",
       "       [9.47195590e-01, 5.28028347e-02, 1.57572967e-06],\n",
       "       [1.11592818e-02, 8.96773605e-01, 9.20671132e-02],\n",
       "       [1.43535197e-01, 8.49028832e-01, 7.43597122e-03],\n",
       "       [9.58840847e-01, 4.11585159e-02, 6.37386096e-07],\n",
       "       [1.12299502e-04, 1.20487570e-01, 8.79400131e-01],\n",
       "       [1.23002007e-02, 6.68354335e-01, 3.19345465e-01],\n",
       "       [9.65837569e-01, 3.41622160e-02, 2.15505555e-07],\n",
       "       [1.37138467e-03, 3.61242900e-01, 6.37385715e-01],\n",
       "       [1.76612668e-05, 3.70695789e-02, 9.62912760e-01],\n",
       "       [4.90616543e-02, 8.72316008e-01, 7.86223378e-02],\n",
       "       [9.40735734e-01, 5.92637304e-02, 5.35222340e-07],\n",
       "       [6.49507755e-04, 3.08833865e-01, 6.90516628e-01],\n",
       "       [1.82078482e-02, 8.55217459e-01, 1.26574692e-01],\n",
       "       [2.30342440e-02, 9.29726784e-01, 4.72389723e-02],\n",
       "       [4.21831221e-05, 8.12786546e-02, 9.18679162e-01],\n",
       "       [9.79907402e-01, 2.00924862e-02, 1.11378253e-07],\n",
       "       [1.76105781e-04, 1.56014788e-01, 8.43809107e-01],\n",
       "       [9.60714133e-01, 3.92849281e-02, 9.38764635e-07],\n",
       "       [9.67019814e-01, 3.29800134e-02, 1.72241724e-07]])"
      ]
     },
     "execution_count": 12,
     "metadata": {},
     "output_type": "execute_result"
    }
   ],
   "source": [
    "## Para verificar as probabilidades calculadas para cada item do dataset, usamos a função predict_prob()\n",
    "\n",
    "clf.predict_proba(X_test)"
   ]
  },
  {
   "cell_type": "code",
   "execution_count": 15,
   "id": "84597485",
   "metadata": {},
   "outputs": [],
   "source": [
    "##Para avaliar o re3sultado, podemos usar a função classification_report e \n",
    "##obter rapidamente as principais métricas de avaliação\n",
    "\n",
    "from sklearn.metrics import classification_report"
   ]
  },
  {
   "cell_type": "code",
   "execution_count": 20,
   "id": "f5623e51",
   "metadata": {},
   "outputs": [
    {
     "name": "stdout",
     "output_type": "stream",
     "text": [
      "              precision    recall  f1-score   support\n",
      "\n",
      "           0       1.00      1.00      1.00        16\n",
      "           1       1.00      0.94      0.97        18\n",
      "           2       0.92      1.00      0.96        11\n",
      "\n",
      "    accuracy                           0.98        45\n",
      "   macro avg       0.97      0.98      0.98        45\n",
      "weighted avg       0.98      0.98      0.98        45\n",
      "\n"
     ]
    }
   ],
   "source": [
    "print(classification_report(y_test, predito))"
   ]
  },
  {
   "cell_type": "markdown",
   "id": "ba6acf8d",
   "metadata": {},
   "source": [
    "# Exercícios"
   ]
  },
  {
   "cell_type": "markdown",
   "id": "52f45e86",
   "metadata": {},
   "source": [
    "1. Utilize os datasets embutidos no Scikit-Learn crie o conjunto de \n",
    "dados cancer, utilizando o argumento return_X_y=True. Pesquise \n",
    "sobre o dataset."
   ]
  },
  {
   "cell_type": "code",
   "execution_count": 24,
   "id": "062be96b",
   "metadata": {},
   "outputs": [],
   "source": [
    "from sklearn.datasets import load_breast_cancer\n",
    "cancer = load_breast_cancer(return_X_y=True)"
   ]
  },
  {
   "cell_type": "markdown",
   "id": "d062757c",
   "metadata": {},
   "source": [
    "2. Separe-o em X,y."
   ]
  },
  {
   "cell_type": "code",
   "execution_count": 47,
   "id": "3d399de2",
   "metadata": {},
   "outputs": [],
   "source": [
    "X,y = cancer"
   ]
  },
  {
   "cell_type": "markdown",
   "id": "24da3435",
   "metadata": {},
   "source": [
    "3. Faça a separação em amostra de treino e teste, deixando 30% \n",
    "para teste. Use random_state=42."
   ]
  },
  {
   "cell_type": "code",
   "execution_count": 27,
   "id": "56a5128e",
   "metadata": {},
   "outputs": [],
   "source": [
    "X_train, X_test, y_train, y_test = train_test_split(X, y, test_size=0.3, random_state = 42)"
   ]
  },
  {
   "cell_type": "markdown",
   "id": "59088d0d",
   "metadata": {},
   "source": [
    "4. Importe o LogisticRegression, crie o modelo de classificação clf."
   ]
  },
  {
   "cell_type": "code",
   "execution_count": 39,
   "id": "b69717e5",
   "metadata": {},
   "outputs": [],
   "source": [
    "clf = LogisticRegression(max_iter = 2500)"
   ]
  },
  {
   "cell_type": "markdown",
   "id": "b22e32d5",
   "metadata": {},
   "source": [
    "5. Treino o modelo aplicando a função fit() aos dados de treino. "
   ]
  },
  {
   "cell_type": "code",
   "execution_count": 40,
   "id": "0ad5c249",
   "metadata": {},
   "outputs": [
    {
     "data": {
      "text/plain": [
       "LogisticRegression(max_iter=2500)"
      ]
     },
     "execution_count": 40,
     "metadata": {},
     "output_type": "execute_result"
    }
   ],
   "source": [
    "clf.fit(X_train, y_train)"
   ]
  },
  {
   "cell_type": "markdown",
   "id": "a1f126ce",
   "metadata": {},
   "source": [
    "6. Faça a predição, aplicando a função predict aos dados X_train, , \n",
    "chamando o resultado de predito."
   ]
  },
  {
   "cell_type": "code",
   "execution_count": 48,
   "id": "088c5f85",
   "metadata": {},
   "outputs": [
    {
     "data": {
      "text/plain": [
       "array([1, 1, 1, 1, 1, 0, 1, 1, 1, 1, 1, 1, 0, 0, 0, 0, 1, 0, 1, 0, 1, 1,\n",
       "       1, 1, 1, 1, 1, 0, 1, 1, 1, 0, 1, 0, 0, 1, 1, 1, 0, 1, 1, 1, 1, 0,\n",
       "       1, 1, 1, 1, 1, 0, 1, 0, 0, 1, 1, 0, 1, 1, 1, 1, 1, 1, 1, 0, 0, 0,\n",
       "       1, 1, 0, 1, 1, 0, 1, 0, 1, 0, 1, 0, 1, 1, 0, 1, 1, 1, 0, 1, 0, 1,\n",
       "       0, 1, 0, 1, 0, 0, 1, 1, 1, 1, 0, 1, 1, 1, 0, 1, 1, 0, 1, 1, 0, 1,\n",
       "       1, 1, 1, 1, 1, 1, 0, 1, 1, 1, 0, 1, 0, 1, 1, 1, 0, 1, 0, 0, 1, 1,\n",
       "       0, 1, 0, 0, 1, 1, 1, 1, 0, 1, 1, 0, 1, 1, 1, 1, 1, 0, 1, 0, 1, 1,\n",
       "       0, 0, 1, 1, 0, 1, 0, 0, 1, 0, 0, 1, 1, 0, 0, 0, 1, 1, 1, 1, 0, 1,\n",
       "       0, 0, 0, 0, 1, 1, 1, 1, 1, 1, 1, 1, 0, 0, 1, 1, 0, 1, 1, 1, 1, 1,\n",
       "       0, 1, 1, 0, 0, 1, 0, 1, 0, 1, 1, 1, 1, 1, 1, 0, 1, 1, 0, 1, 1, 1,\n",
       "       1, 1, 1, 0, 1, 1, 0, 1, 0, 0, 0, 1, 0, 1, 1, 0, 0, 0, 1, 1, 1, 1,\n",
       "       1, 1, 1, 0, 1, 1, 1, 0, 1, 1, 0, 1, 1, 0, 1, 0, 0, 1, 1, 0, 1, 0,\n",
       "       0, 1, 0, 0, 1, 1, 0, 1, 0, 1, 1, 0, 1, 1, 0, 0, 0, 1, 1, 1, 0, 0,\n",
       "       1, 0, 0, 1, 1, 1, 0, 1, 0, 0, 0, 1, 1, 1, 0, 1, 1, 0, 0, 0, 0, 1,\n",
       "       0, 1, 1, 1, 1, 1, 1, 1, 0, 0, 0, 0, 1, 1, 1, 1, 0, 0, 0, 1, 1, 1,\n",
       "       1, 1, 0, 0, 0, 1, 1, 0, 0, 1, 0, 0, 0, 0, 1, 1, 1, 0, 1, 1, 1, 0,\n",
       "       1, 0, 1, 1, 1, 1, 1, 1, 1, 0, 1, 1, 1, 1, 1, 1, 1, 1, 1, 0, 1, 1,\n",
       "       1, 1, 1, 1, 1, 0, 0, 0, 1, 1, 0, 0, 0, 1, 0, 0, 1, 0, 1, 1, 1, 1,\n",
       "       0, 1])"
      ]
     },
     "execution_count": 48,
     "metadata": {},
     "output_type": "execute_result"
    }
   ],
   "source": [
    "predito = clf.predict(X_train)\n",
    "predito"
   ]
  },
  {
   "cell_type": "markdown",
   "id": "22722095",
   "metadata": {},
   "source": [
    "7. Utilize a função de métrica classification_report. O quão bom está \n",
    "seu modelo?"
   ]
  },
  {
   "cell_type": "code",
   "execution_count": 50,
   "id": "0ca20930",
   "metadata": {},
   "outputs": [
    {
     "name": "stdout",
     "output_type": "stream",
     "text": [
      "              precision    recall  f1-score   support\n",
      "\n",
      "           0       0.96      0.93      0.95       149\n",
      "           1       0.96      0.98      0.97       249\n",
      "\n",
      "    accuracy                           0.96       398\n",
      "   macro avg       0.96      0.95      0.96       398\n",
      "weighted avg       0.96      0.96      0.96       398\n",
      "\n"
     ]
    }
   ],
   "source": [
    "print(classification_report(y_train, predito))"
   ]
  }
 ],
 "metadata": {
  "kernelspec": {
   "display_name": "Python 3 (ipykernel)",
   "language": "python",
   "name": "python3"
  },
  "language_info": {
   "codemirror_mode": {
    "name": "ipython",
    "version": 3
   },
   "file_extension": ".py",
   "mimetype": "text/x-python",
   "name": "python",
   "nbconvert_exporter": "python",
   "pygments_lexer": "ipython3",
   "version": "3.9.13"
  }
 },
 "nbformat": 4,
 "nbformat_minor": 5
}
